{
 "cells": [
  {
   "cell_type": "code",
   "execution_count": 2,
   "id": "38bc9052-2cb7-42b4-ab8c-14950e5de788",
   "metadata": {},
   "outputs": [],
   "source": [
    "import pandas as pd\n",
    "import numpy as np\n",
    "import seaborn as sns\n",
    "import matplotlib.pyplot as plt\n",
    "from fancyimpute import IterativeImputer\n",
    "\n",
    "from sklearn.preprocessing import MinMaxScaler\n",
    "from sklearn.preprocessing import StandardScaler\n",
    "\n",
    "from sklearn.model_selection import train_test_split\n",
    "\n",
    "from sklearn.metrics import confusion_matrix\n",
    "from sklearn.metrics import accuracy_score\n",
    "from sklearn.metrics import classification_report\n",
    "from sklearn.metrics import roc_auc_score\n",
    "\n",
    "from sklearn.linear_model import LogisticRegression\n",
    "from sklearn.tree import DecisionTreeClassifier\n",
    "\n",
    "from sklearn.ensemble import RandomForestClassifier\n",
    "\n",
    "import statsmodels\n",
    "import statsmodels.api as sm\n",
    "\n",
    "from sklearn.model_selection import RandomizedSearchCV\n",
    "from sklearn.model_selection import GridSearchCV\n",
    "\n",
    "from sklearn import metrics\n",
    "from sklearn.metrics import roc_curve, auc , f1_score\n",
    "from sklearn.metrics import confusion_matrix\n",
    "from sklearn.metrics import accuracy_score\n",
    "\n",
    "from sklearn.linear_model import LogisticRegression\n",
    "from sklearn.tree import DecisionTreeClassifier\n",
    "from sklearn.calibration import CalibratedClassifierCV\n",
    "from sklearn.ensemble import RandomForestClassifier\n",
    "from sklearn.naive_bayes import GaussianNB\n",
    "from sklearn.model_selection import GridSearchCV\n",
    "from sklearn.ensemble import StackingClassifier\n",
    "from sklearn.neighbors import KNeighborsClassifier\n",
    "from sklearn.model_selection import cross_val_score \n",
    "from sklearn.metrics import cohen_kappa_score\n",
    "from sklearn.metrics import roc_curve\n",
    "from sklearn.feature_selection import RFE\n",
    "\n",
    "from warnings import filterwarnings\n",
    "filterwarnings('ignore')"
   ]
  },
  {
   "cell_type": "code",
   "execution_count": 3,
   "id": "0a9ba77a-a750-44fc-968f-f26585c14e9e",
   "metadata": {},
   "outputs": [],
   "source": [
    "train=pd.read_csv('Train.csv')\n",
    "test=pd.read_csv('Test.csv')\n",
    "train_outpatientdata=pd.read_csv('Train_Outpatientdata.csv')\n",
    "test_outpatientdata=pd.read_csv('Test_Outpatientdata.csv')\n",
    "train_inpatientdata=pd.read_csv('Train_Inpatientdata.csv')\n",
    "test_inpatientdata=pd.read_csv('Test_Inpatientdata.csv')\n",
    "train_beneficiarydata=pd.read_csv('Train_Beneficiarydata.csv')\n",
    "test_beneficiarydata=pd.read_csv('Test_Beneficiarydata.csv')"
   ]
  },
  {
   "cell_type": "code",
   "execution_count": 4,
   "id": "b1ca3c7e-e934-4b17-9599-2f9a6b07030b",
   "metadata": {},
   "outputs": [],
   "source": [
    "pd.set_option('display.max_columns',1000)   #to view all columns in a dataset in jupyternotebook"
   ]
  },
  {
   "cell_type": "code",
   "execution_count": 5,
   "id": "ccac7d3b-4177-441d-a161-661dbbbf26b8",
   "metadata": {},
   "outputs": [
    {
     "name": "stdout",
     "output_type": "stream",
     "text": [
      "<class 'pandas.core.frame.DataFrame'>\n",
      "RangeIndex: 5410 entries, 0 to 5409\n",
      "Data columns (total 2 columns):\n",
      " #   Column          Non-Null Count  Dtype \n",
      "---  ------          --------------  ----- \n",
      " 0   Provider        5410 non-null   object\n",
      " 1   PotentialFraud  5410 non-null   object\n",
      "dtypes: object(2)\n",
      "memory usage: 84.7+ KB\n"
     ]
    }
   ],
   "source": [
    "train.info()"
   ]
  },
  {
   "cell_type": "code",
   "execution_count": 6,
   "id": "a576f6bf-0d97-4247-bc9d-881c1305a6cc",
   "metadata": {},
   "outputs": [
    {
     "data": {
      "text/plain": [
       "(517737, 27)"
      ]
     },
     "execution_count": 6,
     "metadata": {},
     "output_type": "execute_result"
    }
   ],
   "source": [
    "train_outpatientdata.shape"
   ]
  },
  {
   "cell_type": "code",
   "execution_count": 7,
   "id": "0696f0ab-8500-4bc1-bb01-feea01fb441a",
   "metadata": {},
   "outputs": [
    {
     "data": {
      "text/plain": [
       "Index(['BeneID', 'ClaimID', 'ClaimStartDt', 'ClaimEndDt', 'Provider',\n",
       "       'InscClaimAmtReimbursed', 'AttendingPhysician', 'OperatingPhysician',\n",
       "       'OtherPhysician', 'ClmDiagnosisCode_1', 'ClmDiagnosisCode_2',\n",
       "       'ClmDiagnosisCode_3', 'ClmDiagnosisCode_4', 'ClmDiagnosisCode_5',\n",
       "       'ClmDiagnosisCode_6', 'ClmDiagnosisCode_7', 'ClmDiagnosisCode_8',\n",
       "       'ClmDiagnosisCode_9', 'ClmDiagnosisCode_10', 'ClmProcedureCode_1',\n",
       "       'ClmProcedureCode_2', 'ClmProcedureCode_3', 'ClmProcedureCode_4',\n",
       "       'ClmProcedureCode_5', 'ClmProcedureCode_6', 'DeductibleAmtPaid',\n",
       "       'ClmAdmitDiagnosisCode'],\n",
       "      dtype='object')"
      ]
     },
     "execution_count": 7,
     "metadata": {},
     "output_type": "execute_result"
    }
   ],
   "source": [
    "train_outpatientdata.columns"
   ]
  },
  {
   "cell_type": "code",
   "execution_count": 8,
   "id": "1f87ee57-eec1-4b63-b97c-e900c9a900a9",
   "metadata": {},
   "outputs": [
    {
     "data": {
      "text/plain": [
       "(125841, 27)"
      ]
     },
     "execution_count": 8,
     "metadata": {},
     "output_type": "execute_result"
    }
   ],
   "source": [
    "test_outpatientdata.shape"
   ]
  },
  {
   "cell_type": "code",
   "execution_count": 9,
   "id": "e5398fe0-3041-464b-acc3-03568fda6112",
   "metadata": {},
   "outputs": [
    {
     "data": {
      "text/plain": [
       "Index(['BeneID', 'ClaimID', 'ClaimStartDt', 'ClaimEndDt', 'Provider',\n",
       "       'InscClaimAmtReimbursed', 'AttendingPhysician', 'OperatingPhysician',\n",
       "       'OtherPhysician', 'ClmDiagnosisCode_1', 'ClmDiagnosisCode_2',\n",
       "       'ClmDiagnosisCode_3', 'ClmDiagnosisCode_4', 'ClmDiagnosisCode_5',\n",
       "       'ClmDiagnosisCode_6', 'ClmDiagnosisCode_7', 'ClmDiagnosisCode_8',\n",
       "       'ClmDiagnosisCode_9', 'ClmDiagnosisCode_10', 'ClmProcedureCode_1',\n",
       "       'ClmProcedureCode_2', 'ClmProcedureCode_3', 'ClmProcedureCode_4',\n",
       "       'ClmProcedureCode_5', 'ClmProcedureCode_6', 'DeductibleAmtPaid',\n",
       "       'ClmAdmitDiagnosisCode'],\n",
       "      dtype='object')"
      ]
     },
     "execution_count": 9,
     "metadata": {},
     "output_type": "execute_result"
    }
   ],
   "source": [
    "test_outpatientdata.columns"
   ]
  },
  {
   "cell_type": "code",
   "execution_count": 10,
   "id": "ed0a06bd-8fc6-4951-9088-e3177d12783d",
   "metadata": {},
   "outputs": [
    {
     "data": {
      "text/plain": [
       "(40474, 30)"
      ]
     },
     "execution_count": 10,
     "metadata": {},
     "output_type": "execute_result"
    }
   ],
   "source": [
    "train_inpatientdata.shape"
   ]
  },
  {
   "cell_type": "code",
   "execution_count": 11,
   "id": "4df912bb-e090-4954-8454-99eb53d550ea",
   "metadata": {},
   "outputs": [
    {
     "data": {
      "text/plain": [
       "Index(['BeneID', 'ClaimID', 'ClaimStartDt', 'ClaimEndDt', 'Provider',\n",
       "       'InscClaimAmtReimbursed', 'AttendingPhysician', 'OperatingPhysician',\n",
       "       'OtherPhysician', 'AdmissionDt', 'ClmAdmitDiagnosisCode',\n",
       "       'DeductibleAmtPaid', 'DischargeDt', 'DiagnosisGroupCode',\n",
       "       'ClmDiagnosisCode_1', 'ClmDiagnosisCode_2', 'ClmDiagnosisCode_3',\n",
       "       'ClmDiagnosisCode_4', 'ClmDiagnosisCode_5', 'ClmDiagnosisCode_6',\n",
       "       'ClmDiagnosisCode_7', 'ClmDiagnosisCode_8', 'ClmDiagnosisCode_9',\n",
       "       'ClmDiagnosisCode_10', 'ClmProcedureCode_1', 'ClmProcedureCode_2',\n",
       "       'ClmProcedureCode_3', 'ClmProcedureCode_4', 'ClmProcedureCode_5',\n",
       "       'ClmProcedureCode_6'],\n",
       "      dtype='object')"
      ]
     },
     "execution_count": 11,
     "metadata": {},
     "output_type": "execute_result"
    }
   ],
   "source": [
    "train_inpatientdata.columns"
   ]
  },
  {
   "cell_type": "code",
   "execution_count": 12,
   "id": "efbd071d-99fc-491f-9c2b-7d05b34f8fd6",
   "metadata": {},
   "outputs": [
    {
     "data": {
      "text/plain": [
       "(9551, 30)"
      ]
     },
     "execution_count": 12,
     "metadata": {},
     "output_type": "execute_result"
    }
   ],
   "source": [
    "test_inpatientdata.shape"
   ]
  },
  {
   "cell_type": "code",
   "execution_count": 13,
   "id": "40ac85a2-aeda-4a8e-ad3b-8f207fb9970e",
   "metadata": {},
   "outputs": [
    {
     "data": {
      "text/plain": [
       "(138556, 25)"
      ]
     },
     "execution_count": 13,
     "metadata": {},
     "output_type": "execute_result"
    }
   ],
   "source": [
    "train_beneficiarydata.shape"
   ]
  },
  {
   "cell_type": "code",
   "execution_count": 14,
   "id": "14b89d85-0956-4e5b-a18b-0fca352fa645",
   "metadata": {},
   "outputs": [
    {
     "data": {
      "text/plain": [
       "(63968, 25)"
      ]
     },
     "execution_count": 14,
     "metadata": {},
     "output_type": "execute_result"
    }
   ],
   "source": [
    "test_beneficiarydata.shape"
   ]
  },
  {
   "cell_type": "code",
   "execution_count": 15,
   "id": "cf7fa538-e2a3-44bf-8a5b-53b0946d945b",
   "metadata": {},
   "outputs": [
    {
     "data": {
      "text/plain": [
       "(5410, 2)"
      ]
     },
     "execution_count": 15,
     "metadata": {},
     "output_type": "execute_result"
    }
   ],
   "source": [
    "train.shape"
   ]
  },
  {
   "cell_type": "code",
   "execution_count": 16,
   "id": "62e150b3-2ae7-4a3f-baee-c5dfd2ab9a74",
   "metadata": {},
   "outputs": [
    {
     "data": {
      "text/plain": [
       "(1353, 1)"
      ]
     },
     "execution_count": 16,
     "metadata": {},
     "output_type": "execute_result"
    }
   ],
   "source": [
    "test.shape"
   ]
  },
  {
   "cell_type": "markdown",
   "id": "9a8ecd17-8160-4a60-a07f-ef1c73e001fd",
   "metadata": {},
   "source": [
    "# Finding Datatypes"
   ]
  },
  {
   "cell_type": "code",
   "execution_count": 17,
   "id": "826b70c9-4fbe-4a98-a2b5-859efa507a37",
   "metadata": {},
   "outputs": [
    {
     "data": {
      "text/plain": [
       "Provider          object\n",
       "PotentialFraud    object\n",
       "dtype: object"
      ]
     },
     "execution_count": 17,
     "metadata": {},
     "output_type": "execute_result"
    }
   ],
   "source": [
    "train.dtypes"
   ]
  },
  {
   "cell_type": "markdown",
   "id": "9997db58-2bf7-441e-8735-f56484309959",
   "metadata": {},
   "source": [
    "                                 The train Dataset has 2 variables . Both are Categorical"
   ]
  },
  {
   "cell_type": "code",
   "execution_count": 18,
   "id": "c0824aff-fbc9-4c63-b500-2f637183b9d0",
   "metadata": {},
   "outputs": [
    {
     "data": {
      "text/plain": [
       "BeneID                             object\n",
       "DOB                                object\n",
       "DOD                                object\n",
       "Gender                              int64\n",
       "Race                                int64\n",
       "RenalDiseaseIndicator              object\n",
       "State                               int64\n",
       "County                              int64\n",
       "NoOfMonths_PartACov                 int64\n",
       "NoOfMonths_PartBCov                 int64\n",
       "ChronicCond_Alzheimer               int64\n",
       "ChronicCond_Heartfailure            int64\n",
       "ChronicCond_KidneyDisease           int64\n",
       "ChronicCond_Cancer                  int64\n",
       "ChronicCond_ObstrPulmonary          int64\n",
       "ChronicCond_Depression              int64\n",
       "ChronicCond_Diabetes                int64\n",
       "ChronicCond_IschemicHeart           int64\n",
       "ChronicCond_Osteoporasis            int64\n",
       "ChronicCond_rheumatoidarthritis     int64\n",
       "ChronicCond_stroke                  int64\n",
       "IPAnnualReimbursementAmt            int64\n",
       "IPAnnualDeductibleAmt               int64\n",
       "OPAnnualReimbursementAmt            int64\n",
       "OPAnnualDeductibleAmt               int64\n",
       "dtype: object"
      ]
     },
     "execution_count": 18,
     "metadata": {},
     "output_type": "execute_result"
    }
   ],
   "source": [
    "train_beneficiarydata.dtypes"
   ]
  },
  {
   "cell_type": "markdown",
   "id": "85f3966c-b825-409b-a9e7-e8c09eea14ec",
   "metadata": {},
   "source": [
    "                    Train Beneficiary Dataset has 25 variables, out of which 4 are categorical and 21 are numerical"
   ]
  },
  {
   "cell_type": "code",
   "execution_count": 19,
   "id": "c0aa02ad-91b9-4a12-9360-e7bd668536ea",
   "metadata": {},
   "outputs": [
    {
     "data": {
      "text/plain": [
       "BeneID                     object\n",
       "ClaimID                    object\n",
       "ClaimStartDt               object\n",
       "ClaimEndDt                 object\n",
       "Provider                   object\n",
       "InscClaimAmtReimbursed      int64\n",
       "AttendingPhysician         object\n",
       "OperatingPhysician         object\n",
       "OtherPhysician             object\n",
       "AdmissionDt                object\n",
       "ClmAdmitDiagnosisCode      object\n",
       "DeductibleAmtPaid         float64\n",
       "DischargeDt                object\n",
       "DiagnosisGroupCode         object\n",
       "ClmDiagnosisCode_1         object\n",
       "ClmDiagnosisCode_2         object\n",
       "ClmDiagnosisCode_3         object\n",
       "ClmDiagnosisCode_4         object\n",
       "ClmDiagnosisCode_5         object\n",
       "ClmDiagnosisCode_6         object\n",
       "ClmDiagnosisCode_7         object\n",
       "ClmDiagnosisCode_8         object\n",
       "ClmDiagnosisCode_9         object\n",
       "ClmDiagnosisCode_10        object\n",
       "ClmProcedureCode_1        float64\n",
       "ClmProcedureCode_2        float64\n",
       "ClmProcedureCode_3        float64\n",
       "ClmProcedureCode_4        float64\n",
       "ClmProcedureCode_5        float64\n",
       "ClmProcedureCode_6        float64\n",
       "dtype: object"
      ]
     },
     "execution_count": 19,
     "metadata": {},
     "output_type": "execute_result"
    }
   ],
   "source": [
    "train_inpatientdata.dtypes"
   ]
  },
  {
   "cell_type": "markdown",
   "id": "082362ee-002f-4915-b79e-0f320e044362",
   "metadata": {},
   "source": [
    "                 Train Inpatient dataset has 30 variables out of which 22 are categorical and 8 are numerical"
   ]
  },
  {
   "cell_type": "code",
   "execution_count": 20,
   "id": "4052bd7c-a935-41ab-8687-1d3d9c5f79bf",
   "metadata": {},
   "outputs": [
    {
     "data": {
      "text/plain": [
       "BeneID                     object\n",
       "ClaimID                    object\n",
       "ClaimStartDt               object\n",
       "ClaimEndDt                 object\n",
       "Provider                   object\n",
       "InscClaimAmtReimbursed      int64\n",
       "AttendingPhysician         object\n",
       "OperatingPhysician         object\n",
       "OtherPhysician             object\n",
       "ClmDiagnosisCode_1         object\n",
       "ClmDiagnosisCode_2         object\n",
       "ClmDiagnosisCode_3         object\n",
       "ClmDiagnosisCode_4         object\n",
       "ClmDiagnosisCode_5         object\n",
       "ClmDiagnosisCode_6         object\n",
       "ClmDiagnosisCode_7         object\n",
       "ClmDiagnosisCode_8         object\n",
       "ClmDiagnosisCode_9         object\n",
       "ClmDiagnosisCode_10        object\n",
       "ClmProcedureCode_1        float64\n",
       "ClmProcedureCode_2        float64\n",
       "ClmProcedureCode_3        float64\n",
       "ClmProcedureCode_4        float64\n",
       "ClmProcedureCode_5        float64\n",
       "ClmProcedureCode_6        float64\n",
       "DeductibleAmtPaid           int64\n",
       "ClmAdmitDiagnosisCode      object\n",
       "dtype: object"
      ]
     },
     "execution_count": 20,
     "metadata": {},
     "output_type": "execute_result"
    }
   ],
   "source": [
    "train_outpatientdata.dtypes"
   ]
  },
  {
   "cell_type": "markdown",
   "id": "52b00239-93d0-403e-8a93-9949c5badb9e",
   "metadata": {},
   "source": [
    "                Train Outpatient dataset has 27 variables out of which 19 are categorical and 8 are numerical"
   ]
  },
  {
   "cell_type": "code",
   "execution_count": 21,
   "id": "1e050c22-f3dd-40da-949f-b7b4207aa171",
   "metadata": {},
   "outputs": [
    {
     "data": {
      "text/plain": [
       "Provider    object\n",
       "dtype: object"
      ]
     },
     "execution_count": 21,
     "metadata": {},
     "output_type": "execute_result"
    }
   ],
   "source": [
    "test.dtypes"
   ]
  },
  {
   "cell_type": "code",
   "execution_count": 22,
   "id": "f7e8df87-52e4-4a69-82ca-cc88ef4a3588",
   "metadata": {},
   "outputs": [
    {
     "data": {
      "text/plain": [
       "BeneID                             object\n",
       "DOB                                object\n",
       "DOD                                object\n",
       "Gender                              int64\n",
       "Race                                int64\n",
       "RenalDiseaseIndicator              object\n",
       "State                               int64\n",
       "County                              int64\n",
       "NoOfMonths_PartACov                 int64\n",
       "NoOfMonths_PartBCov                 int64\n",
       "ChronicCond_Alzheimer               int64\n",
       "ChronicCond_Heartfailure            int64\n",
       "ChronicCond_KidneyDisease           int64\n",
       "ChronicCond_Cancer                  int64\n",
       "ChronicCond_ObstrPulmonary          int64\n",
       "ChronicCond_Depression              int64\n",
       "ChronicCond_Diabetes                int64\n",
       "ChronicCond_IschemicHeart           int64\n",
       "ChronicCond_Osteoporasis            int64\n",
       "ChronicCond_rheumatoidarthritis     int64\n",
       "ChronicCond_stroke                  int64\n",
       "IPAnnualReimbursementAmt            int64\n",
       "IPAnnualDeductibleAmt               int64\n",
       "OPAnnualReimbursementAmt            int64\n",
       "OPAnnualDeductibleAmt               int64\n",
       "dtype: object"
      ]
     },
     "execution_count": 22,
     "metadata": {},
     "output_type": "execute_result"
    }
   ],
   "source": [
    "test_beneficiarydata.dtypes"
   ]
  },
  {
   "cell_type": "code",
   "execution_count": 23,
   "id": "88aeeabc-bbdc-4aaf-981b-070390a5f8f1",
   "metadata": {},
   "outputs": [
    {
     "data": {
      "text/plain": [
       "BeneID                     object\n",
       "ClaimID                    object\n",
       "ClaimStartDt               object\n",
       "ClaimEndDt                 object\n",
       "Provider                   object\n",
       "InscClaimAmtReimbursed      int64\n",
       "AttendingPhysician         object\n",
       "OperatingPhysician         object\n",
       "OtherPhysician             object\n",
       "AdmissionDt                object\n",
       "ClmAdmitDiagnosisCode      object\n",
       "DeductibleAmtPaid         float64\n",
       "DischargeDt                object\n",
       "DiagnosisGroupCode         object\n",
       "ClmDiagnosisCode_1         object\n",
       "ClmDiagnosisCode_2         object\n",
       "ClmDiagnosisCode_3         object\n",
       "ClmDiagnosisCode_4         object\n",
       "ClmDiagnosisCode_5         object\n",
       "ClmDiagnosisCode_6         object\n",
       "ClmDiagnosisCode_7         object\n",
       "ClmDiagnosisCode_8         object\n",
       "ClmDiagnosisCode_9         object\n",
       "ClmDiagnosisCode_10        object\n",
       "ClmProcedureCode_1        float64\n",
       "ClmProcedureCode_2        float64\n",
       "ClmProcedureCode_3        float64\n",
       "ClmProcedureCode_4        float64\n",
       "ClmProcedureCode_5        float64\n",
       "ClmProcedureCode_6        float64\n",
       "dtype: object"
      ]
     },
     "execution_count": 23,
     "metadata": {},
     "output_type": "execute_result"
    }
   ],
   "source": [
    "test_inpatientdata.dtypes"
   ]
  },
  {
   "cell_type": "code",
   "execution_count": 24,
   "id": "54fcada5-83eb-4b41-915b-8db802cd467c",
   "metadata": {},
   "outputs": [
    {
     "data": {
      "text/plain": [
       "BeneID                     object\n",
       "ClaimID                    object\n",
       "ClaimStartDt               object\n",
       "ClaimEndDt                 object\n",
       "Provider                   object\n",
       "InscClaimAmtReimbursed      int64\n",
       "AttendingPhysician         object\n",
       "OperatingPhysician         object\n",
       "OtherPhysician             object\n",
       "ClmDiagnosisCode_1         object\n",
       "ClmDiagnosisCode_2         object\n",
       "ClmDiagnosisCode_3         object\n",
       "ClmDiagnosisCode_4         object\n",
       "ClmDiagnosisCode_5         object\n",
       "ClmDiagnosisCode_6         object\n",
       "ClmDiagnosisCode_7         object\n",
       "ClmDiagnosisCode_8         object\n",
       "ClmDiagnosisCode_9         object\n",
       "ClmDiagnosisCode_10        object\n",
       "ClmProcedureCode_1        float64\n",
       "ClmProcedureCode_2        float64\n",
       "ClmProcedureCode_3        float64\n",
       "ClmProcedureCode_4        float64\n",
       "ClmProcedureCode_5        float64\n",
       "ClmProcedureCode_6        float64\n",
       "DeductibleAmtPaid           int64\n",
       "ClmAdmitDiagnosisCode      object\n",
       "dtype: object"
      ]
     },
     "execution_count": 24,
     "metadata": {},
     "output_type": "execute_result"
    }
   ],
   "source": [
    "test_outpatientdata.dtypes"
   ]
  },
  {
   "cell_type": "markdown",
   "id": "c441c2fa-5e65-4c79-b3ad-4aa4b7f3a520",
   "metadata": {},
   "source": [
    "# Outlier Treatment and Handling missing values for \"Train\" Dataset"
   ]
  },
  {
   "cell_type": "code",
   "execution_count": 25,
   "id": "03c5348b-f4fc-4fd7-973f-e568c87cbf4d",
   "metadata": {},
   "outputs": [
    {
     "data": {
      "text/html": [
       "<div>\n",
       "<style scoped>\n",
       "    .dataframe tbody tr th:only-of-type {\n",
       "        vertical-align: middle;\n",
       "    }\n",
       "\n",
       "    .dataframe tbody tr th {\n",
       "        vertical-align: top;\n",
       "    }\n",
       "\n",
       "    .dataframe thead th {\n",
       "        text-align: right;\n",
       "    }\n",
       "</style>\n",
       "<table border=\"1\" class=\"dataframe\">\n",
       "  <thead>\n",
       "    <tr style=\"text-align: right;\">\n",
       "      <th></th>\n",
       "      <th>Number of Missing Values</th>\n",
       "      <th>Percentage of Missing Values</th>\n",
       "    </tr>\n",
       "  </thead>\n",
       "  <tbody>\n",
       "    <tr>\n",
       "      <th>Provider</th>\n",
       "      <td>0</td>\n",
       "      <td>0.0</td>\n",
       "    </tr>\n",
       "    <tr>\n",
       "      <th>PotentialFraud</th>\n",
       "      <td>0</td>\n",
       "      <td>0.0</td>\n",
       "    </tr>\n",
       "  </tbody>\n",
       "</table>\n",
       "</div>"
      ],
      "text/plain": [
       "                Number of Missing Values  Percentage of Missing Values\n",
       "Provider                               0                           0.0\n",
       "PotentialFraud                         0                           0.0"
      ]
     },
     "execution_count": 25,
     "metadata": {},
     "output_type": "execute_result"
    }
   ],
   "source": [
    "Number_of_missingvalues=train.isnull().sum()\n",
    "total_entries=train.isnull().count()\n",
    "Percent=(Number_of_missingvalues/total_entries)*100\n",
    "missing_data=pd.concat([Number_of_missingvalues,Percent],axis=1,keys=['Number of Missing Values','Percentage of Missing Values'])\n",
    "missing_data"
   ]
  },
  {
   "cell_type": "markdown",
   "id": "067fb200-bc2f-4c64-9301-4335f5f805ec",
   "metadata": {},
   "source": [
    "                        No columns are dropped in train dataset as it doesn't have more than 80% missing values"
   ]
  },
  {
   "cell_type": "markdown",
   "id": "6ea332d6-e8c9-426e-aa56-a579d122c7a9",
   "metadata": {},
   "source": [
    "# Outlier Treatment and Handling missing values for \"train_beneficiarydata\" Dataset"
   ]
  },
  {
   "cell_type": "code",
   "execution_count": 26,
   "id": "2b5bba54-9b6c-4dba-95d9-f9519b0e7467",
   "metadata": {},
   "outputs": [
    {
     "data": {
      "text/plain": [
       "DOD                                137135\n",
       "BeneID                                  0\n",
       "ChronicCond_Cancer                      0\n",
       "OPAnnualReimbursementAmt                0\n",
       "IPAnnualDeductibleAmt                   0\n",
       "IPAnnualReimbursementAmt                0\n",
       "ChronicCond_stroke                      0\n",
       "ChronicCond_rheumatoidarthritis         0\n",
       "ChronicCond_Osteoporasis                0\n",
       "ChronicCond_IschemicHeart               0\n",
       "ChronicCond_Diabetes                    0\n",
       "ChronicCond_Depression                  0\n",
       "ChronicCond_ObstrPulmonary              0\n",
       "ChronicCond_KidneyDisease               0\n",
       "DOB                                     0\n",
       "ChronicCond_Heartfailure                0\n",
       "ChronicCond_Alzheimer                   0\n",
       "NoOfMonths_PartBCov                     0\n",
       "NoOfMonths_PartACov                     0\n",
       "County                                  0\n",
       "State                                   0\n",
       "RenalDiseaseIndicator                   0\n",
       "Race                                    0\n",
       "Gender                                  0\n",
       "OPAnnualDeductibleAmt                   0\n",
       "dtype: int64"
      ]
     },
     "execution_count": 26,
     "metadata": {},
     "output_type": "execute_result"
    }
   ],
   "source": [
    "Number_of_missingvalues=train_beneficiarydata.isnull().sum().sort_values(ascending=False)\n",
    "Number_of_missingvalues"
   ]
  },
  {
   "cell_type": "code",
   "execution_count": 27,
   "id": "a1caaf50-d695-4a2b-b362-8b9188707830",
   "metadata": {},
   "outputs": [
    {
     "data": {
      "text/plain": [
       "BeneID                             138556\n",
       "ChronicCond_Cancer                 138556\n",
       "OPAnnualReimbursementAmt           138556\n",
       "IPAnnualDeductibleAmt              138556\n",
       "IPAnnualReimbursementAmt           138556\n",
       "ChronicCond_stroke                 138556\n",
       "ChronicCond_rheumatoidarthritis    138556\n",
       "ChronicCond_Osteoporasis           138556\n",
       "ChronicCond_IschemicHeart          138556\n",
       "ChronicCond_Diabetes               138556\n",
       "ChronicCond_Depression             138556\n",
       "ChronicCond_ObstrPulmonary         138556\n",
       "ChronicCond_KidneyDisease          138556\n",
       "DOB                                138556\n",
       "ChronicCond_Heartfailure           138556\n",
       "ChronicCond_Alzheimer              138556\n",
       "NoOfMonths_PartBCov                138556\n",
       "NoOfMonths_PartACov                138556\n",
       "County                             138556\n",
       "State                              138556\n",
       "RenalDiseaseIndicator              138556\n",
       "Race                               138556\n",
       "Gender                             138556\n",
       "DOD                                138556\n",
       "OPAnnualDeductibleAmt              138556\n",
       "dtype: int64"
      ]
     },
     "execution_count": 27,
     "metadata": {},
     "output_type": "execute_result"
    }
   ],
   "source": [
    "total_entries=train_beneficiarydata.isnull().count().sort_values(ascending=False)\n",
    "total_entries"
   ]
  },
  {
   "cell_type": "code",
   "execution_count": 28,
   "id": "bf71a0ed-f62d-4bda-9bd5-60a1d0f3491b",
   "metadata": {},
   "outputs": [
    {
     "data": {
      "text/html": [
       "<div>\n",
       "<style scoped>\n",
       "    .dataframe tbody tr th:only-of-type {\n",
       "        vertical-align: middle;\n",
       "    }\n",
       "\n",
       "    .dataframe tbody tr th {\n",
       "        vertical-align: top;\n",
       "    }\n",
       "\n",
       "    .dataframe thead th {\n",
       "        text-align: right;\n",
       "    }\n",
       "</style>\n",
       "<table border=\"1\" class=\"dataframe\">\n",
       "  <thead>\n",
       "    <tr style=\"text-align: right;\">\n",
       "      <th></th>\n",
       "      <th>Number of Missing Values</th>\n",
       "      <th>Percentage of Missing Values</th>\n",
       "    </tr>\n",
       "  </thead>\n",
       "  <tbody>\n",
       "    <tr>\n",
       "      <th>DOD</th>\n",
       "      <td>137135</td>\n",
       "      <td>98.974422</td>\n",
       "    </tr>\n",
       "    <tr>\n",
       "      <th>BeneID</th>\n",
       "      <td>0</td>\n",
       "      <td>0.000000</td>\n",
       "    </tr>\n",
       "    <tr>\n",
       "      <th>ChronicCond_Cancer</th>\n",
       "      <td>0</td>\n",
       "      <td>0.000000</td>\n",
       "    </tr>\n",
       "    <tr>\n",
       "      <th>OPAnnualReimbursementAmt</th>\n",
       "      <td>0</td>\n",
       "      <td>0.000000</td>\n",
       "    </tr>\n",
       "    <tr>\n",
       "      <th>IPAnnualDeductibleAmt</th>\n",
       "      <td>0</td>\n",
       "      <td>0.000000</td>\n",
       "    </tr>\n",
       "    <tr>\n",
       "      <th>IPAnnualReimbursementAmt</th>\n",
       "      <td>0</td>\n",
       "      <td>0.000000</td>\n",
       "    </tr>\n",
       "    <tr>\n",
       "      <th>ChronicCond_stroke</th>\n",
       "      <td>0</td>\n",
       "      <td>0.000000</td>\n",
       "    </tr>\n",
       "    <tr>\n",
       "      <th>ChronicCond_rheumatoidarthritis</th>\n",
       "      <td>0</td>\n",
       "      <td>0.000000</td>\n",
       "    </tr>\n",
       "    <tr>\n",
       "      <th>ChronicCond_Osteoporasis</th>\n",
       "      <td>0</td>\n",
       "      <td>0.000000</td>\n",
       "    </tr>\n",
       "    <tr>\n",
       "      <th>ChronicCond_IschemicHeart</th>\n",
       "      <td>0</td>\n",
       "      <td>0.000000</td>\n",
       "    </tr>\n",
       "    <tr>\n",
       "      <th>ChronicCond_Diabetes</th>\n",
       "      <td>0</td>\n",
       "      <td>0.000000</td>\n",
       "    </tr>\n",
       "    <tr>\n",
       "      <th>ChronicCond_Depression</th>\n",
       "      <td>0</td>\n",
       "      <td>0.000000</td>\n",
       "    </tr>\n",
       "    <tr>\n",
       "      <th>ChronicCond_ObstrPulmonary</th>\n",
       "      <td>0</td>\n",
       "      <td>0.000000</td>\n",
       "    </tr>\n",
       "    <tr>\n",
       "      <th>ChronicCond_KidneyDisease</th>\n",
       "      <td>0</td>\n",
       "      <td>0.000000</td>\n",
       "    </tr>\n",
       "    <tr>\n",
       "      <th>DOB</th>\n",
       "      <td>0</td>\n",
       "      <td>0.000000</td>\n",
       "    </tr>\n",
       "    <tr>\n",
       "      <th>ChronicCond_Heartfailure</th>\n",
       "      <td>0</td>\n",
       "      <td>0.000000</td>\n",
       "    </tr>\n",
       "    <tr>\n",
       "      <th>ChronicCond_Alzheimer</th>\n",
       "      <td>0</td>\n",
       "      <td>0.000000</td>\n",
       "    </tr>\n",
       "    <tr>\n",
       "      <th>NoOfMonths_PartBCov</th>\n",
       "      <td>0</td>\n",
       "      <td>0.000000</td>\n",
       "    </tr>\n",
       "    <tr>\n",
       "      <th>NoOfMonths_PartACov</th>\n",
       "      <td>0</td>\n",
       "      <td>0.000000</td>\n",
       "    </tr>\n",
       "    <tr>\n",
       "      <th>County</th>\n",
       "      <td>0</td>\n",
       "      <td>0.000000</td>\n",
       "    </tr>\n",
       "    <tr>\n",
       "      <th>State</th>\n",
       "      <td>0</td>\n",
       "      <td>0.000000</td>\n",
       "    </tr>\n",
       "    <tr>\n",
       "      <th>RenalDiseaseIndicator</th>\n",
       "      <td>0</td>\n",
       "      <td>0.000000</td>\n",
       "    </tr>\n",
       "    <tr>\n",
       "      <th>Race</th>\n",
       "      <td>0</td>\n",
       "      <td>0.000000</td>\n",
       "    </tr>\n",
       "    <tr>\n",
       "      <th>Gender</th>\n",
       "      <td>0</td>\n",
       "      <td>0.000000</td>\n",
       "    </tr>\n",
       "    <tr>\n",
       "      <th>OPAnnualDeductibleAmt</th>\n",
       "      <td>0</td>\n",
       "      <td>0.000000</td>\n",
       "    </tr>\n",
       "  </tbody>\n",
       "</table>\n",
       "</div>"
      ],
      "text/plain": [
       "                                 Number of Missing Values  \\\n",
       "DOD                                                137135   \n",
       "BeneID                                                  0   \n",
       "ChronicCond_Cancer                                      0   \n",
       "OPAnnualReimbursementAmt                                0   \n",
       "IPAnnualDeductibleAmt                                   0   \n",
       "IPAnnualReimbursementAmt                                0   \n",
       "ChronicCond_stroke                                      0   \n",
       "ChronicCond_rheumatoidarthritis                         0   \n",
       "ChronicCond_Osteoporasis                                0   \n",
       "ChronicCond_IschemicHeart                               0   \n",
       "ChronicCond_Diabetes                                    0   \n",
       "ChronicCond_Depression                                  0   \n",
       "ChronicCond_ObstrPulmonary                              0   \n",
       "ChronicCond_KidneyDisease                               0   \n",
       "DOB                                                     0   \n",
       "ChronicCond_Heartfailure                                0   \n",
       "ChronicCond_Alzheimer                                   0   \n",
       "NoOfMonths_PartBCov                                     0   \n",
       "NoOfMonths_PartACov                                     0   \n",
       "County                                                  0   \n",
       "State                                                   0   \n",
       "RenalDiseaseIndicator                                   0   \n",
       "Race                                                    0   \n",
       "Gender                                                  0   \n",
       "OPAnnualDeductibleAmt                                   0   \n",
       "\n",
       "                                 Percentage of Missing Values  \n",
       "DOD                                                 98.974422  \n",
       "BeneID                                               0.000000  \n",
       "ChronicCond_Cancer                                   0.000000  \n",
       "OPAnnualReimbursementAmt                             0.000000  \n",
       "IPAnnualDeductibleAmt                                0.000000  \n",
       "IPAnnualReimbursementAmt                             0.000000  \n",
       "ChronicCond_stroke                                   0.000000  \n",
       "ChronicCond_rheumatoidarthritis                      0.000000  \n",
       "ChronicCond_Osteoporasis                             0.000000  \n",
       "ChronicCond_IschemicHeart                            0.000000  \n",
       "ChronicCond_Diabetes                                 0.000000  \n",
       "ChronicCond_Depression                               0.000000  \n",
       "ChronicCond_ObstrPulmonary                           0.000000  \n",
       "ChronicCond_KidneyDisease                            0.000000  \n",
       "DOB                                                  0.000000  \n",
       "ChronicCond_Heartfailure                             0.000000  \n",
       "ChronicCond_Alzheimer                                0.000000  \n",
       "NoOfMonths_PartBCov                                  0.000000  \n",
       "NoOfMonths_PartACov                                  0.000000  \n",
       "County                                               0.000000  \n",
       "State                                                0.000000  \n",
       "RenalDiseaseIndicator                                0.000000  \n",
       "Race                                                 0.000000  \n",
       "Gender                                               0.000000  \n",
       "OPAnnualDeductibleAmt                                0.000000  "
      ]
     },
     "execution_count": 28,
     "metadata": {},
     "output_type": "execute_result"
    }
   ],
   "source": [
    "Percent=(Number_of_missingvalues/total_entries)*100\n",
    "missing_data=pd.concat([Number_of_missingvalues,Percent],axis=1,keys=['Number of Missing Values','Percentage of Missing Values'])\n",
    "missing_data"
   ]
  },
  {
   "cell_type": "markdown",
   "id": "f2573b96-1bd9-4437-aa93-7c6687cec5f7",
   "metadata": {},
   "source": [
    "                    Dropping 1 column DOD in train_beneficiary dataset as it has more than 80% missing values"
   ]
  },
  {
   "cell_type": "code",
   "execution_count": 29,
   "id": "57fe2af5-1f7b-46da-bd10-8390f74109af",
   "metadata": {},
   "outputs": [],
   "source": [
    "train_beneficiarydata.drop(['DOD'],axis=1,inplace=True)"
   ]
  },
  {
   "cell_type": "code",
   "execution_count": 30,
   "id": "58668c0f-392b-44be-ad66-028322c3e26a",
   "metadata": {},
   "outputs": [
    {
     "data": {
      "text/plain": [
       "Index(['BeneID', 'DOB', 'Gender', 'Race', 'RenalDiseaseIndicator', 'State',\n",
       "       'County', 'NoOfMonths_PartACov', 'NoOfMonths_PartBCov',\n",
       "       'ChronicCond_Alzheimer', 'ChronicCond_Heartfailure',\n",
       "       'ChronicCond_KidneyDisease', 'ChronicCond_Cancer',\n",
       "       'ChronicCond_ObstrPulmonary', 'ChronicCond_Depression',\n",
       "       'ChronicCond_Diabetes', 'ChronicCond_IschemicHeart',\n",
       "       'ChronicCond_Osteoporasis', 'ChronicCond_rheumatoidarthritis',\n",
       "       'ChronicCond_stroke', 'IPAnnualReimbursementAmt',\n",
       "       'IPAnnualDeductibleAmt', 'OPAnnualReimbursementAmt',\n",
       "       'OPAnnualDeductibleAmt'],\n",
       "      dtype='object')"
      ]
     },
     "execution_count": 30,
     "metadata": {},
     "output_type": "execute_result"
    }
   ],
   "source": [
    "train_beneficiarydata.columns"
   ]
  },
  {
   "cell_type": "code",
   "execution_count": 31,
   "id": "7dcda5f4-3aea-4118-b2ec-c073e484e30a",
   "metadata": {},
   "outputs": [
    {
     "data": {
      "image/png": "[encoded data removed]",
      "text/plain": [
       "<Figure size 1200x800 with 1 Axes>"
      ]
     },
     "metadata": {},
     "output_type": "display_data"
    }
   ],
   "source": [
    "plt.figure(figsize=(12,8))\n",
    "train_beneficiarydata.boxplot()\n",
    "plt.xticks(rotation=90)\n",
    "plt.show()"
   ]
  },
  {
   "cell_type": "markdown",
   "id": "29cb87a6-2d2b-4afa-b0b5-8c4a27482d61",
   "metadata": {},
   "source": [
    "                            In train Benefeciary DataFrame there are 4 variables with outliers"
   ]
  },
  {
   "cell_type": "code",
   "execution_count": 32,
   "id": "5263f480-da5f-455e-8074-dc9d597ba39f",
   "metadata": {},
   "outputs": [],
   "source": [
    "# finding outliers data points using UL(Upper limit), LL(Lower limit) and IQR(Inter quartile range)\n",
    "def outlier_treatment(col):\n",
    "  q1=np.quantile(col,0.25)\n",
    "  q3=np.quantile(col,0.75)\n",
    "  IQR=q3-q1\n",
    "  UL=q3+1.5*IQR\n",
    "  LL=q1-1.5*IQR\n",
    "  return UL,LL"
   ]
  },
  {
   "cell_type": "code",
   "execution_count": 33,
   "id": "5377f3a2-fffc-4712-821a-a5e239ffe6b8",
   "metadata": {},
   "outputs": [],
   "source": [
    "# replacing outlier datapoints with missing value\n",
    "for i in train_beneficiarydata.columns:\n",
    "  if train_beneficiarydata[i].dtype!='object':\n",
    "    UL,LL=outlier_treatment(train_beneficiarydata[i])\n",
    "    train_beneficiarydata[i]=np.where((train_beneficiarydata[i]>UL) | (train_beneficiarydata[i]<LL),np.nan,train_beneficiarydata[i])"
   ]
  },
  {
   "cell_type": "code",
   "execution_count": 34,
   "id": "9c335cdd-55ef-4b09-b892-1907579a939f",
   "metadata": {},
   "outputs": [
    {
     "data": {
      "text/plain": [
       "BeneID                                 0\n",
       "DOB                                    0\n",
       "Gender                                 0\n",
       "Race                               21499\n",
       "RenalDiseaseIndicator                  0\n",
       "State                                  0\n",
       "County                                 0\n",
       "NoOfMonths_PartACov                 1167\n",
       "NoOfMonths_PartBCov                 1654\n",
       "ChronicCond_Alzheimer                  0\n",
       "ChronicCond_Heartfailure               0\n",
       "ChronicCond_KidneyDisease              0\n",
       "ChronicCond_Cancer                 16621\n",
       "ChronicCond_ObstrPulmonary         32859\n",
       "ChronicCond_Depression                 0\n",
       "ChronicCond_Diabetes                   0\n",
       "ChronicCond_IschemicHeart              0\n",
       "ChronicCond_Osteoporasis               0\n",
       "ChronicCond_rheumatoidarthritis        0\n",
       "ChronicCond_stroke                 10954\n",
       "IPAnnualReimbursementAmt           26044\n",
       "IPAnnualDeductibleAmt               2717\n",
       "OPAnnualReimbursementAmt           11612\n",
       "OPAnnualDeductibleAmt              12020\n",
       "dtype: int64"
      ]
     },
     "execution_count": 34,
     "metadata": {},
     "output_type": "execute_result"
    }
   ],
   "source": [
    "train_beneficiarydata.isnull().sum()"
   ]
  },
  {
   "cell_type": "code",
   "execution_count": 35,
   "id": "99f0f735-05a7-4f34-896b-6e648e0292b7",
   "metadata": {},
   "outputs": [],
   "source": [
    "mice=IterativeImputer(random_state=102)\n",
    "train_beneficiarydata_mice=train_beneficiarydata.copy()"
   ]
  },
  {
   "cell_type": "code",
   "execution_count": 36,
   "id": "f0da722c-db38-4468-8c34-871e3a5ae2b6",
   "metadata": {},
   "outputs": [],
   "source": [
    "train_beneficiarydata_mice.loc[:,'IPAnnualReimbursementAmt':'OPAnnualDeductibleAmt']=mice.fit_transform(train_beneficiarydata_mice.loc[:,'IPAnnualReimbursementAmt':'OPAnnualDeductibleAmt'])"
   ]
  },
  {
   "cell_type": "code",
   "execution_count": 37,
   "id": "bd90ee96-e4ed-4681-b428-508a8e91b523",
   "metadata": {},
   "outputs": [
    {
     "data": {
      "text/plain": [
       "BeneID                             0\n",
       "DOB                                0\n",
       "Gender                             0\n",
       "Race                               0\n",
       "RenalDiseaseIndicator              0\n",
       "State                              0\n",
       "County                             0\n",
       "NoOfMonths_PartACov                0\n",
       "NoOfMonths_PartBCov                0\n",
       "ChronicCond_Alzheimer              0\n",
       "ChronicCond_Heartfailure           0\n",
       "ChronicCond_KidneyDisease          0\n",
       "ChronicCond_Cancer                 0\n",
       "ChronicCond_ObstrPulmonary         0\n",
       "ChronicCond_Depression             0\n",
       "ChronicCond_Diabetes               0\n",
       "ChronicCond_IschemicHeart          0\n",
       "ChronicCond_Osteoporasis           0\n",
       "ChronicCond_rheumatoidarthritis    0\n",
       "ChronicCond_stroke                 0\n",
       "IPAnnualReimbursementAmt           0\n",
       "IPAnnualDeductibleAmt              0\n",
       "OPAnnualReimbursementAmt           0\n",
       "OPAnnualDeductibleAmt              0\n",
       "dtype: int64"
      ]
     },
     "execution_count": 37,
     "metadata": {},
     "output_type": "execute_result"
    }
   ],
   "source": [
    "train_beneficiarydata_mice.loc[:,['Race','NoOfMonths_PartACov','NoOfMonths_PartBCov','ChronicCond_Cancer','ChronicCond_ObstrPulmonary','ChronicCond_stroke']]=mice.fit_transform(train_beneficiarydata_mice.loc[:,['Race','NoOfMonths_PartACov','NoOfMonths_PartBCov','ChronicCond_Cancer','ChronicCond_ObstrPulmonary','ChronicCond_stroke']])\n",
    "train_beneficiarydata_mice.isnull().sum()"
   ]
  },
  {
   "cell_type": "markdown",
   "id": "62364b9d-9a54-4fb3-828b-cc9f4003b88c",
   "metadata": {},
   "source": [
    "# Outliers Treatment and Handling Missing Values for 'train_inpatientdata' Dataset"
   ]
  },
  {
   "cell_type": "code",
   "execution_count": 38,
   "id": "fb209e32-3fd5-4bbf-9f2e-33042ff7b438",
   "metadata": {},
   "outputs": [
    {
     "data": {
      "text/html": [
       "<div>\n",
       "<style scoped>\n",
       "    .dataframe tbody tr th:only-of-type {\n",
       "        vertical-align: middle;\n",
       "    }\n",
       "\n",
       "    .dataframe tbody tr th {\n",
       "        vertical-align: top;\n",
       "    }\n",
       "\n",
       "    .dataframe thead th {\n",
       "        text-align: right;\n",
       "    }\n",
       "</style>\n",
       "<table border=\"1\" class=\"dataframe\">\n",
       "  <thead>\n",
       "    <tr style=\"text-align: right;\">\n",
       "      <th></th>\n",
       "      <th>Number of Missing Values</th>\n",
       "      <th>Percentage of Missing Values</th>\n",
       "    </tr>\n",
       "  </thead>\n",
       "  <tbody>\n",
       "    <tr>\n",
       "      <th>ClmProcedureCode_6</th>\n",
       "      <td>40474</td>\n",
       "      <td>100.000000</td>\n",
       "    </tr>\n",
       "    <tr>\n",
       "      <th>ClmProcedureCode_5</th>\n",
       "      <td>40465</td>\n",
       "      <td>99.977764</td>\n",
       "    </tr>\n",
       "    <tr>\n",
       "      <th>ClmProcedureCode_4</th>\n",
       "      <td>40358</td>\n",
       "      <td>99.713396</td>\n",
       "    </tr>\n",
       "    <tr>\n",
       "      <th>ClmProcedureCode_3</th>\n",
       "      <td>39509</td>\n",
       "      <td>97.615753</td>\n",
       "    </tr>\n",
       "    <tr>\n",
       "      <th>ClmDiagnosisCode_10</th>\n",
       "      <td>36547</td>\n",
       "      <td>90.297475</td>\n",
       "    </tr>\n",
       "    <tr>\n",
       "      <th>OtherPhysician</th>\n",
       "      <td>35784</td>\n",
       "      <td>88.412314</td>\n",
       "    </tr>\n",
       "    <tr>\n",
       "      <th>ClmProcedureCode_2</th>\n",
       "      <td>35020</td>\n",
       "      <td>86.524683</td>\n",
       "    </tr>\n",
       "    <tr>\n",
       "      <th>ClmProcedureCode_1</th>\n",
       "      <td>17326</td>\n",
       "      <td>42.807728</td>\n",
       "    </tr>\n",
       "    <tr>\n",
       "      <th>OperatingPhysician</th>\n",
       "      <td>16644</td>\n",
       "      <td>41.122696</td>\n",
       "    </tr>\n",
       "    <tr>\n",
       "      <th>ClmDiagnosisCode_9</th>\n",
       "      <td>13497</td>\n",
       "      <td>33.347334</td>\n",
       "    </tr>\n",
       "    <tr>\n",
       "      <th>ClmDiagnosisCode_8</th>\n",
       "      <td>9942</td>\n",
       "      <td>24.563918</td>\n",
       "    </tr>\n",
       "    <tr>\n",
       "      <th>ClmDiagnosisCode_7</th>\n",
       "      <td>7258</td>\n",
       "      <td>17.932500</td>\n",
       "    </tr>\n",
       "    <tr>\n",
       "      <th>ClmDiagnosisCode_6</th>\n",
       "      <td>4838</td>\n",
       "      <td>11.953353</td>\n",
       "    </tr>\n",
       "    <tr>\n",
       "      <th>ClmDiagnosisCode_5</th>\n",
       "      <td>2894</td>\n",
       "      <td>7.150269</td>\n",
       "    </tr>\n",
       "    <tr>\n",
       "      <th>ClmDiagnosisCode_4</th>\n",
       "      <td>1534</td>\n",
       "      <td>3.790087</td>\n",
       "    </tr>\n",
       "    <tr>\n",
       "      <th>DeductibleAmtPaid</th>\n",
       "      <td>899</td>\n",
       "      <td>2.221179</td>\n",
       "    </tr>\n",
       "    <tr>\n",
       "      <th>ClmDiagnosisCode_3</th>\n",
       "      <td>676</td>\n",
       "      <td>1.670208</td>\n",
       "    </tr>\n",
       "    <tr>\n",
       "      <th>ClmDiagnosisCode_2</th>\n",
       "      <td>226</td>\n",
       "      <td>0.558383</td>\n",
       "    </tr>\n",
       "    <tr>\n",
       "      <th>AttendingPhysician</th>\n",
       "      <td>112</td>\n",
       "      <td>0.276721</td>\n",
       "    </tr>\n",
       "    <tr>\n",
       "      <th>ClaimID</th>\n",
       "      <td>0</td>\n",
       "      <td>0.000000</td>\n",
       "    </tr>\n",
       "    <tr>\n",
       "      <th>ClmDiagnosisCode_1</th>\n",
       "      <td>0</td>\n",
       "      <td>0.000000</td>\n",
       "    </tr>\n",
       "    <tr>\n",
       "      <th>DiagnosisGroupCode</th>\n",
       "      <td>0</td>\n",
       "      <td>0.000000</td>\n",
       "    </tr>\n",
       "    <tr>\n",
       "      <th>DischargeDt</th>\n",
       "      <td>0</td>\n",
       "      <td>0.000000</td>\n",
       "    </tr>\n",
       "    <tr>\n",
       "      <th>ClmAdmitDiagnosisCode</th>\n",
       "      <td>0</td>\n",
       "      <td>0.000000</td>\n",
       "    </tr>\n",
       "    <tr>\n",
       "      <th>AdmissionDt</th>\n",
       "      <td>0</td>\n",
       "      <td>0.000000</td>\n",
       "    </tr>\n",
       "    <tr>\n",
       "      <th>InscClaimAmtReimbursed</th>\n",
       "      <td>0</td>\n",
       "      <td>0.000000</td>\n",
       "    </tr>\n",
       "    <tr>\n",
       "      <th>Provider</th>\n",
       "      <td>0</td>\n",
       "      <td>0.000000</td>\n",
       "    </tr>\n",
       "    <tr>\n",
       "      <th>ClaimEndDt</th>\n",
       "      <td>0</td>\n",
       "      <td>0.000000</td>\n",
       "    </tr>\n",
       "    <tr>\n",
       "      <th>ClaimStartDt</th>\n",
       "      <td>0</td>\n",
       "      <td>0.000000</td>\n",
       "    </tr>\n",
       "    <tr>\n",
       "      <th>BeneID</th>\n",
       "      <td>0</td>\n",
       "      <td>0.000000</td>\n",
       "    </tr>\n",
       "  </tbody>\n",
       "</table>\n",
       "</div>"
      ],
      "text/plain": [
       "                        Number of Missing Values  Percentage of Missing Values\n",
       "ClmProcedureCode_6                         40474                    100.000000\n",
       "ClmProcedureCode_5                         40465                     99.977764\n",
       "ClmProcedureCode_4                         40358                     99.713396\n",
       "ClmProcedureCode_3                         39509                     97.615753\n",
       "ClmDiagnosisCode_10                        36547                     90.297475\n",
       "OtherPhysician                             35784                     88.412314\n",
       "ClmProcedureCode_2                         35020                     86.524683\n",
       "ClmProcedureCode_1                         17326                     42.807728\n",
       "OperatingPhysician                         16644                     41.122696\n",
       "ClmDiagnosisCode_9                         13497                     33.347334\n",
       "ClmDiagnosisCode_8                          9942                     24.563918\n",
       "ClmDiagnosisCode_7                          7258                     17.932500\n",
       "ClmDiagnosisCode_6                          4838                     11.953353\n",
       "ClmDiagnosisCode_5                          2894                      7.150269\n",
       "ClmDiagnosisCode_4                          1534                      3.790087\n",
       "DeductibleAmtPaid                            899                      2.221179\n",
       "ClmDiagnosisCode_3                           676                      1.670208\n",
       "ClmDiagnosisCode_2                           226                      0.558383\n",
       "AttendingPhysician                           112                      0.276721\n",
       "ClaimID                                        0                      0.000000\n",
       "ClmDiagnosisCode_1                             0                      0.000000\n",
       "DiagnosisGroupCode                             0                      0.000000\n",
       "DischargeDt                                    0                      0.000000\n",
       "ClmAdmitDiagnosisCode                          0                      0.000000\n",
       "AdmissionDt                                    0                      0.000000\n",
       "InscClaimAmtReimbursed                         0                      0.000000\n",
       "Provider                                       0                      0.000000\n",
       "ClaimEndDt                                     0                      0.000000\n",
       "ClaimStartDt                                   0                      0.000000\n",
       "BeneID                                         0                      0.000000"
      ]
     },
     "execution_count": 38,
     "metadata": {},
     "output_type": "execute_result"
    }
   ],
   "source": [
    "Number_of_missingvalues=train_inpatientdata.isnull().sum().sort_values(ascending=False)\n",
    "total_entries=train_inpatientdata.isnull().count().sort_values(ascending=False)\n",
    "Percent=(Number_of_missingvalues/total_entries)*100\n",
    "missing_data=pd.concat([Number_of_missingvalues,Percent],axis=1,keys=['Number of Missing Values','Percentage of Missing Values'])\n",
    "missing_data"
   ]
  },
  {
   "cell_type": "markdown",
   "id": "e63b6d23-7d96-49d2-bb09-59f2e6e31a8b",
   "metadata": {},
   "source": [
    "            As 7 variables in train_inpatient dataset has missing values greater than 80% , it is dropped"
   ]
  },
  {
   "cell_type": "code",
   "execution_count": 39,
   "id": "1f50fa62-7d9f-4a8a-9d3b-8187bf8cbcdb",
   "metadata": {},
   "outputs": [],
   "source": [
    "train_inpatientdata.drop(['ClmProcedureCode_2','OtherPhysician','ClmDiagnosisCode_10','ClmProcedureCode_3','ClmProcedureCode_4','ClmProcedureCode_5','ClmProcedureCode_6'],axis=1,inplace=True)"
   ]
  },
  {
   "cell_type": "code",
   "execution_count": 40,
   "id": "a9cd5eab-72d8-4ccd-888c-8201c2b8af9b",
   "metadata": {},
   "outputs": [
    {
     "data": {
      "text/plain": [
       "Index(['BeneID', 'ClaimID', 'ClaimStartDt', 'ClaimEndDt', 'Provider',\n",
       "       'InscClaimAmtReimbursed', 'AttendingPhysician', 'OperatingPhysician',\n",
       "       'AdmissionDt', 'ClmAdmitDiagnosisCode', 'DeductibleAmtPaid',\n",
       "       'DischargeDt', 'DiagnosisGroupCode', 'ClmDiagnosisCode_1',\n",
       "       'ClmDiagnosisCode_2', 'ClmDiagnosisCode_3', 'ClmDiagnosisCode_4',\n",
       "       'ClmDiagnosisCode_5', 'ClmDiagnosisCode_6', 'ClmDiagnosisCode_7',\n",
       "       'ClmDiagnosisCode_8', 'ClmDiagnosisCode_9', 'ClmProcedureCode_1'],\n",
       "      dtype='object')"
      ]
     },
     "execution_count": 40,
     "metadata": {},
     "output_type": "execute_result"
    }
   ],
   "source": [
    "train_inpatientdata.columns"
   ]
  },
  {
   "cell_type": "code",
   "execution_count": 41,
   "id": "7e742fcf-7efb-4e39-8d8f-b33492678ad1",
   "metadata": {},
   "outputs": [
    {
     "data": {
      "text/plain": [
       "BeneID                        0\n",
       "ClaimID                       0\n",
       "ClaimStartDt                  0\n",
       "ClaimEndDt                    0\n",
       "Provider                      0\n",
       "InscClaimAmtReimbursed        0\n",
       "AttendingPhysician          112\n",
       "OperatingPhysician        16644\n",
       "AdmissionDt                   0\n",
       "ClmAdmitDiagnosisCode         0\n",
       "DeductibleAmtPaid           899\n",
       "DischargeDt                   0\n",
       "DiagnosisGroupCode            0\n",
       "ClmDiagnosisCode_1            0\n",
       "ClmDiagnosisCode_2          226\n",
       "ClmDiagnosisCode_3          676\n",
       "ClmDiagnosisCode_4         1534\n",
       "ClmDiagnosisCode_5         2894\n",
       "ClmDiagnosisCode_6         4838\n",
       "ClmDiagnosisCode_7         7258\n",
       "ClmDiagnosisCode_8         9942\n",
       "ClmDiagnosisCode_9        13497\n",
       "ClmProcedureCode_1        17326\n",
       "dtype: int64"
      ]
     },
     "execution_count": 41,
     "metadata": {},
     "output_type": "execute_result"
    }
   ],
   "source": [
    "train_inpatientdata.isnull().sum()"
   ]
  },
  {
   "cell_type": "code",
   "execution_count": 42,
   "id": "6ab55188-39d9-4089-b84d-30227d74142b",
   "metadata": {},
   "outputs": [
    {
     "data": {
      "image/png": "[encoded data removed]",
      "text/plain": [
       "<Figure size 1200x800 with 1 Axes>"
      ]
     },
     "metadata": {},
     "output_type": "display_data"
    }
   ],
   "source": [
    "plt.figure(figsize=(12,8))\n",
    "train_inpatientdata.boxplot()\n",
    "plt.xticks(rotation=90)\n",
    "plt.show()"
   ]
  },
  {
   "cell_type": "markdown",
   "id": "80034e73-6830-4cd9-8df8-6e31733ed5a6",
   "metadata": {},
   "source": [
    "                        3 Variables in train_inpatientdata Dataset has outlier datapoints. "
   ]
  },
  {
   "cell_type": "code",
   "execution_count": 43,
   "id": "edfef57b-b989-4067-a076-e9117ddf8e54",
   "metadata": {},
   "outputs": [],
   "source": [
    "mice=IterativeImputer(random_state=102)\n",
    "train_inpatientdata_mice=train_inpatientdata.copy()"
   ]
  },
  {
   "cell_type": "code",
   "execution_count": 44,
   "id": "2cd3f848-8e40-4afe-99eb-725d722a6c7f",
   "metadata": {},
   "outputs": [],
   "source": [
    "train_inpatientdata_mice.loc[:,['DeductibleAmtPaid','ClmProcedureCode_1']]=mice.fit_transform(train_inpatientdata_mice.loc[:,['DeductibleAmtPaid','ClmProcedureCode_1']])"
   ]
  },
  {
   "cell_type": "code",
   "execution_count": 45,
   "id": "3cdc387c-7cdf-4ce2-a520-766b63956c3e",
   "metadata": {},
   "outputs": [],
   "source": [
    "AP=train_inpatientdata_mice['AttendingPhysician'].value_counts().sort_values(ascending=False).head(1)\n",
    "OP=train_inpatientdata_mice['OperatingPhysician'].value_counts().head(1)\n",
    "CDC_2=train_inpatientdata_mice['ClmDiagnosisCode_2'].value_counts().head(1)\n",
    "CDC_3=train_inpatientdata_mice['ClmDiagnosisCode_3'].value_counts().head(1)\n",
    "CDC_4=train_inpatientdata_mice['ClmDiagnosisCode_4'].value_counts().head(1)\n",
    "CDC_5=train_inpatientdata_mice['ClmDiagnosisCode_5'].value_counts().head(1)\n",
    "CDC_6=train_inpatientdata_mice['ClmDiagnosisCode_6'].value_counts().head(1)\n",
    "CDC_7=train_inpatientdata_mice['ClmDiagnosisCode_7'].value_counts().head(1)\n",
    "CDC_8=train_inpatientdata_mice['ClmDiagnosisCode_8'].value_counts().head(1)\n",
    "CDC_9=train_inpatientdata_mice['ClmDiagnosisCode_9'].value_counts().head(1)"
   ]
  },
  {
   "cell_type": "code",
   "execution_count": 46,
   "id": "aba5790c-1f35-4420-914c-71d1d69c570d",
   "metadata": {},
   "outputs": [],
   "source": [
    "train_inpatientdata_mice['AttendingPhysician']=train_inpatientdata_mice['AttendingPhysician'].replace(np.nan,'PHY422134')\n",
    "train_inpatientdata_mice['OperatingPhysician']=train_inpatientdata_mice['OperatingPhysician'].replace(np.nan,'PHY429430')\n",
    "train_inpatientdata_mice['ClmDiagnosisCode_2']=train_inpatientdata_mice['ClmDiagnosisCode_2'].replace(np.nan,'4019')\n",
    "train_inpatientdata_mice['ClmDiagnosisCode_3']=train_inpatientdata_mice['ClmDiagnosisCode_3'].replace(np.nan,'4019')\n",
    "train_inpatientdata_mice['ClmDiagnosisCode_4']=train_inpatientdata_mice['ClmDiagnosisCode_4'].replace(np.nan,'4019')\n",
    "train_inpatientdata_mice['ClmDiagnosisCode_5']=train_inpatientdata_mice['ClmDiagnosisCode_5'].replace(np.nan,'4019')\n",
    "train_inpatientdata_mice['ClmDiagnosisCode_6']=train_inpatientdata_mice['ClmDiagnosisCode_6'].replace(np.nan,'4019')\n",
    "train_inpatientdata_mice['ClmDiagnosisCode_7']=train_inpatientdata_mice['ClmDiagnosisCode_7'].replace(np.nan,'4019')\n",
    "train_inpatientdata_mice['ClmDiagnosisCode_8']=train_inpatientdata_mice['ClmDiagnosisCode_8'].replace(np.nan,'4019')\n",
    "train_inpatientdata_mice['ClmDiagnosisCode_9']=train_inpatientdata_mice['ClmDiagnosisCode_9'].replace(np.nan,'4019')"
   ]
  },
  {
   "cell_type": "code",
   "execution_count": 47,
   "id": "484890c6-d872-4ba5-9c7a-980cba7396e9",
   "metadata": {},
   "outputs": [
    {
     "data": {
      "text/plain": [
       "BeneID                    0\n",
       "ClaimID                   0\n",
       "ClaimStartDt              0\n",
       "ClaimEndDt                0\n",
       "Provider                  0\n",
       "InscClaimAmtReimbursed    0\n",
       "AttendingPhysician        0\n",
       "OperatingPhysician        0\n",
       "AdmissionDt               0\n",
       "ClmAdmitDiagnosisCode     0\n",
       "DeductibleAmtPaid         0\n",
       "DischargeDt               0\n",
       "DiagnosisGroupCode        0\n",
       "ClmDiagnosisCode_1        0\n",
       "ClmDiagnosisCode_2        0\n",
       "ClmDiagnosisCode_3        0\n",
       "ClmDiagnosisCode_4        0\n",
       "ClmDiagnosisCode_5        0\n",
       "ClmDiagnosisCode_6        0\n",
       "ClmDiagnosisCode_7        0\n",
       "ClmDiagnosisCode_8        0\n",
       "ClmDiagnosisCode_9        0\n",
       "ClmProcedureCode_1        0\n",
       "dtype: int64"
      ]
     },
     "execution_count": 47,
     "metadata": {},
     "output_type": "execute_result"
    }
   ],
   "source": [
    "train_inpatientdata_mice.isnull().sum()"
   ]
  },
  {
   "cell_type": "markdown",
   "id": "36361d8c-4c15-4b98-bd0f-94d1b1bf623c",
   "metadata": {},
   "source": [
    "# Outlier Treatment and Handling Missing Values in \"train_outpatientdata\" Dataset"
   ]
  },
  {
   "cell_type": "code",
   "execution_count": 48,
   "id": "0fb870c6-6039-4a83-b626-d561ebdc64c3",
   "metadata": {},
   "outputs": [
    {
     "data": {
      "text/html": [
       "<div>\n",
       "<style scoped>\n",
       "    .dataframe tbody tr th:only-of-type {\n",
       "        vertical-align: middle;\n",
       "    }\n",
       "\n",
       "    .dataframe tbody tr th {\n",
       "        vertical-align: top;\n",
       "    }\n",
       "\n",
       "    .dataframe thead th {\n",
       "        text-align: right;\n",
       "    }\n",
       "</style>\n",
       "<table border=\"1\" class=\"dataframe\">\n",
       "  <thead>\n",
       "    <tr style=\"text-align: right;\">\n",
       "      <th></th>\n",
       "      <th>Number of Missing Values</th>\n",
       "      <th>Percentage of Missing Values</th>\n",
       "    </tr>\n",
       "  </thead>\n",
       "  <tbody>\n",
       "    <tr>\n",
       "      <th>ClmProcedureCode_6</th>\n",
       "      <td>517737</td>\n",
       "      <td>100.000000</td>\n",
       "    </tr>\n",
       "    <tr>\n",
       "      <th>ClmProcedureCode_5</th>\n",
       "      <td>517737</td>\n",
       "      <td>100.000000</td>\n",
       "    </tr>\n",
       "    <tr>\n",
       "      <th>ClmProcedureCode_4</th>\n",
       "      <td>517735</td>\n",
       "      <td>99.999614</td>\n",
       "    </tr>\n",
       "    <tr>\n",
       "      <th>ClmProcedureCode_3</th>\n",
       "      <td>517733</td>\n",
       "      <td>99.999227</td>\n",
       "    </tr>\n",
       "    <tr>\n",
       "      <th>ClmProcedureCode_2</th>\n",
       "      <td>517701</td>\n",
       "      <td>99.993047</td>\n",
       "    </tr>\n",
       "    <tr>\n",
       "      <th>ClmProcedureCode_1</th>\n",
       "      <td>517575</td>\n",
       "      <td>99.968710</td>\n",
       "    </tr>\n",
       "    <tr>\n",
       "      <th>ClmDiagnosisCode_10</th>\n",
       "      <td>516654</td>\n",
       "      <td>99.790820</td>\n",
       "    </tr>\n",
       "    <tr>\n",
       "      <th>ClmDiagnosisCode_9</th>\n",
       "      <td>502899</td>\n",
       "      <td>97.134066</td>\n",
       "    </tr>\n",
       "    <tr>\n",
       "      <th>ClmDiagnosisCode_8</th>\n",
       "      <td>494825</td>\n",
       "      <td>95.574587</td>\n",
       "    </tr>\n",
       "    <tr>\n",
       "      <th>ClmDiagnosisCode_7</th>\n",
       "      <td>484776</td>\n",
       "      <td>93.633640</td>\n",
       "    </tr>\n",
       "    <tr>\n",
       "      <th>ClmDiagnosisCode_6</th>\n",
       "      <td>468981</td>\n",
       "      <td>90.582864</td>\n",
       "    </tr>\n",
       "    <tr>\n",
       "      <th>ClmDiagnosisCode_5</th>\n",
       "      <td>443393</td>\n",
       "      <td>85.640586</td>\n",
       "    </tr>\n",
       "    <tr>\n",
       "      <th>OperatingPhysician</th>\n",
       "      <td>427120</td>\n",
       "      <td>82.497484</td>\n",
       "    </tr>\n",
       "    <tr>\n",
       "      <th>ClmAdmitDiagnosisCode</th>\n",
       "      <td>412312</td>\n",
       "      <td>79.637345</td>\n",
       "    </tr>\n",
       "    <tr>\n",
       "      <th>ClmDiagnosisCode_4</th>\n",
       "      <td>392141</td>\n",
       "      <td>75.741351</td>\n",
       "    </tr>\n",
       "    <tr>\n",
       "      <th>OtherPhysician</th>\n",
       "      <td>322691</td>\n",
       "      <td>62.327205</td>\n",
       "    </tr>\n",
       "    <tr>\n",
       "      <th>ClmDiagnosisCode_3</th>\n",
       "      <td>314480</td>\n",
       "      <td>60.741264</td>\n",
       "    </tr>\n",
       "    <tr>\n",
       "      <th>ClmDiagnosisCode_2</th>\n",
       "      <td>195380</td>\n",
       "      <td>37.737307</td>\n",
       "    </tr>\n",
       "    <tr>\n",
       "      <th>ClmDiagnosisCode_1</th>\n",
       "      <td>10453</td>\n",
       "      <td>2.018979</td>\n",
       "    </tr>\n",
       "    <tr>\n",
       "      <th>AttendingPhysician</th>\n",
       "      <td>1396</td>\n",
       "      <td>0.269635</td>\n",
       "    </tr>\n",
       "    <tr>\n",
       "      <th>ClaimID</th>\n",
       "      <td>0</td>\n",
       "      <td>0.000000</td>\n",
       "    </tr>\n",
       "    <tr>\n",
       "      <th>InscClaimAmtReimbursed</th>\n",
       "      <td>0</td>\n",
       "      <td>0.000000</td>\n",
       "    </tr>\n",
       "    <tr>\n",
       "      <th>Provider</th>\n",
       "      <td>0</td>\n",
       "      <td>0.000000</td>\n",
       "    </tr>\n",
       "    <tr>\n",
       "      <th>ClaimEndDt</th>\n",
       "      <td>0</td>\n",
       "      <td>0.000000</td>\n",
       "    </tr>\n",
       "    <tr>\n",
       "      <th>ClaimStartDt</th>\n",
       "      <td>0</td>\n",
       "      <td>0.000000</td>\n",
       "    </tr>\n",
       "    <tr>\n",
       "      <th>DeductibleAmtPaid</th>\n",
       "      <td>0</td>\n",
       "      <td>0.000000</td>\n",
       "    </tr>\n",
       "    <tr>\n",
       "      <th>BeneID</th>\n",
       "      <td>0</td>\n",
       "      <td>0.000000</td>\n",
       "    </tr>\n",
       "  </tbody>\n",
       "</table>\n",
       "</div>"
      ],
      "text/plain": [
       "                        Number of Missing Values  Percentage of Missing Values\n",
       "ClmProcedureCode_6                        517737                    100.000000\n",
       "ClmProcedureCode_5                        517737                    100.000000\n",
       "ClmProcedureCode_4                        517735                     99.999614\n",
       "ClmProcedureCode_3                        517733                     99.999227\n",
       "ClmProcedureCode_2                        517701                     99.993047\n",
       "ClmProcedureCode_1                        517575                     99.968710\n",
       "ClmDiagnosisCode_10                       516654                     99.790820\n",
       "ClmDiagnosisCode_9                        502899                     97.134066\n",
       "ClmDiagnosisCode_8                        494825                     95.574587\n",
       "ClmDiagnosisCode_7                        484776                     93.633640\n",
       "ClmDiagnosisCode_6                        468981                     90.582864\n",
       "ClmDiagnosisCode_5                        443393                     85.640586\n",
       "OperatingPhysician                        427120                     82.497484\n",
       "ClmAdmitDiagnosisCode                     412312                     79.637345\n",
       "ClmDiagnosisCode_4                        392141                     75.741351\n",
       "OtherPhysician                            322691                     62.327205\n",
       "ClmDiagnosisCode_3                        314480                     60.741264\n",
       "ClmDiagnosisCode_2                        195380                     37.737307\n",
       "ClmDiagnosisCode_1                         10453                      2.018979\n",
       "AttendingPhysician                          1396                      0.269635\n",
       "ClaimID                                        0                      0.000000\n",
       "InscClaimAmtReimbursed                         0                      0.000000\n",
       "Provider                                       0                      0.000000\n",
       "ClaimEndDt                                     0                      0.000000\n",
       "ClaimStartDt                                   0                      0.000000\n",
       "DeductibleAmtPaid                              0                      0.000000\n",
       "BeneID                                         0                      0.000000"
      ]
     },
     "execution_count": 48,
     "metadata": {},
     "output_type": "execute_result"
    }
   ],
   "source": [
    "Number_of_missingvalues=train_outpatientdata.isnull().sum().sort_values(ascending=False)\n",
    "total_entries=train_outpatientdata.isnull().count().sort_values(ascending=False)\n",
    "Percent=(Number_of_missingvalues/total_entries)*100\n",
    "missing_data=pd.concat([Number_of_missingvalues,Percent],axis=1,keys=['Number of Missing Values','Percentage of Missing Values'])\n",
    "missing_data"
   ]
  },
  {
   "cell_type": "markdown",
   "id": "ea5764f4-9806-4586-a089-965fb7a3d0fd",
   "metadata": {},
   "source": [
    "                 As 7 variables in train_outpatient dataset has missing values greater than 80% , it is dropped"
   ]
  },
  {
   "cell_type": "code",
   "execution_count": 49,
   "id": "ac9fa9ad-d20b-483a-a807-2357d177a267",
   "metadata": {},
   "outputs": [],
   "source": [
    "train_outpatientdata.drop(['ClmProcedureCode_6','ClmProcedureCode_5','ClmProcedureCode_4','ClmProcedureCode_3','ClmProcedureCode_2','ClmProcedureCode_1','ClmDiagnosisCode_10','ClmDiagnosisCode_9','ClmDiagnosisCode_8','ClmDiagnosisCode_7','ClmDiagnosisCode_6','ClmDiagnosisCode_5','OperatingPhysician'],axis=1,inplace=True)"
   ]
  },
  {
   "cell_type": "code",
   "execution_count": 50,
   "id": "c1bbca24-2d11-4a27-a028-5c971cdbbca5",
   "metadata": {},
   "outputs": [
    {
     "data": {
      "text/plain": [
       "Index(['BeneID', 'ClaimID', 'ClaimStartDt', 'ClaimEndDt', 'Provider',\n",
       "       'InscClaimAmtReimbursed', 'AttendingPhysician', 'OtherPhysician',\n",
       "       'ClmDiagnosisCode_1', 'ClmDiagnosisCode_2', 'ClmDiagnosisCode_3',\n",
       "       'ClmDiagnosisCode_4', 'DeductibleAmtPaid', 'ClmAdmitDiagnosisCode'],\n",
       "      dtype='object')"
      ]
     },
     "execution_count": 50,
     "metadata": {},
     "output_type": "execute_result"
    }
   ],
   "source": [
    "train_outpatientdata.columns"
   ]
  },
  {
   "cell_type": "code",
   "execution_count": 51,
   "id": "5d50fbbb-5755-4f0b-a97f-3d68e0d33d18",
   "metadata": {},
   "outputs": [
    {
     "data": {
      "image/png": "[encoded data removed]",
      "text/plain": [
       "<Figure size 1200x800 with 1 Axes>"
      ]
     },
     "metadata": {},
     "output_type": "display_data"
    }
   ],
   "source": [
    "plt.figure(figsize=(12,8))\n",
    "train_outpatientdata.boxplot()\n",
    "plt.xticks(rotation=90)\n",
    "plt.show()"
   ]
  },
  {
   "cell_type": "code",
   "execution_count": 52,
   "id": "4e22512b-d330-4925-8db2-385ea309a961",
   "metadata": {},
   "outputs": [],
   "source": [
    "mice=IterativeImputer(random_state=102)\n",
    "train_outpatientdata_mice=train_outpatientdata.copy()"
   ]
  },
  {
   "cell_type": "code",
   "execution_count": 53,
   "id": "e6fd52cc-91c1-411e-9867-714e79e0963c",
   "metadata": {},
   "outputs": [
    {
     "data": {
      "text/plain": [
       "AttendingPhysician\n",
       "PHY330576    2534\n",
       "PHY350277    1628\n",
       "PHY412132    1321\n",
       "Name: count, dtype: int64"
      ]
     },
     "execution_count": 53,
     "metadata": {},
     "output_type": "execute_result"
    }
   ],
   "source": [
    "train_outpatientdata_mice['AttendingPhysician'].value_counts().head(3)"
   ]
  },
  {
   "cell_type": "code",
   "execution_count": 54,
   "id": "ae2420a0-186c-40d8-a63d-f94655eabb5a",
   "metadata": {},
   "outputs": [
    {
     "data": {
      "text/plain": [
       "OtherPhysician\n",
       "PHY412132    1247\n",
       "PHY341578    1098\n",
       "PHY338032    1070\n",
       "Name: count, dtype: int64"
      ]
     },
     "execution_count": 54,
     "metadata": {},
     "output_type": "execute_result"
    }
   ],
   "source": [
    "train_outpatientdata_mice['OtherPhysician'].value_counts().head(3)"
   ]
  },
  {
   "cell_type": "code",
   "execution_count": 55,
   "id": "aa0154fc-7821-409d-ade0-15df8e3d3fe2",
   "metadata": {},
   "outputs": [
    {
     "data": {
      "text/plain": [
       "ClmDiagnosisCode_1\n",
       "4019    13803\n",
       "4011    12512\n",
       "2724     3603\n",
       "Name: count, dtype: int64"
      ]
     },
     "execution_count": 55,
     "metadata": {},
     "output_type": "execute_result"
    }
   ],
   "source": [
    "train_outpatientdata_mice['ClmDiagnosisCode_1'].value_counts().head(3)"
   ]
  },
  {
   "cell_type": "code",
   "execution_count": 56,
   "id": "a36cfab1-b398-4ebb-90a9-b98be3e7f8ed",
   "metadata": {},
   "outputs": [
    {
     "data": {
      "text/plain": [
       "ClmDiagnosisCode_2\n",
       "4019     19894\n",
       "25000    10674\n",
       "2724     10147\n",
       "Name: count, dtype: int64"
      ]
     },
     "execution_count": 56,
     "metadata": {},
     "output_type": "execute_result"
    }
   ],
   "source": [
    "train_outpatientdata_mice['ClmDiagnosisCode_2'].value_counts().head(3)"
   ]
  },
  {
   "cell_type": "code",
   "execution_count": 57,
   "id": "03b4bb77-b0a4-4a0a-b36c-dda7c34cfe49",
   "metadata": {},
   "outputs": [
    {
     "data": {
      "text/plain": [
       "ClmDiagnosisCode_3\n",
       "4019     12126\n",
       "25000     6838\n",
       "2724      6271\n",
       "Name: count, dtype: int64"
      ]
     },
     "execution_count": 57,
     "metadata": {},
     "output_type": "execute_result"
    }
   ],
   "source": [
    "train_outpatientdata_mice['ClmDiagnosisCode_3'].value_counts().head(3)"
   ]
  },
  {
   "cell_type": "code",
   "execution_count": 58,
   "id": "33d3c0d3-f62d-4797-a091-65833bf092b5",
   "metadata": {},
   "outputs": [
    {
     "data": {
      "text/plain": [
       "ClmDiagnosisCode_4\n",
       "4019     7088\n",
       "25000    4235\n",
       "2724     3736\n",
       "Name: count, dtype: int64"
      ]
     },
     "execution_count": 58,
     "metadata": {},
     "output_type": "execute_result"
    }
   ],
   "source": [
    "train_outpatientdata_mice['ClmDiagnosisCode_4'].value_counts().head(3)"
   ]
  },
  {
   "cell_type": "code",
   "execution_count": 59,
   "id": "2e8ee202-0d77-4504-ae77-87749471c6f6",
   "metadata": {},
   "outputs": [
    {
     "data": {
      "text/plain": [
       "ClmAdmitDiagnosisCode\n",
       "V7612    4074\n",
       "42731    3001\n",
       "4019     2627\n",
       "Name: count, dtype: int64"
      ]
     },
     "execution_count": 59,
     "metadata": {},
     "output_type": "execute_result"
    }
   ],
   "source": [
    "train_outpatientdata_mice['ClmAdmitDiagnosisCode'].value_counts().head(3)"
   ]
  },
  {
   "cell_type": "code",
   "execution_count": 60,
   "id": "cdd98329-2e68-4138-a00a-d40e63810d20",
   "metadata": {},
   "outputs": [],
   "source": [
    "train_outpatientdata_mice['AttendingPhysician']=train_outpatientdata_mice['AttendingPhysician'].replace(np.nan,'PHY422134')\n",
    "train_outpatientdata_mice['OtherPhysician']=train_outpatientdata_mice['OtherPhysician'].replace(np.nan,'PHY429430')\n",
    "train_outpatientdata_mice['ClmDiagnosisCode_1']=train_outpatientdata_mice['ClmDiagnosisCode_1'].replace(np.nan,'4019')\n",
    "train_outpatientdata_mice['ClmDiagnosisCode_2']=train_outpatientdata_mice['ClmDiagnosisCode_2'].replace(np.nan,'4019')\n",
    "train_outpatientdata_mice['ClmDiagnosisCode_3']=train_outpatientdata_mice['ClmDiagnosisCode_3'].replace(np.nan,'4019')\n",
    "train_outpatientdata_mice['ClmDiagnosisCode_4']=train_outpatientdata_mice['ClmDiagnosisCode_4'].replace(np.nan,'4019')\n",
    "train_outpatientdata_mice['ClmAdmitDiagnosisCode']=train_outpatientdata_mice['ClmAdmitDiagnosisCode'].replace(np.nan,'V7612')"
   ]
  },
  {
   "cell_type": "code",
   "execution_count": 61,
   "id": "e3a13311-91ad-42f0-b0ae-57513da610f0",
   "metadata": {},
   "outputs": [
    {
     "data": {
      "text/plain": [
       "BeneID                    0\n",
       "ClaimID                   0\n",
       "ClaimStartDt              0\n",
       "ClaimEndDt                0\n",
       "Provider                  0\n",
       "InscClaimAmtReimbursed    0\n",
       "AttendingPhysician        0\n",
       "OtherPhysician            0\n",
       "ClmDiagnosisCode_1        0\n",
       "ClmDiagnosisCode_2        0\n",
       "ClmDiagnosisCode_3        0\n",
       "ClmDiagnosisCode_4        0\n",
       "DeductibleAmtPaid         0\n",
       "ClmAdmitDiagnosisCode     0\n",
       "dtype: int64"
      ]
     },
     "execution_count": 61,
     "metadata": {},
     "output_type": "execute_result"
    }
   ],
   "source": [
    "train_outpatientdata_mice.isnull().sum()"
   ]
  },
  {
   "cell_type": "markdown",
   "id": "579670fb-99a1-4f49-84ca-b8e91c44de36",
   "metadata": {},
   "source": [
    "# Merging the datasets"
   ]
  },
  {
   "cell_type": "code",
   "execution_count": 62,
   "id": "8c78e094-78b6-4e37-862a-c9871331a192",
   "metadata": {},
   "outputs": [
    {
     "name": "stdout",
     "output_type": "stream",
     "text": [
      "<class 'pandas.core.frame.DataFrame'>\n",
      "RangeIndex: 517737 entries, 0 to 517736\n",
      "Data columns (total 15 columns):\n",
      " #   Column                  Non-Null Count   Dtype \n",
      "---  ------                  --------------   ----- \n",
      " 0   BeneID                  517737 non-null  object\n",
      " 1   ClaimID                 517737 non-null  object\n",
      " 2   ClaimStartDt            517737 non-null  object\n",
      " 3   ClaimEndDt              517737 non-null  object\n",
      " 4   Provider                517737 non-null  object\n",
      " 5   InscClaimAmtReimbursed  517737 non-null  int64 \n",
      " 6   AttendingPhysician      517737 non-null  object\n",
      " 7   OtherPhysician          517737 non-null  object\n",
      " 8   ClmDiagnosisCode_1      517737 non-null  object\n",
      " 9   ClmDiagnosisCode_2      517737 non-null  object\n",
      " 10  ClmDiagnosisCode_3      517737 non-null  object\n",
      " 11  ClmDiagnosisCode_4      517737 non-null  object\n",
      " 12  DeductibleAmtPaid       517737 non-null  int64 \n",
      " 13  ClmAdmitDiagnosisCode   517737 non-null  object\n",
      " 14  PotentialFraud          517737 non-null  object\n",
      "dtypes: int64(2), object(13)\n",
      "memory usage: 59.3+ MB\n"
     ]
    }
   ],
   "source": [
    "Train_Outpatient_Merge = pd.merge(train_outpatientdata_mice, train,on ='Provider' ,how = 'inner')\n",
    "Train_Outpatient_Merge.info()"
   ]
  },
  {
   "cell_type": "code",
   "execution_count": 63,
   "id": "0bb21b15-ad48-4f1d-b755-dbc6a20a44e3",
   "metadata": {},
   "outputs": [
    {
     "name": "stdout",
     "output_type": "stream",
     "text": [
      "<class 'pandas.core.frame.DataFrame'>\n",
      "RangeIndex: 517737 entries, 0 to 517736\n",
      "Data columns (total 15 columns):\n",
      " #   Column                  Non-Null Count   Dtype \n",
      "---  ------                  --------------   ----- \n",
      " 0   BeneID                  517737 non-null  object\n",
      " 1   ClaimID                 517737 non-null  object\n",
      " 2   ClaimStartDt            517737 non-null  object\n",
      " 3   ClaimEndDt              517737 non-null  object\n",
      " 4   Provider                517737 non-null  object\n",
      " 5   InscClaimAmtReimbursed  517737 non-null  int64 \n",
      " 6   AttendingPhysician      517737 non-null  object\n",
      " 7   OtherPhysician          517737 non-null  object\n",
      " 8   ClmDiagnosisCode_1      517737 non-null  object\n",
      " 9   ClmDiagnosisCode_2      517737 non-null  object\n",
      " 10  ClmDiagnosisCode_3      517737 non-null  object\n",
      " 11  ClmDiagnosisCode_4      517737 non-null  object\n",
      " 12  DeductibleAmtPaid       517737 non-null  int64 \n",
      " 13  ClmAdmitDiagnosisCode   517737 non-null  object\n",
      " 14  PotentialFraud          517737 non-null  object\n",
      "dtypes: int64(2), object(13)\n",
      "memory usage: 59.3+ MB\n"
     ]
    }
   ],
   "source": [
    "Train_Inpatient_Merge = pd.merge(train_outpatientdata_mice, train,on ='Provider' ,how = 'inner')\n",
    "Train_Inpatient_Merge.info()"
   ]
  },
  {
   "cell_type": "code",
   "execution_count": 64,
   "id": "e2451b13-2423-4a88-85df-62bc378e19f3",
   "metadata": {},
   "outputs": [
    {
     "data": {
      "text/html": [
       "<div>\n",
       "<style scoped>\n",
       "    .dataframe tbody tr th:only-of-type {\n",
       "        vertical-align: middle;\n",
       "    }\n",
       "\n",
       "    .dataframe tbody tr th {\n",
       "        vertical-align: top;\n",
       "    }\n",
       "\n",
       "    .dataframe thead th {\n",
       "        text-align: right;\n",
       "    }\n",
       "</style>\n",
       "<table border=\"1\" class=\"dataframe\">\n",
       "  <thead>\n",
       "    <tr style=\"text-align: right;\">\n",
       "      <th></th>\n",
       "      <th>BeneID_x</th>\n",
       "      <th>ClaimID</th>\n",
       "      <th>ClaimStartDt_x</th>\n",
       "      <th>ClaimEndDt_x</th>\n",
       "      <th>Provider_x</th>\n",
       "      <th>InscClaimAmtReimbursed_x</th>\n",
       "      <th>AttendingPhysician_x</th>\n",
       "      <th>OtherPhysician_x</th>\n",
       "      <th>ClmDiagnosisCode_1_x</th>\n",
       "      <th>ClmDiagnosisCode_2_x</th>\n",
       "      <th>ClmDiagnosisCode_3_x</th>\n",
       "      <th>ClmDiagnosisCode_4_x</th>\n",
       "      <th>DeductibleAmtPaid_x</th>\n",
       "      <th>ClmAdmitDiagnosisCode_x</th>\n",
       "      <th>PotentialFraud_x</th>\n",
       "      <th>BeneID_y</th>\n",
       "      <th>ClaimStartDt_y</th>\n",
       "      <th>ClaimEndDt_y</th>\n",
       "      <th>Provider_y</th>\n",
       "      <th>InscClaimAmtReimbursed_y</th>\n",
       "      <th>AttendingPhysician_y</th>\n",
       "      <th>OtherPhysician_y</th>\n",
       "      <th>ClmDiagnosisCode_1_y</th>\n",
       "      <th>ClmDiagnosisCode_2_y</th>\n",
       "      <th>ClmDiagnosisCode_3_y</th>\n",
       "      <th>ClmDiagnosisCode_4_y</th>\n",
       "      <th>DeductibleAmtPaid_y</th>\n",
       "      <th>ClmAdmitDiagnosisCode_y</th>\n",
       "      <th>PotentialFraud_y</th>\n",
       "    </tr>\n",
       "  </thead>\n",
       "  <tbody>\n",
       "    <tr>\n",
       "      <th>0</th>\n",
       "      <td>BENE11002</td>\n",
       "      <td>CLM624349</td>\n",
       "      <td>2009-10-11</td>\n",
       "      <td>2009-10-11</td>\n",
       "      <td>PRV56011</td>\n",
       "      <td>30</td>\n",
       "      <td>PHY326117</td>\n",
       "      <td>PHY429430</td>\n",
       "      <td>78943</td>\n",
       "      <td>V5866</td>\n",
       "      <td>V1272</td>\n",
       "      <td>4019</td>\n",
       "      <td>0</td>\n",
       "      <td>56409</td>\n",
       "      <td>Yes</td>\n",
       "      <td>BENE11002</td>\n",
       "      <td>2009-10-11</td>\n",
       "      <td>2009-10-11</td>\n",
       "      <td>PRV56011</td>\n",
       "      <td>30</td>\n",
       "      <td>PHY326117</td>\n",
       "      <td>PHY429430</td>\n",
       "      <td>78943</td>\n",
       "      <td>V5866</td>\n",
       "      <td>V1272</td>\n",
       "      <td>4019</td>\n",
       "      <td>0</td>\n",
       "      <td>56409</td>\n",
       "      <td>Yes</td>\n",
       "    </tr>\n",
       "    <tr>\n",
       "      <th>1</th>\n",
       "      <td>BENE11004</td>\n",
       "      <td>CLM121801</td>\n",
       "      <td>2009-01-06</td>\n",
       "      <td>2009-01-06</td>\n",
       "      <td>PRV56011</td>\n",
       "      <td>40</td>\n",
       "      <td>PHY334319</td>\n",
       "      <td>PHY429430</td>\n",
       "      <td>71988</td>\n",
       "      <td>4019</td>\n",
       "      <td>4019</td>\n",
       "      <td>4019</td>\n",
       "      <td>0</td>\n",
       "      <td>V7612</td>\n",
       "      <td>Yes</td>\n",
       "      <td>BENE11004</td>\n",
       "      <td>2009-01-06</td>\n",
       "      <td>2009-01-06</td>\n",
       "      <td>PRV56011</td>\n",
       "      <td>40</td>\n",
       "      <td>PHY334319</td>\n",
       "      <td>PHY429430</td>\n",
       "      <td>71988</td>\n",
       "      <td>4019</td>\n",
       "      <td>4019</td>\n",
       "      <td>4019</td>\n",
       "      <td>0</td>\n",
       "      <td>V7612</td>\n",
       "      <td>Yes</td>\n",
       "    </tr>\n",
       "    <tr>\n",
       "      <th>2</th>\n",
       "      <td>BENE11004</td>\n",
       "      <td>CLM150998</td>\n",
       "      <td>2009-01-22</td>\n",
       "      <td>2009-01-22</td>\n",
       "      <td>PRV56011</td>\n",
       "      <td>200</td>\n",
       "      <td>PHY403831</td>\n",
       "      <td>PHY429430</td>\n",
       "      <td>82382</td>\n",
       "      <td>30000</td>\n",
       "      <td>72887</td>\n",
       "      <td>4280</td>\n",
       "      <td>0</td>\n",
       "      <td>71947</td>\n",
       "      <td>Yes</td>\n",
       "      <td>BENE11004</td>\n",
       "      <td>2009-01-22</td>\n",
       "      <td>2009-01-22</td>\n",
       "      <td>PRV56011</td>\n",
       "      <td>200</td>\n",
       "      <td>PHY403831</td>\n",
       "      <td>PHY429430</td>\n",
       "      <td>82382</td>\n",
       "      <td>30000</td>\n",
       "      <td>72887</td>\n",
       "      <td>4280</td>\n",
       "      <td>0</td>\n",
       "      <td>71947</td>\n",
       "      <td>Yes</td>\n",
       "    </tr>\n",
       "    <tr>\n",
       "      <th>3</th>\n",
       "      <td>BENE11004</td>\n",
       "      <td>CLM173224</td>\n",
       "      <td>2009-02-03</td>\n",
       "      <td>2009-02-03</td>\n",
       "      <td>PRV56011</td>\n",
       "      <td>20</td>\n",
       "      <td>PHY339887</td>\n",
       "      <td>PHY429430</td>\n",
       "      <td>20381</td>\n",
       "      <td>4019</td>\n",
       "      <td>4019</td>\n",
       "      <td>4019</td>\n",
       "      <td>0</td>\n",
       "      <td>V7612</td>\n",
       "      <td>Yes</td>\n",
       "      <td>BENE11004</td>\n",
       "      <td>2009-02-03</td>\n",
       "      <td>2009-02-03</td>\n",
       "      <td>PRV56011</td>\n",
       "      <td>20</td>\n",
       "      <td>PHY339887</td>\n",
       "      <td>PHY429430</td>\n",
       "      <td>20381</td>\n",
       "      <td>4019</td>\n",
       "      <td>4019</td>\n",
       "      <td>4019</td>\n",
       "      <td>0</td>\n",
       "      <td>V7612</td>\n",
       "      <td>Yes</td>\n",
       "    </tr>\n",
       "    <tr>\n",
       "      <th>4</th>\n",
       "      <td>BENE11004</td>\n",
       "      <td>CLM224741</td>\n",
       "      <td>2009-03-03</td>\n",
       "      <td>2009-03-03</td>\n",
       "      <td>PRV56011</td>\n",
       "      <td>40</td>\n",
       "      <td>PHY345721</td>\n",
       "      <td>PHY429430</td>\n",
       "      <td>V6546</td>\n",
       "      <td>4280</td>\n",
       "      <td>2449</td>\n",
       "      <td>V854</td>\n",
       "      <td>0</td>\n",
       "      <td>V7612</td>\n",
       "      <td>Yes</td>\n",
       "      <td>BENE11004</td>\n",
       "      <td>2009-03-03</td>\n",
       "      <td>2009-03-03</td>\n",
       "      <td>PRV56011</td>\n",
       "      <td>40</td>\n",
       "      <td>PHY345721</td>\n",
       "      <td>PHY429430</td>\n",
       "      <td>V6546</td>\n",
       "      <td>4280</td>\n",
       "      <td>2449</td>\n",
       "      <td>V854</td>\n",
       "      <td>0</td>\n",
       "      <td>V7612</td>\n",
       "      <td>Yes</td>\n",
       "    </tr>\n",
       "  </tbody>\n",
       "</table>\n",
       "</div>"
      ],
      "text/plain": [
       "    BeneID_x    ClaimID ClaimStartDt_x ClaimEndDt_x Provider_x  \\\n",
       "0  BENE11002  CLM624349     2009-10-11   2009-10-11   PRV56011   \n",
       "1  BENE11004  CLM121801     2009-01-06   2009-01-06   PRV56011   \n",
       "2  BENE11004  CLM150998     2009-01-22   2009-01-22   PRV56011   \n",
       "3  BENE11004  CLM173224     2009-02-03   2009-02-03   PRV56011   \n",
       "4  BENE11004  CLM224741     2009-03-03   2009-03-03   PRV56011   \n",
       "\n",
       "   InscClaimAmtReimbursed_x AttendingPhysician_x OtherPhysician_x  \\\n",
       "0                        30            PHY326117        PHY429430   \n",
       "1                        40            PHY334319        PHY429430   \n",
       "2                       200            PHY403831        PHY429430   \n",
       "3                        20            PHY339887        PHY429430   \n",
       "4                        40            PHY345721        PHY429430   \n",
       "\n",
       "  ClmDiagnosisCode_1_x ClmDiagnosisCode_2_x ClmDiagnosisCode_3_x  \\\n",
       "0                78943                V5866                V1272   \n",
       "1                71988                 4019                 4019   \n",
       "2                82382                30000                72887   \n",
       "3                20381                 4019                 4019   \n",
       "4                V6546                 4280                 2449   \n",
       "\n",
       "  ClmDiagnosisCode_4_x  DeductibleAmtPaid_x ClmAdmitDiagnosisCode_x  \\\n",
       "0                 4019                    0                   56409   \n",
       "1                 4019                    0                   V7612   \n",
       "2                 4280                    0                   71947   \n",
       "3                 4019                    0                   V7612   \n",
       "4                 V854                    0                   V7612   \n",
       "\n",
       "  PotentialFraud_x   BeneID_y ClaimStartDt_y ClaimEndDt_y Provider_y  \\\n",
       "0              Yes  BENE11002     2009-10-11   2009-10-11   PRV56011   \n",
       "1              Yes  BENE11004     2009-01-06   2009-01-06   PRV56011   \n",
       "2              Yes  BENE11004     2009-01-22   2009-01-22   PRV56011   \n",
       "3              Yes  BENE11004     2009-02-03   2009-02-03   PRV56011   \n",
       "4              Yes  BENE11004     2009-03-03   2009-03-03   PRV56011   \n",
       "\n",
       "   InscClaimAmtReimbursed_y AttendingPhysician_y OtherPhysician_y  \\\n",
       "0                        30            PHY326117        PHY429430   \n",
       "1                        40            PHY334319        PHY429430   \n",
       "2                       200            PHY403831        PHY429430   \n",
       "3                        20            PHY339887        PHY429430   \n",
       "4                        40            PHY345721        PHY429430   \n",
       "\n",
       "  ClmDiagnosisCode_1_y ClmDiagnosisCode_2_y ClmDiagnosisCode_3_y  \\\n",
       "0                78943                V5866                V1272   \n",
       "1                71988                 4019                 4019   \n",
       "2                82382                30000                72887   \n",
       "3                20381                 4019                 4019   \n",
       "4                V6546                 4280                 2449   \n",
       "\n",
       "  ClmDiagnosisCode_4_y  DeductibleAmtPaid_y ClmAdmitDiagnosisCode_y  \\\n",
       "0                 4019                    0                   56409   \n",
       "1                 4019                    0                   V7612   \n",
       "2                 4280                    0                   71947   \n",
       "3                 4019                    0                   V7612   \n",
       "4                 V854                    0                   V7612   \n",
       "\n",
       "  PotentialFraud_y  \n",
       "0              Yes  \n",
       "1              Yes  \n",
       "2              Yes  \n",
       "3              Yes  \n",
       "4              Yes  "
      ]
     },
     "execution_count": 64,
     "metadata": {},
     "output_type": "execute_result"
    }
   ],
   "source": [
    "Train_Inpatient_Outpatient_Merge = pd.merge(Train_Outpatient_Merge,Train_Inpatient_Merge,on ='ClaimID' ,how = 'inner')\n",
    "Train_Inpatient_Outpatient_Merge.head()"
   ]
  },
  {
   "cell_type": "code",
   "execution_count": 65,
   "id": "0506f0ce-6e4e-4f35-b457-266f2f925c04",
   "metadata": {},
   "outputs": [
    {
     "data": {
      "text/html": [
       "<div>\n",
       "<style scoped>\n",
       "    .dataframe tbody tr th:only-of-type {\n",
       "        vertical-align: middle;\n",
       "    }\n",
       "\n",
       "    .dataframe tbody tr th {\n",
       "        vertical-align: top;\n",
       "    }\n",
       "\n",
       "    .dataframe thead th {\n",
       "        text-align: right;\n",
       "    }\n",
       "</style>\n",
       "<table border=\"1\" class=\"dataframe\">\n",
       "  <thead>\n",
       "    <tr style=\"text-align: right;\">\n",
       "      <th></th>\n",
       "      <th>BeneID</th>\n",
       "      <th>ClaimID</th>\n",
       "      <th>ClaimStartDt_x</th>\n",
       "      <th>ClaimEndDt_x</th>\n",
       "      <th>Provider_x</th>\n",
       "      <th>InscClaimAmtReimbursed_x</th>\n",
       "      <th>AttendingPhysician_x</th>\n",
       "      <th>OtherPhysician_x</th>\n",
       "      <th>ClmDiagnosisCode_1_x</th>\n",
       "      <th>ClmDiagnosisCode_2_x</th>\n",
       "      <th>ClmDiagnosisCode_3_x</th>\n",
       "      <th>ClmDiagnosisCode_4_x</th>\n",
       "      <th>DeductibleAmtPaid_x</th>\n",
       "      <th>ClmAdmitDiagnosisCode_x</th>\n",
       "      <th>PotentialFraud_x</th>\n",
       "      <th>BeneID_y</th>\n",
       "      <th>ClaimStartDt_y</th>\n",
       "      <th>ClaimEndDt_y</th>\n",
       "      <th>Provider_y</th>\n",
       "      <th>InscClaimAmtReimbursed_y</th>\n",
       "      <th>AttendingPhysician_y</th>\n",
       "      <th>OtherPhysician_y</th>\n",
       "      <th>ClmDiagnosisCode_1_y</th>\n",
       "      <th>ClmDiagnosisCode_2_y</th>\n",
       "      <th>ClmDiagnosisCode_3_y</th>\n",
       "      <th>ClmDiagnosisCode_4_y</th>\n",
       "      <th>DeductibleAmtPaid_y</th>\n",
       "      <th>ClmAdmitDiagnosisCode_y</th>\n",
       "      <th>PotentialFraud_y</th>\n",
       "    </tr>\n",
       "  </thead>\n",
       "  <tbody>\n",
       "    <tr>\n",
       "      <th>0</th>\n",
       "      <td>BENE11002</td>\n",
       "      <td>CLM624349</td>\n",
       "      <td>2009-10-11</td>\n",
       "      <td>2009-10-11</td>\n",
       "      <td>PRV56011</td>\n",
       "      <td>30</td>\n",
       "      <td>PHY326117</td>\n",
       "      <td>PHY429430</td>\n",
       "      <td>78943</td>\n",
       "      <td>V5866</td>\n",
       "      <td>V1272</td>\n",
       "      <td>4019</td>\n",
       "      <td>0</td>\n",
       "      <td>56409</td>\n",
       "      <td>Yes</td>\n",
       "      <td>BENE11002</td>\n",
       "      <td>2009-10-11</td>\n",
       "      <td>2009-10-11</td>\n",
       "      <td>PRV56011</td>\n",
       "      <td>30</td>\n",
       "      <td>PHY326117</td>\n",
       "      <td>PHY429430</td>\n",
       "      <td>78943</td>\n",
       "      <td>V5866</td>\n",
       "      <td>V1272</td>\n",
       "      <td>4019</td>\n",
       "      <td>0</td>\n",
       "      <td>56409</td>\n",
       "      <td>Yes</td>\n",
       "    </tr>\n",
       "    <tr>\n",
       "      <th>1</th>\n",
       "      <td>BENE11004</td>\n",
       "      <td>CLM121801</td>\n",
       "      <td>2009-01-06</td>\n",
       "      <td>2009-01-06</td>\n",
       "      <td>PRV56011</td>\n",
       "      <td>40</td>\n",
       "      <td>PHY334319</td>\n",
       "      <td>PHY429430</td>\n",
       "      <td>71988</td>\n",
       "      <td>4019</td>\n",
       "      <td>4019</td>\n",
       "      <td>4019</td>\n",
       "      <td>0</td>\n",
       "      <td>V7612</td>\n",
       "      <td>Yes</td>\n",
       "      <td>BENE11004</td>\n",
       "      <td>2009-01-06</td>\n",
       "      <td>2009-01-06</td>\n",
       "      <td>PRV56011</td>\n",
       "      <td>40</td>\n",
       "      <td>PHY334319</td>\n",
       "      <td>PHY429430</td>\n",
       "      <td>71988</td>\n",
       "      <td>4019</td>\n",
       "      <td>4019</td>\n",
       "      <td>4019</td>\n",
       "      <td>0</td>\n",
       "      <td>V7612</td>\n",
       "      <td>Yes</td>\n",
       "    </tr>\n",
       "  </tbody>\n",
       "</table>\n",
       "</div>"
      ],
      "text/plain": [
       "      BeneID    ClaimID ClaimStartDt_x ClaimEndDt_x Provider_x  \\\n",
       "0  BENE11002  CLM624349     2009-10-11   2009-10-11   PRV56011   \n",
       "1  BENE11004  CLM121801     2009-01-06   2009-01-06   PRV56011   \n",
       "\n",
       "   InscClaimAmtReimbursed_x AttendingPhysician_x OtherPhysician_x  \\\n",
       "0                        30            PHY326117        PHY429430   \n",
       "1                        40            PHY334319        PHY429430   \n",
       "\n",
       "  ClmDiagnosisCode_1_x ClmDiagnosisCode_2_x ClmDiagnosisCode_3_x  \\\n",
       "0                78943                V5866                V1272   \n",
       "1                71988                 4019                 4019   \n",
       "\n",
       "  ClmDiagnosisCode_4_x  DeductibleAmtPaid_x ClmAdmitDiagnosisCode_x  \\\n",
       "0                 4019                    0                   56409   \n",
       "1                 4019                    0                   V7612   \n",
       "\n",
       "  PotentialFraud_x   BeneID_y ClaimStartDt_y ClaimEndDt_y Provider_y  \\\n",
       "0              Yes  BENE11002     2009-10-11   2009-10-11   PRV56011   \n",
       "1              Yes  BENE11004     2009-01-06   2009-01-06   PRV56011   \n",
       "\n",
       "   InscClaimAmtReimbursed_y AttendingPhysician_y OtherPhysician_y  \\\n",
       "0                        30            PHY326117        PHY429430   \n",
       "1                        40            PHY334319        PHY429430   \n",
       "\n",
       "  ClmDiagnosisCode_1_y ClmDiagnosisCode_2_y ClmDiagnosisCode_3_y  \\\n",
       "0                78943                V5866                V1272   \n",
       "1                71988                 4019                 4019   \n",
       "\n",
       "  ClmDiagnosisCode_4_y  DeductibleAmtPaid_y ClmAdmitDiagnosisCode_y  \\\n",
       "0                 4019                    0                   56409   \n",
       "1                 4019                    0                   V7612   \n",
       "\n",
       "  PotentialFraud_y  \n",
       "0              Yes  \n",
       "1              Yes  "
      ]
     },
     "execution_count": 65,
     "metadata": {},
     "output_type": "execute_result"
    }
   ],
   "source": [
    "Train_Inpatient_Outpatient_Merge.rename({'BeneID_x':'BeneID'},inplace = True,axis =1)\n",
    "Train_Inpatient_Outpatient_Merge.head(2)"
   ]
  },
  {
   "cell_type": "code",
   "execution_count": 66,
   "id": "394c96b2-c17d-4a2a-87a2-95af4eb7592c",
   "metadata": {},
   "outputs": [
    {
     "data": {
      "text/plain": [
       "Index(['BeneID', 'ClaimID', 'ClaimStartDt_x', 'ClaimEndDt_x', 'Provider_x',\n",
       "       'InscClaimAmtReimbursed_x', 'AttendingPhysician_x', 'OtherPhysician_x',\n",
       "       'ClmDiagnosisCode_1_x', 'ClmDiagnosisCode_2_x', 'ClmDiagnosisCode_3_x',\n",
       "       'ClmDiagnosisCode_4_x', 'DeductibleAmtPaid_x',\n",
       "       'ClmAdmitDiagnosisCode_x', 'PotentialFraud_x', 'BeneID_y',\n",
       "       'ClaimStartDt_y', 'ClaimEndDt_y', 'Provider_y',\n",
       "       'InscClaimAmtReimbursed_y', 'AttendingPhysician_y', 'OtherPhysician_y',\n",
       "       'ClmDiagnosisCode_1_y', 'ClmDiagnosisCode_2_y', 'ClmDiagnosisCode_3_y',\n",
       "       'ClmDiagnosisCode_4_y', 'DeductibleAmtPaid_y',\n",
       "       'ClmAdmitDiagnosisCode_y', 'PotentialFraud_y', 'DOB', 'Gender', 'Race',\n",
       "       'RenalDiseaseIndicator', 'State', 'County', 'NoOfMonths_PartACov',\n",
       "       'NoOfMonths_PartBCov', 'ChronicCond_Alzheimer',\n",
       "       'ChronicCond_Heartfailure', 'ChronicCond_KidneyDisease',\n",
       "       'ChronicCond_Cancer', 'ChronicCond_ObstrPulmonary',\n",
       "       'ChronicCond_Depression', 'ChronicCond_Diabetes',\n",
       "       'ChronicCond_IschemicHeart', 'ChronicCond_Osteoporasis',\n",
       "       'ChronicCond_rheumatoidarthritis', 'ChronicCond_stroke',\n",
       "       'IPAnnualReimbursementAmt', 'IPAnnualDeductibleAmt',\n",
       "       'OPAnnualReimbursementAmt', 'OPAnnualDeductibleAmt'],\n",
       "      dtype='object')"
      ]
     },
     "execution_count": 66,
     "metadata": {},
     "output_type": "execute_result"
    }
   ],
   "source": [
    "Train_Beneficiary_Inpatient_Outpatient_Merge = pd.merge(Train_Inpatient_Outpatient_Merge,train_beneficiarydata_mice,on ='BeneID' ,how = 'inner')\n",
    "Train_Beneficiary_Inpatient_Outpatient_Merge.columns"
   ]
  },
  {
   "cell_type": "code",
   "execution_count": 67,
   "id": "e1875a1a-c1af-419f-b327-e37a9533c44a",
   "metadata": {},
   "outputs": [
    {
     "data": {
      "text/plain": [
       "Index(['BeneID', 'ClaimID', 'ClaimStartDt_x', 'ClaimEndDt_x', 'Provider_x',\n",
       "       'InscClaimAmtReimbursed_x', 'AttendingPhysician_x', 'OtherPhysician_x',\n",
       "       'ClmDiagnosisCode_1_x', 'ClmDiagnosisCode_2_x', 'ClmDiagnosisCode_3_x',\n",
       "       'ClmDiagnosisCode_4_x', 'DeductibleAmtPaid_x',\n",
       "       'ClmAdmitDiagnosisCode_x', 'PotentialFraud_x', 'BeneID_y',\n",
       "       'ClaimStartDt_y', 'ClaimEndDt_y', 'Provider_y',\n",
       "       'InscClaimAmtReimbursed_y', 'AttendingPhysician_y', 'OtherPhysician_y',\n",
       "       'ClmDiagnosisCode_1_y', 'ClmDiagnosisCode_2_y', 'ClmDiagnosisCode_3_y',\n",
       "       'ClmDiagnosisCode_4_y', 'DeductibleAmtPaid_y',\n",
       "       'ClmAdmitDiagnosisCode_y', 'PotentialFraud_y', 'DOB', 'Gender', 'Race',\n",
       "       'RenalDiseaseIndicator', 'State', 'County', 'NoOfMonths_PartACov',\n",
       "       'NoOfMonths_PartBCov', 'ChronicCond_Alzheimer',\n",
       "       'ChronicCond_Heartfailure', 'ChronicCond_KidneyDisease',\n",
       "       'ChronicCond_Cancer', 'ChronicCond_ObstrPulmonary',\n",
       "       'ChronicCond_Depression', 'ChronicCond_Diabetes',\n",
       "       'ChronicCond_IschemicHeart', 'ChronicCond_Osteoporasis',\n",
       "       'ChronicCond_rheumatoidarthritis', 'ChronicCond_stroke',\n",
       "       'IPAnnualReimbursementAmt', 'IPAnnualDeductibleAmt',\n",
       "       'OPAnnualReimbursementAmt', 'OPAnnualDeductibleAmt'],\n",
       "      dtype='object')"
      ]
     },
     "execution_count": 67,
     "metadata": {},
     "output_type": "execute_result"
    }
   ],
   "source": [
    "Final_TBIO_2 = Train_Beneficiary_Inpatient_Outpatient_Merge.copy()\n",
    "Final_TBIO_2.columns"
   ]
  },
  {
   "cell_type": "code",
   "execution_count": 68,
   "id": "77b60902-bd50-46de-9a1d-8010c45b1f27",
   "metadata": {},
   "outputs": [],
   "source": [
    "Final_TBIO_2.drop(Final_TBIO_2.columns[[20,21,22,23,24,25,26,27,28,29,30,31,32,33,34,35,36,37,38]],axis =1,inplace=True)"
   ]
  },
  {
   "cell_type": "code",
   "execution_count": 69,
   "id": "c9af054d-f66f-4ab5-ad7d-5a13e801cfef",
   "metadata": {},
   "outputs": [
    {
     "data": {
      "text/plain": [
       "Index(['BeneID', 'ClaimID', 'ClaimStartDt_x', 'ClaimEndDt_x', 'Provider_x',\n",
       "       'InscClaimAmtReimbursed_x', 'AttendingPhysician_x', 'OtherPhysician_x',\n",
       "       'ClmDiagnosisCode_1_x', 'ClmDiagnosisCode_2_x', 'ClmDiagnosisCode_3_x',\n",
       "       'ClmDiagnosisCode_4_x', 'DeductibleAmtPaid_x',\n",
       "       'ClmAdmitDiagnosisCode_x', 'PotentialFraud', 'BeneID_y',\n",
       "       'ClaimStartDt_y', 'ClaimEndDt_y', 'Provider_y',\n",
       "       'InscClaimAmtReimbursed_y', 'ChronicCond_KidneyDisease',\n",
       "       'ChronicCond_Cancer', 'ChronicCond_ObstrPulmonary',\n",
       "       'ChronicCond_Depression', 'ChronicCond_Diabetes',\n",
       "       'ChronicCond_IschemicHeart', 'ChronicCond_Osteoporasis',\n",
       "       'ChronicCond_rheumatoidarthritis', 'ChronicCond_stroke',\n",
       "       'IPAnnualReimbursementAmt', 'IPAnnualDeductibleAmt',\n",
       "       'OPAnnualReimbursementAmt', 'OPAnnualDeductibleAmt'],\n",
       "      dtype='object')"
      ]
     },
     "execution_count": 69,
     "metadata": {},
     "output_type": "execute_result"
    }
   ],
   "source": [
    "Final_TBIO_2.rename({'PotentialFraud_x':'PotentialFraud'},inplace = True,axis =1)\n",
    "Final_TBIO_2.columns"
   ]
  },
  {
   "cell_type": "code",
   "execution_count": 70,
   "id": "ff6a8b9e-7a04-4497-a9c2-9045d8605e4d",
   "metadata": {},
   "outputs": [
    {
     "data": {
      "text/html": [
       "<div>\n",
       "<style scoped>\n",
       "    .dataframe tbody tr th:only-of-type {\n",
       "        vertical-align: middle;\n",
       "    }\n",
       "\n",
       "    .dataframe tbody tr th {\n",
       "        vertical-align: top;\n",
       "    }\n",
       "\n",
       "    .dataframe thead th {\n",
       "        text-align: right;\n",
       "    }\n",
       "</style>\n",
       "<table border=\"1\" class=\"dataframe\">\n",
       "  <thead>\n",
       "    <tr style=\"text-align: right;\">\n",
       "      <th></th>\n",
       "      <th>BeneID</th>\n",
       "      <th>ClaimID</th>\n",
       "      <th>ClaimStartDt_x</th>\n",
       "      <th>ClaimEndDt_x</th>\n",
       "      <th>Provider_x</th>\n",
       "      <th>InscClaimAmtReimbursed_x</th>\n",
       "      <th>AttendingPhysician_x</th>\n",
       "      <th>OtherPhysician_x</th>\n",
       "      <th>ClmDiagnosisCode_1_x</th>\n",
       "      <th>ClmDiagnosisCode_2_x</th>\n",
       "      <th>ClmDiagnosisCode_3_x</th>\n",
       "      <th>ClmDiagnosisCode_4_x</th>\n",
       "      <th>DeductibleAmtPaid_x</th>\n",
       "      <th>ClmAdmitDiagnosisCode_x</th>\n",
       "      <th>PotentialFraud</th>\n",
       "      <th>BeneID_y</th>\n",
       "      <th>ClaimStartDt_y</th>\n",
       "      <th>ClaimEndDt_y</th>\n",
       "      <th>Provider_y</th>\n",
       "      <th>InscClaimAmtReimbursed_y</th>\n",
       "      <th>ChronicCond_KidneyDisease</th>\n",
       "      <th>ChronicCond_Cancer</th>\n",
       "      <th>ChronicCond_ObstrPulmonary</th>\n",
       "      <th>ChronicCond_Depression</th>\n",
       "      <th>ChronicCond_Diabetes</th>\n",
       "      <th>ChronicCond_IschemicHeart</th>\n",
       "      <th>ChronicCond_Osteoporasis</th>\n",
       "      <th>ChronicCond_rheumatoidarthritis</th>\n",
       "      <th>ChronicCond_stroke</th>\n",
       "      <th>IPAnnualReimbursementAmt</th>\n",
       "      <th>IPAnnualDeductibleAmt</th>\n",
       "      <th>OPAnnualReimbursementAmt</th>\n",
       "      <th>OPAnnualDeductibleAmt</th>\n",
       "    </tr>\n",
       "  </thead>\n",
       "  <tbody>\n",
       "    <tr>\n",
       "      <th>0</th>\n",
       "      <td>BENE11002</td>\n",
       "      <td>CLM624349</td>\n",
       "      <td>2009-10-11</td>\n",
       "      <td>2009-10-11</td>\n",
       "      <td>PRV56011</td>\n",
       "      <td>30</td>\n",
       "      <td>PHY326117</td>\n",
       "      <td>PHY429430</td>\n",
       "      <td>78943</td>\n",
       "      <td>V5866</td>\n",
       "      <td>V1272</td>\n",
       "      <td>4019</td>\n",
       "      <td>0</td>\n",
       "      <td>56409</td>\n",
       "      <td>Yes</td>\n",
       "      <td>BENE11002</td>\n",
       "      <td>2009-10-11</td>\n",
       "      <td>2009-10-11</td>\n",
       "      <td>PRV56011</td>\n",
       "      <td>30</td>\n",
       "      <td>2.0</td>\n",
       "      <td>2.0</td>\n",
       "      <td>2.0</td>\n",
       "      <td>2.0</td>\n",
       "      <td>2.0</td>\n",
       "      <td>2.0</td>\n",
       "      <td>2.0</td>\n",
       "      <td>2.0</td>\n",
       "      <td>2.0</td>\n",
       "      <td>0.0</td>\n",
       "      <td>0.0</td>\n",
       "      <td>30.0</td>\n",
       "      <td>50.0</td>\n",
       "    </tr>\n",
       "    <tr>\n",
       "      <th>1</th>\n",
       "      <td>BENE11004</td>\n",
       "      <td>CLM121801</td>\n",
       "      <td>2009-01-06</td>\n",
       "      <td>2009-01-06</td>\n",
       "      <td>PRV56011</td>\n",
       "      <td>40</td>\n",
       "      <td>PHY334319</td>\n",
       "      <td>PHY429430</td>\n",
       "      <td>71988</td>\n",
       "      <td>4019</td>\n",
       "      <td>4019</td>\n",
       "      <td>4019</td>\n",
       "      <td>0</td>\n",
       "      <td>V7612</td>\n",
       "      <td>Yes</td>\n",
       "      <td>BENE11004</td>\n",
       "      <td>2009-01-06</td>\n",
       "      <td>2009-01-06</td>\n",
       "      <td>PRV56011</td>\n",
       "      <td>40</td>\n",
       "      <td>2.0</td>\n",
       "      <td>2.0</td>\n",
       "      <td>2.0</td>\n",
       "      <td>2.0</td>\n",
       "      <td>1.0</td>\n",
       "      <td>1.0</td>\n",
       "      <td>1.0</td>\n",
       "      <td>1.0</td>\n",
       "      <td>2.0</td>\n",
       "      <td>0.0</td>\n",
       "      <td>0.0</td>\n",
       "      <td>1810.0</td>\n",
       "      <td>760.0</td>\n",
       "    </tr>\n",
       "    <tr>\n",
       "      <th>2</th>\n",
       "      <td>BENE11004</td>\n",
       "      <td>CLM150998</td>\n",
       "      <td>2009-01-22</td>\n",
       "      <td>2009-01-22</td>\n",
       "      <td>PRV56011</td>\n",
       "      <td>200</td>\n",
       "      <td>PHY403831</td>\n",
       "      <td>PHY429430</td>\n",
       "      <td>82382</td>\n",
       "      <td>30000</td>\n",
       "      <td>72887</td>\n",
       "      <td>4280</td>\n",
       "      <td>0</td>\n",
       "      <td>71947</td>\n",
       "      <td>Yes</td>\n",
       "      <td>BENE11004</td>\n",
       "      <td>2009-01-22</td>\n",
       "      <td>2009-01-22</td>\n",
       "      <td>PRV56011</td>\n",
       "      <td>200</td>\n",
       "      <td>2.0</td>\n",
       "      <td>2.0</td>\n",
       "      <td>2.0</td>\n",
       "      <td>2.0</td>\n",
       "      <td>1.0</td>\n",
       "      <td>1.0</td>\n",
       "      <td>1.0</td>\n",
       "      <td>1.0</td>\n",
       "      <td>2.0</td>\n",
       "      <td>0.0</td>\n",
       "      <td>0.0</td>\n",
       "      <td>1810.0</td>\n",
       "      <td>760.0</td>\n",
       "    </tr>\n",
       "    <tr>\n",
       "      <th>3</th>\n",
       "      <td>BENE11004</td>\n",
       "      <td>CLM173224</td>\n",
       "      <td>2009-02-03</td>\n",
       "      <td>2009-02-03</td>\n",
       "      <td>PRV56011</td>\n",
       "      <td>20</td>\n",
       "      <td>PHY339887</td>\n",
       "      <td>PHY429430</td>\n",
       "      <td>20381</td>\n",
       "      <td>4019</td>\n",
       "      <td>4019</td>\n",
       "      <td>4019</td>\n",
       "      <td>0</td>\n",
       "      <td>V7612</td>\n",
       "      <td>Yes</td>\n",
       "      <td>BENE11004</td>\n",
       "      <td>2009-02-03</td>\n",
       "      <td>2009-02-03</td>\n",
       "      <td>PRV56011</td>\n",
       "      <td>20</td>\n",
       "      <td>2.0</td>\n",
       "      <td>2.0</td>\n",
       "      <td>2.0</td>\n",
       "      <td>2.0</td>\n",
       "      <td>1.0</td>\n",
       "      <td>1.0</td>\n",
       "      <td>1.0</td>\n",
       "      <td>1.0</td>\n",
       "      <td>2.0</td>\n",
       "      <td>0.0</td>\n",
       "      <td>0.0</td>\n",
       "      <td>1810.0</td>\n",
       "      <td>760.0</td>\n",
       "    </tr>\n",
       "    <tr>\n",
       "      <th>4</th>\n",
       "      <td>BENE11004</td>\n",
       "      <td>CLM224741</td>\n",
       "      <td>2009-03-03</td>\n",
       "      <td>2009-03-03</td>\n",
       "      <td>PRV56011</td>\n",
       "      <td>40</td>\n",
       "      <td>PHY345721</td>\n",
       "      <td>PHY429430</td>\n",
       "      <td>V6546</td>\n",
       "      <td>4280</td>\n",
       "      <td>2449</td>\n",
       "      <td>V854</td>\n",
       "      <td>0</td>\n",
       "      <td>V7612</td>\n",
       "      <td>Yes</td>\n",
       "      <td>BENE11004</td>\n",
       "      <td>2009-03-03</td>\n",
       "      <td>2009-03-03</td>\n",
       "      <td>PRV56011</td>\n",
       "      <td>40</td>\n",
       "      <td>2.0</td>\n",
       "      <td>2.0</td>\n",
       "      <td>2.0</td>\n",
       "      <td>2.0</td>\n",
       "      <td>1.0</td>\n",
       "      <td>1.0</td>\n",
       "      <td>1.0</td>\n",
       "      <td>1.0</td>\n",
       "      <td>2.0</td>\n",
       "      <td>0.0</td>\n",
       "      <td>0.0</td>\n",
       "      <td>1810.0</td>\n",
       "      <td>760.0</td>\n",
       "    </tr>\n",
       "  </tbody>\n",
       "</table>\n",
       "</div>"
      ],
      "text/plain": [
       "      BeneID    ClaimID ClaimStartDt_x ClaimEndDt_x Provider_x  \\\n",
       "0  BENE11002  CLM624349     2009-10-11   2009-10-11   PRV56011   \n",
       "1  BENE11004  CLM121801     2009-01-06   2009-01-06   PRV56011   \n",
       "2  BENE11004  CLM150998     2009-01-22   2009-01-22   PRV56011   \n",
       "3  BENE11004  CLM173224     2009-02-03   2009-02-03   PRV56011   \n",
       "4  BENE11004  CLM224741     2009-03-03   2009-03-03   PRV56011   \n",
       "\n",
       "   InscClaimAmtReimbursed_x AttendingPhysician_x OtherPhysician_x  \\\n",
       "0                        30            PHY326117        PHY429430   \n",
       "1                        40            PHY334319        PHY429430   \n",
       "2                       200            PHY403831        PHY429430   \n",
       "3                        20            PHY339887        PHY429430   \n",
       "4                        40            PHY345721        PHY429430   \n",
       "\n",
       "  ClmDiagnosisCode_1_x ClmDiagnosisCode_2_x ClmDiagnosisCode_3_x  \\\n",
       "0                78943                V5866                V1272   \n",
       "1                71988                 4019                 4019   \n",
       "2                82382                30000                72887   \n",
       "3                20381                 4019                 4019   \n",
       "4                V6546                 4280                 2449   \n",
       "\n",
       "  ClmDiagnosisCode_4_x  DeductibleAmtPaid_x ClmAdmitDiagnosisCode_x  \\\n",
       "0                 4019                    0                   56409   \n",
       "1                 4019                    0                   V7612   \n",
       "2                 4280                    0                   71947   \n",
       "3                 4019                    0                   V7612   \n",
       "4                 V854                    0                   V7612   \n",
       "\n",
       "  PotentialFraud   BeneID_y ClaimStartDt_y ClaimEndDt_y Provider_y  \\\n",
       "0            Yes  BENE11002     2009-10-11   2009-10-11   PRV56011   \n",
       "1            Yes  BENE11004     2009-01-06   2009-01-06   PRV56011   \n",
       "2            Yes  BENE11004     2009-01-22   2009-01-22   PRV56011   \n",
       "3            Yes  BENE11004     2009-02-03   2009-02-03   PRV56011   \n",
       "4            Yes  BENE11004     2009-03-03   2009-03-03   PRV56011   \n",
       "\n",
       "   InscClaimAmtReimbursed_y  ChronicCond_KidneyDisease  ChronicCond_Cancer  \\\n",
       "0                        30                        2.0                 2.0   \n",
       "1                        40                        2.0                 2.0   \n",
       "2                       200                        2.0                 2.0   \n",
       "3                        20                        2.0                 2.0   \n",
       "4                        40                        2.0                 2.0   \n",
       "\n",
       "   ChronicCond_ObstrPulmonary  ChronicCond_Depression  ChronicCond_Diabetes  \\\n",
       "0                         2.0                     2.0                   2.0   \n",
       "1                         2.0                     2.0                   1.0   \n",
       "2                         2.0                     2.0                   1.0   \n",
       "3                         2.0                     2.0                   1.0   \n",
       "4                         2.0                     2.0                   1.0   \n",
       "\n",
       "   ChronicCond_IschemicHeart  ChronicCond_Osteoporasis  \\\n",
       "0                        2.0                       2.0   \n",
       "1                        1.0                       1.0   \n",
       "2                        1.0                       1.0   \n",
       "3                        1.0                       1.0   \n",
       "4                        1.0                       1.0   \n",
       "\n",
       "   ChronicCond_rheumatoidarthritis  ChronicCond_stroke  \\\n",
       "0                              2.0                 2.0   \n",
       "1                              1.0                 2.0   \n",
       "2                              1.0                 2.0   \n",
       "3                              1.0                 2.0   \n",
       "4                              1.0                 2.0   \n",
       "\n",
       "   IPAnnualReimbursementAmt  IPAnnualDeductibleAmt  OPAnnualReimbursementAmt  \\\n",
       "0                       0.0                    0.0                      30.0   \n",
       "1                       0.0                    0.0                    1810.0   \n",
       "2                       0.0                    0.0                    1810.0   \n",
       "3                       0.0                    0.0                    1810.0   \n",
       "4                       0.0                    0.0                    1810.0   \n",
       "\n",
       "   OPAnnualDeductibleAmt  \n",
       "0                   50.0  \n",
       "1                  760.0  \n",
       "2                  760.0  \n",
       "3                  760.0  \n",
       "4                  760.0  "
      ]
     },
     "execution_count": 70,
     "metadata": {},
     "output_type": "execute_result"
    }
   ],
   "source": [
    "Final_TBIO_2.head()"
   ]
  },
  {
   "cell_type": "code",
   "execution_count": 71,
   "id": "beb34046-6ad1-41f0-a59f-af00948208da",
   "metadata": {},
   "outputs": [],
   "source": [
    "Final_TBIO_2.to_csv(\"Final_TBIO_2.csv\")"
   ]
  },
  {
   "cell_type": "code",
   "execution_count": 72,
   "id": "a76bf727-b443-4df8-a3d7-dfc9ad932fa9",
   "metadata": {},
   "outputs": [
    {
     "data": {
      "image/png": "[encoded data removed]",
      "text/plain": [
       "<Figure size 1600x800 with 1 Axes>"
      ]
     },
     "metadata": {},
     "output_type": "display_data"
    }
   ],
   "source": [
    "plt.figure(figsize = (16,8))\n",
    "Final_TBIO_2.boxplot()\n",
    "plt.xticks(rotation = 90)\n",
    "plt.show()"
   ]
  },
  {
   "cell_type": "code",
   "execution_count": 73,
   "id": "ac23ce4d-eccb-459a-b468-069665df678f",
   "metadata": {},
   "outputs": [
    {
     "data": {
      "text/plain": [
       "BeneID                             0\n",
       "ClaimID                            0\n",
       "ClaimStartDt_x                     0\n",
       "ClaimEndDt_x                       0\n",
       "Provider_x                         0\n",
       "InscClaimAmtReimbursed_x           0\n",
       "AttendingPhysician_x               0\n",
       "OtherPhysician_x                   0\n",
       "ClmDiagnosisCode_1_x               0\n",
       "ClmDiagnosisCode_2_x               0\n",
       "ClmDiagnosisCode_3_x               0\n",
       "ClmDiagnosisCode_4_x               0\n",
       "DeductibleAmtPaid_x                0\n",
       "ClmAdmitDiagnosisCode_x            0\n",
       "PotentialFraud                     0\n",
       "BeneID_y                           0\n",
       "ClaimStartDt_y                     0\n",
       "ClaimEndDt_y                       0\n",
       "Provider_y                         0\n",
       "InscClaimAmtReimbursed_y           0\n",
       "ChronicCond_KidneyDisease          0\n",
       "ChronicCond_Cancer                 0\n",
       "ChronicCond_ObstrPulmonary         0\n",
       "ChronicCond_Depression             0\n",
       "ChronicCond_Diabetes               0\n",
       "ChronicCond_IschemicHeart          0\n",
       "ChronicCond_Osteoporasis           0\n",
       "ChronicCond_rheumatoidarthritis    0\n",
       "ChronicCond_stroke                 0\n",
       "IPAnnualReimbursementAmt           0\n",
       "IPAnnualDeductibleAmt              0\n",
       "OPAnnualReimbursementAmt           0\n",
       "OPAnnualDeductibleAmt              0\n",
       "dtype: int64"
      ]
     },
     "execution_count": 73,
     "metadata": {},
     "output_type": "execute_result"
    }
   ],
   "source": [
    "Final_TBIO_2.isnull().sum()"
   ]
  },
  {
   "cell_type": "code",
   "execution_count": 74,
   "id": "87123fba-9171-4211-ae86-02b01898a6fe",
   "metadata": {},
   "outputs": [
    {
     "data": {
      "text/plain": [
       "(517737, 33)"
      ]
     },
     "execution_count": 74,
     "metadata": {},
     "output_type": "execute_result"
    }
   ],
   "source": [
    "Final_TBIO_2.shape"
   ]
  },
  {
   "cell_type": "code",
   "execution_count": 75,
   "id": "9104a976-a2a2-4f41-8f62-4bffdfcc1a89",
   "metadata": {},
   "outputs": [
    {
     "data": {
      "text/plain": [
       "BeneID                              object\n",
       "ClaimID                             object\n",
       "ClaimStartDt_x                      object\n",
       "ClaimEndDt_x                        object\n",
       "Provider_x                          object\n",
       "InscClaimAmtReimbursed_x             int64\n",
       "AttendingPhysician_x                object\n",
       "OtherPhysician_x                    object\n",
       "ClmDiagnosisCode_1_x                object\n",
       "ClmDiagnosisCode_2_x                object\n",
       "ClmDiagnosisCode_3_x                object\n",
       "ClmDiagnosisCode_4_x                object\n",
       "DeductibleAmtPaid_x                  int64\n",
       "ClmAdmitDiagnosisCode_x             object\n",
       "PotentialFraud                      object\n",
       "BeneID_y                            object\n",
       "ClaimStartDt_y                      object\n",
       "ClaimEndDt_y                        object\n",
       "Provider_y                          object\n",
       "InscClaimAmtReimbursed_y             int64\n",
       "ChronicCond_KidneyDisease          float64\n",
       "ChronicCond_Cancer                 float64\n",
       "ChronicCond_ObstrPulmonary         float64\n",
       "ChronicCond_Depression             float64\n",
       "ChronicCond_Diabetes               float64\n",
       "ChronicCond_IschemicHeart          float64\n",
       "ChronicCond_Osteoporasis           float64\n",
       "ChronicCond_rheumatoidarthritis    float64\n",
       "ChronicCond_stroke                 float64\n",
       "IPAnnualReimbursementAmt           float64\n",
       "IPAnnualDeductibleAmt              float64\n",
       "OPAnnualReimbursementAmt           float64\n",
       "OPAnnualDeductibleAmt              float64\n",
       "dtype: object"
      ]
     },
     "execution_count": 75,
     "metadata": {},
     "output_type": "execute_result"
    }
   ],
   "source": [
    "Final_TBIO_2.dtypes"
   ]
  },
  {
   "cell_type": "markdown",
   "id": "70660bfb-82d5-4613-badc-c9c36de7fd6e",
   "metadata": {},
   "source": [
    "# Making a copy of the Original Merged Dataset"
   ]
  },
  {
   "cell_type": "code",
   "execution_count": 76,
   "id": "3acb2176-d14a-4fda-bac0-ec92b95b33ba",
   "metadata": {},
   "outputs": [],
   "source": [
    "df_final=Final_TBIO_2.copy()"
   ]
  },
  {
   "cell_type": "code",
   "execution_count": 77,
   "id": "c5a6b600-500f-463c-83f8-9a383dd0c697",
   "metadata": {},
   "outputs": [],
   "source": [
    "from sklearn.preprocessing import LabelEncoder\n",
    "\n",
    "le = LabelEncoder()\n",
    "df_final['PotentialFraud'] = le.fit_transform(df_final['PotentialFraud'])\n"
   ]
  },
  {
   "cell_type": "code",
   "execution_count": 78,
   "id": "8890ca2a-d994-44b6-a741-af74968600aa",
   "metadata": {},
   "outputs": [
    {
     "data": {
      "text/html": [
       "<div>\n",
       "<style scoped>\n",
       "    .dataframe tbody tr th:only-of-type {\n",
       "        vertical-align: middle;\n",
       "    }\n",
       "\n",
       "    .dataframe tbody tr th {\n",
       "        vertical-align: top;\n",
       "    }\n",
       "\n",
       "    .dataframe thead th {\n",
       "        text-align: right;\n",
       "    }\n",
       "</style>\n",
       "<table border=\"1\" class=\"dataframe\">\n",
       "  <thead>\n",
       "    <tr style=\"text-align: right;\">\n",
       "      <th></th>\n",
       "      <th>BeneID</th>\n",
       "      <th>ClaimID</th>\n",
       "      <th>ClaimStartDt_x</th>\n",
       "      <th>ClaimEndDt_x</th>\n",
       "      <th>Provider_x</th>\n",
       "      <th>InscClaimAmtReimbursed_x</th>\n",
       "      <th>AttendingPhysician_x</th>\n",
       "      <th>OtherPhysician_x</th>\n",
       "      <th>ClmDiagnosisCode_1_x</th>\n",
       "      <th>ClmDiagnosisCode_2_x</th>\n",
       "      <th>ClmDiagnosisCode_3_x</th>\n",
       "      <th>ClmDiagnosisCode_4_x</th>\n",
       "      <th>DeductibleAmtPaid_x</th>\n",
       "      <th>ClmAdmitDiagnosisCode_x</th>\n",
       "      <th>PotentialFraud</th>\n",
       "      <th>BeneID_y</th>\n",
       "      <th>ClaimStartDt_y</th>\n",
       "      <th>ClaimEndDt_y</th>\n",
       "      <th>Provider_y</th>\n",
       "      <th>InscClaimAmtReimbursed_y</th>\n",
       "      <th>ChronicCond_KidneyDisease</th>\n",
       "      <th>ChronicCond_Cancer</th>\n",
       "      <th>ChronicCond_ObstrPulmonary</th>\n",
       "      <th>ChronicCond_Depression</th>\n",
       "      <th>ChronicCond_Diabetes</th>\n",
       "      <th>ChronicCond_IschemicHeart</th>\n",
       "      <th>ChronicCond_Osteoporasis</th>\n",
       "      <th>ChronicCond_rheumatoidarthritis</th>\n",
       "      <th>ChronicCond_stroke</th>\n",
       "      <th>IPAnnualReimbursementAmt</th>\n",
       "      <th>IPAnnualDeductibleAmt</th>\n",
       "      <th>OPAnnualReimbursementAmt</th>\n",
       "      <th>OPAnnualDeductibleAmt</th>\n",
       "    </tr>\n",
       "  </thead>\n",
       "  <tbody>\n",
       "    <tr>\n",
       "      <th>0</th>\n",
       "      <td>BENE11002</td>\n",
       "      <td>CLM624349</td>\n",
       "      <td>2009-10-11</td>\n",
       "      <td>2009-10-11</td>\n",
       "      <td>PRV56011</td>\n",
       "      <td>30</td>\n",
       "      <td>PHY326117</td>\n",
       "      <td>PHY429430</td>\n",
       "      <td>78943</td>\n",
       "      <td>V5866</td>\n",
       "      <td>V1272</td>\n",
       "      <td>4019</td>\n",
       "      <td>0</td>\n",
       "      <td>56409</td>\n",
       "      <td>1</td>\n",
       "      <td>BENE11002</td>\n",
       "      <td>2009-10-11</td>\n",
       "      <td>2009-10-11</td>\n",
       "      <td>PRV56011</td>\n",
       "      <td>30</td>\n",
       "      <td>2.0</td>\n",
       "      <td>2.0</td>\n",
       "      <td>2.0</td>\n",
       "      <td>2.0</td>\n",
       "      <td>2.0</td>\n",
       "      <td>2.0</td>\n",
       "      <td>2.0</td>\n",
       "      <td>2.0</td>\n",
       "      <td>2.0</td>\n",
       "      <td>0.0</td>\n",
       "      <td>0.0</td>\n",
       "      <td>30.0</td>\n",
       "      <td>50.0</td>\n",
       "    </tr>\n",
       "    <tr>\n",
       "      <th>1</th>\n",
       "      <td>BENE11004</td>\n",
       "      <td>CLM121801</td>\n",
       "      <td>2009-01-06</td>\n",
       "      <td>2009-01-06</td>\n",
       "      <td>PRV56011</td>\n",
       "      <td>40</td>\n",
       "      <td>PHY334319</td>\n",
       "      <td>PHY429430</td>\n",
       "      <td>71988</td>\n",
       "      <td>4019</td>\n",
       "      <td>4019</td>\n",
       "      <td>4019</td>\n",
       "      <td>0</td>\n",
       "      <td>V7612</td>\n",
       "      <td>1</td>\n",
       "      <td>BENE11004</td>\n",
       "      <td>2009-01-06</td>\n",
       "      <td>2009-01-06</td>\n",
       "      <td>PRV56011</td>\n",
       "      <td>40</td>\n",
       "      <td>2.0</td>\n",
       "      <td>2.0</td>\n",
       "      <td>2.0</td>\n",
       "      <td>2.0</td>\n",
       "      <td>1.0</td>\n",
       "      <td>1.0</td>\n",
       "      <td>1.0</td>\n",
       "      <td>1.0</td>\n",
       "      <td>2.0</td>\n",
       "      <td>0.0</td>\n",
       "      <td>0.0</td>\n",
       "      <td>1810.0</td>\n",
       "      <td>760.0</td>\n",
       "    </tr>\n",
       "    <tr>\n",
       "      <th>2</th>\n",
       "      <td>BENE11004</td>\n",
       "      <td>CLM150998</td>\n",
       "      <td>2009-01-22</td>\n",
       "      <td>2009-01-22</td>\n",
       "      <td>PRV56011</td>\n",
       "      <td>200</td>\n",
       "      <td>PHY403831</td>\n",
       "      <td>PHY429430</td>\n",
       "      <td>82382</td>\n",
       "      <td>30000</td>\n",
       "      <td>72887</td>\n",
       "      <td>4280</td>\n",
       "      <td>0</td>\n",
       "      <td>71947</td>\n",
       "      <td>1</td>\n",
       "      <td>BENE11004</td>\n",
       "      <td>2009-01-22</td>\n",
       "      <td>2009-01-22</td>\n",
       "      <td>PRV56011</td>\n",
       "      <td>200</td>\n",
       "      <td>2.0</td>\n",
       "      <td>2.0</td>\n",
       "      <td>2.0</td>\n",
       "      <td>2.0</td>\n",
       "      <td>1.0</td>\n",
       "      <td>1.0</td>\n",
       "      <td>1.0</td>\n",
       "      <td>1.0</td>\n",
       "      <td>2.0</td>\n",
       "      <td>0.0</td>\n",
       "      <td>0.0</td>\n",
       "      <td>1810.0</td>\n",
       "      <td>760.0</td>\n",
       "    </tr>\n",
       "    <tr>\n",
       "      <th>3</th>\n",
       "      <td>BENE11004</td>\n",
       "      <td>CLM173224</td>\n",
       "      <td>2009-02-03</td>\n",
       "      <td>2009-02-03</td>\n",
       "      <td>PRV56011</td>\n",
       "      <td>20</td>\n",
       "      <td>PHY339887</td>\n",
       "      <td>PHY429430</td>\n",
       "      <td>20381</td>\n",
       "      <td>4019</td>\n",
       "      <td>4019</td>\n",
       "      <td>4019</td>\n",
       "      <td>0</td>\n",
       "      <td>V7612</td>\n",
       "      <td>1</td>\n",
       "      <td>BENE11004</td>\n",
       "      <td>2009-02-03</td>\n",
       "      <td>2009-02-03</td>\n",
       "      <td>PRV56011</td>\n",
       "      <td>20</td>\n",
       "      <td>2.0</td>\n",
       "      <td>2.0</td>\n",
       "      <td>2.0</td>\n",
       "      <td>2.0</td>\n",
       "      <td>1.0</td>\n",
       "      <td>1.0</td>\n",
       "      <td>1.0</td>\n",
       "      <td>1.0</td>\n",
       "      <td>2.0</td>\n",
       "      <td>0.0</td>\n",
       "      <td>0.0</td>\n",
       "      <td>1810.0</td>\n",
       "      <td>760.0</td>\n",
       "    </tr>\n",
       "    <tr>\n",
       "      <th>4</th>\n",
       "      <td>BENE11004</td>\n",
       "      <td>CLM224741</td>\n",
       "      <td>2009-03-03</td>\n",
       "      <td>2009-03-03</td>\n",
       "      <td>PRV56011</td>\n",
       "      <td>40</td>\n",
       "      <td>PHY345721</td>\n",
       "      <td>PHY429430</td>\n",
       "      <td>V6546</td>\n",
       "      <td>4280</td>\n",
       "      <td>2449</td>\n",
       "      <td>V854</td>\n",
       "      <td>0</td>\n",
       "      <td>V7612</td>\n",
       "      <td>1</td>\n",
       "      <td>BENE11004</td>\n",
       "      <td>2009-03-03</td>\n",
       "      <td>2009-03-03</td>\n",
       "      <td>PRV56011</td>\n",
       "      <td>40</td>\n",
       "      <td>2.0</td>\n",
       "      <td>2.0</td>\n",
       "      <td>2.0</td>\n",
       "      <td>2.0</td>\n",
       "      <td>1.0</td>\n",
       "      <td>1.0</td>\n",
       "      <td>1.0</td>\n",
       "      <td>1.0</td>\n",
       "      <td>2.0</td>\n",
       "      <td>0.0</td>\n",
       "      <td>0.0</td>\n",
       "      <td>1810.0</td>\n",
       "      <td>760.0</td>\n",
       "    </tr>\n",
       "  </tbody>\n",
       "</table>\n",
       "</div>"
      ],
      "text/plain": [
       "      BeneID    ClaimID ClaimStartDt_x ClaimEndDt_x Provider_x  \\\n",
       "0  BENE11002  CLM624349     2009-10-11   2009-10-11   PRV56011   \n",
       "1  BENE11004  CLM121801     2009-01-06   2009-01-06   PRV56011   \n",
       "2  BENE11004  CLM150998     2009-01-22   2009-01-22   PRV56011   \n",
       "3  BENE11004  CLM173224     2009-02-03   2009-02-03   PRV56011   \n",
       "4  BENE11004  CLM224741     2009-03-03   2009-03-03   PRV56011   \n",
       "\n",
       "   InscClaimAmtReimbursed_x AttendingPhysician_x OtherPhysician_x  \\\n",
       "0                        30            PHY326117        PHY429430   \n",
       "1                        40            PHY334319        PHY429430   \n",
       "2                       200            PHY403831        PHY429430   \n",
       "3                        20            PHY339887        PHY429430   \n",
       "4                        40            PHY345721        PHY429430   \n",
       "\n",
       "  ClmDiagnosisCode_1_x ClmDiagnosisCode_2_x ClmDiagnosisCode_3_x  \\\n",
       "0                78943                V5866                V1272   \n",
       "1                71988                 4019                 4019   \n",
       "2                82382                30000                72887   \n",
       "3                20381                 4019                 4019   \n",
       "4                V6546                 4280                 2449   \n",
       "\n",
       "  ClmDiagnosisCode_4_x  DeductibleAmtPaid_x ClmAdmitDiagnosisCode_x  \\\n",
       "0                 4019                    0                   56409   \n",
       "1                 4019                    0                   V7612   \n",
       "2                 4280                    0                   71947   \n",
       "3                 4019                    0                   V7612   \n",
       "4                 V854                    0                   V7612   \n",
       "\n",
       "   PotentialFraud   BeneID_y ClaimStartDt_y ClaimEndDt_y Provider_y  \\\n",
       "0               1  BENE11002     2009-10-11   2009-10-11   PRV56011   \n",
       "1               1  BENE11004     2009-01-06   2009-01-06   PRV56011   \n",
       "2               1  BENE11004     2009-01-22   2009-01-22   PRV56011   \n",
       "3               1  BENE11004     2009-02-03   2009-02-03   PRV56011   \n",
       "4               1  BENE11004     2009-03-03   2009-03-03   PRV56011   \n",
       "\n",
       "   InscClaimAmtReimbursed_y  ChronicCond_KidneyDisease  ChronicCond_Cancer  \\\n",
       "0                        30                        2.0                 2.0   \n",
       "1                        40                        2.0                 2.0   \n",
       "2                       200                        2.0                 2.0   \n",
       "3                        20                        2.0                 2.0   \n",
       "4                        40                        2.0                 2.0   \n",
       "\n",
       "   ChronicCond_ObstrPulmonary  ChronicCond_Depression  ChronicCond_Diabetes  \\\n",
       "0                         2.0                     2.0                   2.0   \n",
       "1                         2.0                     2.0                   1.0   \n",
       "2                         2.0                     2.0                   1.0   \n",
       "3                         2.0                     2.0                   1.0   \n",
       "4                         2.0                     2.0                   1.0   \n",
       "\n",
       "   ChronicCond_IschemicHeart  ChronicCond_Osteoporasis  \\\n",
       "0                        2.0                       2.0   \n",
       "1                        1.0                       1.0   \n",
       "2                        1.0                       1.0   \n",
       "3                        1.0                       1.0   \n",
       "4                        1.0                       1.0   \n",
       "\n",
       "   ChronicCond_rheumatoidarthritis  ChronicCond_stroke  \\\n",
       "0                              2.0                 2.0   \n",
       "1                              1.0                 2.0   \n",
       "2                              1.0                 2.0   \n",
       "3                              1.0                 2.0   \n",
       "4                              1.0                 2.0   \n",
       "\n",
       "   IPAnnualReimbursementAmt  IPAnnualDeductibleAmt  OPAnnualReimbursementAmt  \\\n",
       "0                       0.0                    0.0                      30.0   \n",
       "1                       0.0                    0.0                    1810.0   \n",
       "2                       0.0                    0.0                    1810.0   \n",
       "3                       0.0                    0.0                    1810.0   \n",
       "4                       0.0                    0.0                    1810.0   \n",
       "\n",
       "   OPAnnualDeductibleAmt  \n",
       "0                   50.0  \n",
       "1                  760.0  \n",
       "2                  760.0  \n",
       "3                  760.0  \n",
       "4                  760.0  "
      ]
     },
     "execution_count": 78,
     "metadata": {},
     "output_type": "execute_result"
    }
   ],
   "source": [
    "df_final.head()"
   ]
  },
  {
   "cell_type": "markdown",
   "id": "601124fd-bc9b-4946-a5f7-ff2ae43c397c",
   "metadata": {},
   "source": [
    "# Separating the Target and Independent Variables"
   ]
  },
  {
   "cell_type": "code",
   "execution_count": 79,
   "id": "8c54ff4a-4761-4d89-b967-44383cb25b8c",
   "metadata": {},
   "outputs": [
    {
     "data": {
      "text/plain": [
       "Index(['InscClaimAmtReimbursed_x', 'DeductibleAmtPaid_x', 'PotentialFraud',\n",
       "       'InscClaimAmtReimbursed_y', 'ChronicCond_KidneyDisease',\n",
       "       'ChronicCond_Cancer', 'ChronicCond_ObstrPulmonary',\n",
       "       'ChronicCond_Depression', 'ChronicCond_Diabetes',\n",
       "       'ChronicCond_IschemicHeart', 'ChronicCond_Osteoporasis',\n",
       "       'ChronicCond_rheumatoidarthritis', 'ChronicCond_stroke',\n",
       "       'IPAnnualReimbursementAmt', 'IPAnnualDeductibleAmt',\n",
       "       'OPAnnualReimbursementAmt', 'OPAnnualDeductibleAmt'],\n",
       "      dtype='object')"
      ]
     },
     "execution_count": 79,
     "metadata": {},
     "output_type": "execute_result"
    }
   ],
   "source": [
    "# Numerical values in df_final_num\n",
    "\n",
    "df_final_num=df_final.select_dtypes(include=[np.number])\n",
    "df_final_num.columns"
   ]
  },
  {
   "cell_type": "code",
   "execution_count": 80,
   "id": "c50117bc-a53e-48ee-a706-b744b1e24693",
   "metadata": {},
   "outputs": [
    {
     "data": {
      "text/plain": [
       "Index(['BeneID', 'ClaimID', 'ClaimStartDt_x', 'ClaimEndDt_x', 'Provider_x',\n",
       "       'AttendingPhysician_x', 'OtherPhysician_x', 'ClmDiagnosisCode_1_x',\n",
       "       'ClmDiagnosisCode_2_x', 'ClmDiagnosisCode_3_x', 'ClmDiagnosisCode_4_x',\n",
       "       'ClmAdmitDiagnosisCode_x', 'BeneID_y', 'ClaimStartDt_y', 'ClaimEndDt_y',\n",
       "       'Provider_y'],\n",
       "      dtype='object')"
      ]
     },
     "execution_count": 80,
     "metadata": {},
     "output_type": "execute_result"
    }
   ],
   "source": [
    "# Categorical values in df_final_cat\n",
    "\n",
    "df_final_cat = df_final.select_dtypes(include=[object])\n",
    "df_final_cat.columns"
   ]
  },
  {
   "cell_type": "code",
   "execution_count": 81,
   "id": "be2a32c1-ffae-4ba4-91c5-91affe12ac55",
   "metadata": {},
   "outputs": [
    {
     "name": "stdout",
     "output_type": "stream",
     "text": [
      "Index(['InscClaimAmtReimbursed_x', 'DeductibleAmtPaid_x', 'PotentialFraud',\n",
      "       'InscClaimAmtReimbursed_y', 'ChronicCond_KidneyDisease',\n",
      "       'ChronicCond_Cancer', 'ChronicCond_ObstrPulmonary',\n",
      "       'ChronicCond_Depression', 'ChronicCond_Diabetes',\n",
      "       'ChronicCond_IschemicHeart', 'ChronicCond_Osteoporasis',\n",
      "       'ChronicCond_rheumatoidarthritis', 'ChronicCond_stroke',\n",
      "       'IPAnnualReimbursementAmt', 'IPAnnualDeductibleAmt',\n",
      "       'OPAnnualReimbursementAmt', 'OPAnnualDeductibleAmt'],\n",
      "      dtype='object')\n"
     ]
    }
   ],
   "source": [
    "print(df_final_num.columns)"
   ]
  },
  {
   "cell_type": "code",
   "execution_count": 82,
   "id": "58219421-7fe3-418f-933a-9cdcb524fa3c",
   "metadata": {},
   "outputs": [],
   "source": [
    "# Separating the target and independent variables\n",
    "y = df_final_num['PotentialFraud']\n",
    "x1 = df_final_num.drop('PotentialFraud', axis=1)"
   ]
  },
  {
   "cell_type": "code",
   "execution_count": 83,
   "id": "daeb6f1e-d8f8-445d-bb7b-05491dfa61f8",
   "metadata": {},
   "outputs": [],
   "source": [
    "from sklearn.preprocessing import RobustScaler\n",
    "rs = RobustScaler()\n",
    "\n",
    "# standardize all the columns of the dataframe\n",
    "num_scaled = rs.fit_transform(x1)\n"
   ]
  },
  {
   "cell_type": "code",
   "execution_count": 84,
   "id": "661dbb8b-c863-4994-8ecd-fcac61042ee5",
   "metadata": {},
   "outputs": [],
   "source": [
    "from sklearn.preprocessing import MinMaxScaler \n",
    "# initialize the minmax scaler\n",
    "ms = MinMaxScaler()\n",
    "\n",
    "# standardize all the columns of the dataframe\n",
    "num_scaled = ms.fit_transform(x1)"
   ]
  },
  {
   "cell_type": "code",
   "execution_count": 85,
   "id": "5763cae3-b866-4134-9c1a-d78330e0f4aa",
   "metadata": {},
   "outputs": [
    {
     "data": {
      "text/html": [
       "<div>\n",
       "<style scoped>\n",
       "    .dataframe tbody tr th:only-of-type {\n",
       "        vertical-align: middle;\n",
       "    }\n",
       "\n",
       "    .dataframe tbody tr th {\n",
       "        vertical-align: top;\n",
       "    }\n",
       "\n",
       "    .dataframe thead th {\n",
       "        text-align: right;\n",
       "    }\n",
       "</style>\n",
       "<table border=\"1\" class=\"dataframe\">\n",
       "  <thead>\n",
       "    <tr style=\"text-align: right;\">\n",
       "      <th></th>\n",
       "      <th>InscClaimAmtReimbursed_x</th>\n",
       "      <th>DeductibleAmtPaid_x</th>\n",
       "      <th>InscClaimAmtReimbursed_y</th>\n",
       "      <th>ChronicCond_KidneyDisease</th>\n",
       "      <th>ChronicCond_Cancer</th>\n",
       "      <th>ChronicCond_ObstrPulmonary</th>\n",
       "      <th>ChronicCond_Depression</th>\n",
       "      <th>ChronicCond_Diabetes</th>\n",
       "      <th>ChronicCond_IschemicHeart</th>\n",
       "      <th>ChronicCond_Osteoporasis</th>\n",
       "      <th>ChronicCond_rheumatoidarthritis</th>\n",
       "      <th>ChronicCond_stroke</th>\n",
       "      <th>IPAnnualReimbursementAmt</th>\n",
       "      <th>IPAnnualDeductibleAmt</th>\n",
       "      <th>OPAnnualReimbursementAmt</th>\n",
       "      <th>OPAnnualDeductibleAmt</th>\n",
       "    </tr>\n",
       "  </thead>\n",
       "  <tbody>\n",
       "    <tr>\n",
       "      <th>0</th>\n",
       "      <td>0.000293</td>\n",
       "      <td>0.0</td>\n",
       "      <td>0.000293</td>\n",
       "      <td>1.0</td>\n",
       "      <td>0.0</td>\n",
       "      <td>0.0</td>\n",
       "      <td>1.0</td>\n",
       "      <td>1.0</td>\n",
       "      <td>1.0</td>\n",
       "      <td>1.0</td>\n",
       "      <td>1.0</td>\n",
       "      <td>0.0</td>\n",
       "      <td>0.144265</td>\n",
       "      <td>0.0</td>\n",
       "      <td>0.008596</td>\n",
       "      <td>0.045872</td>\n",
       "    </tr>\n",
       "    <tr>\n",
       "      <th>1</th>\n",
       "      <td>0.000390</td>\n",
       "      <td>0.0</td>\n",
       "      <td>0.000390</td>\n",
       "      <td>1.0</td>\n",
       "      <td>0.0</td>\n",
       "      <td>0.0</td>\n",
       "      <td>1.0</td>\n",
       "      <td>0.0</td>\n",
       "      <td>0.0</td>\n",
       "      <td>0.0</td>\n",
       "      <td>0.0</td>\n",
       "      <td>0.0</td>\n",
       "      <td>0.144265</td>\n",
       "      <td>0.0</td>\n",
       "      <td>0.518625</td>\n",
       "      <td>0.697248</td>\n",
       "    </tr>\n",
       "    <tr>\n",
       "      <th>2</th>\n",
       "      <td>0.001951</td>\n",
       "      <td>0.0</td>\n",
       "      <td>0.001951</td>\n",
       "      <td>1.0</td>\n",
       "      <td>0.0</td>\n",
       "      <td>0.0</td>\n",
       "      <td>1.0</td>\n",
       "      <td>0.0</td>\n",
       "      <td>0.0</td>\n",
       "      <td>0.0</td>\n",
       "      <td>0.0</td>\n",
       "      <td>0.0</td>\n",
       "      <td>0.144265</td>\n",
       "      <td>0.0</td>\n",
       "      <td>0.518625</td>\n",
       "      <td>0.697248</td>\n",
       "    </tr>\n",
       "    <tr>\n",
       "      <th>3</th>\n",
       "      <td>0.000195</td>\n",
       "      <td>0.0</td>\n",
       "      <td>0.000195</td>\n",
       "      <td>1.0</td>\n",
       "      <td>0.0</td>\n",
       "      <td>0.0</td>\n",
       "      <td>1.0</td>\n",
       "      <td>0.0</td>\n",
       "      <td>0.0</td>\n",
       "      <td>0.0</td>\n",
       "      <td>0.0</td>\n",
       "      <td>0.0</td>\n",
       "      <td>0.144265</td>\n",
       "      <td>0.0</td>\n",
       "      <td>0.518625</td>\n",
       "      <td>0.697248</td>\n",
       "    </tr>\n",
       "    <tr>\n",
       "      <th>4</th>\n",
       "      <td>0.000390</td>\n",
       "      <td>0.0</td>\n",
       "      <td>0.000390</td>\n",
       "      <td>1.0</td>\n",
       "      <td>0.0</td>\n",
       "      <td>0.0</td>\n",
       "      <td>1.0</td>\n",
       "      <td>0.0</td>\n",
       "      <td>0.0</td>\n",
       "      <td>0.0</td>\n",
       "      <td>0.0</td>\n",
       "      <td>0.0</td>\n",
       "      <td>0.144265</td>\n",
       "      <td>0.0</td>\n",
       "      <td>0.518625</td>\n",
       "      <td>0.697248</td>\n",
       "    </tr>\n",
       "  </tbody>\n",
       "</table>\n",
       "</div>"
      ],
      "text/plain": [
       "   InscClaimAmtReimbursed_x  DeductibleAmtPaid_x  InscClaimAmtReimbursed_y  \\\n",
       "0                  0.000293                  0.0                  0.000293   \n",
       "1                  0.000390                  0.0                  0.000390   \n",
       "2                  0.001951                  0.0                  0.001951   \n",
       "3                  0.000195                  0.0                  0.000195   \n",
       "4                  0.000390                  0.0                  0.000390   \n",
       "\n",
       "   ChronicCond_KidneyDisease  ChronicCond_Cancer  ChronicCond_ObstrPulmonary  \\\n",
       "0                        1.0                 0.0                         0.0   \n",
       "1                        1.0                 0.0                         0.0   \n",
       "2                        1.0                 0.0                         0.0   \n",
       "3                        1.0                 0.0                         0.0   \n",
       "4                        1.0                 0.0                         0.0   \n",
       "\n",
       "   ChronicCond_Depression  ChronicCond_Diabetes  ChronicCond_IschemicHeart  \\\n",
       "0                     1.0                   1.0                        1.0   \n",
       "1                     1.0                   0.0                        0.0   \n",
       "2                     1.0                   0.0                        0.0   \n",
       "3                     1.0                   0.0                        0.0   \n",
       "4                     1.0                   0.0                        0.0   \n",
       "\n",
       "   ChronicCond_Osteoporasis  ChronicCond_rheumatoidarthritis  \\\n",
       "0                       1.0                              1.0   \n",
       "1                       0.0                              0.0   \n",
       "2                       0.0                              0.0   \n",
       "3                       0.0                              0.0   \n",
       "4                       0.0                              0.0   \n",
       "\n",
       "   ChronicCond_stroke  IPAnnualReimbursementAmt  IPAnnualDeductibleAmt  \\\n",
       "0                 0.0                  0.144265                    0.0   \n",
       "1                 0.0                  0.144265                    0.0   \n",
       "2                 0.0                  0.144265                    0.0   \n",
       "3                 0.0                  0.144265                    0.0   \n",
       "4                 0.0                  0.144265                    0.0   \n",
       "\n",
       "   OPAnnualReimbursementAmt  OPAnnualDeductibleAmt  \n",
       "0                  0.008596               0.045872  \n",
       "1                  0.518625               0.697248  \n",
       "2                  0.518625               0.697248  \n",
       "3                  0.518625               0.697248  \n",
       "4                  0.518625               0.697248  "
      ]
     },
     "execution_count": 85,
     "metadata": {},
     "output_type": "execute_result"
    }
   ],
   "source": [
    "X = pd.DataFrame(num_scaled,columns = x1.columns)\n",
    "X.head()"
   ]
  },
  {
   "cell_type": "code",
   "execution_count": 86,
   "id": "1c00e936-a5d7-4740-9d9a-41290e5a18c8",
   "metadata": {},
   "outputs": [
    {
     "data": {
      "text/html": [
       "<div>\n",
       "<style scoped>\n",
       "    .dataframe tbody tr th:only-of-type {\n",
       "        vertical-align: middle;\n",
       "    }\n",
       "\n",
       "    .dataframe tbody tr th {\n",
       "        vertical-align: top;\n",
       "    }\n",
       "\n",
       "    .dataframe thead th {\n",
       "        text-align: right;\n",
       "    }\n",
       "</style>\n",
       "<table border=\"1\" class=\"dataframe\">\n",
       "  <thead>\n",
       "    <tr style=\"text-align: right;\">\n",
       "      <th></th>\n",
       "      <th>InscClaimAmtReimbursed_x</th>\n",
       "      <th>DeductibleAmtPaid_x</th>\n",
       "      <th>InscClaimAmtReimbursed_y</th>\n",
       "      <th>ChronicCond_KidneyDisease</th>\n",
       "      <th>ChronicCond_Cancer</th>\n",
       "      <th>ChronicCond_ObstrPulmonary</th>\n",
       "      <th>ChronicCond_Depression</th>\n",
       "      <th>ChronicCond_Diabetes</th>\n",
       "      <th>ChronicCond_IschemicHeart</th>\n",
       "      <th>ChronicCond_Osteoporasis</th>\n",
       "      <th>ChronicCond_rheumatoidarthritis</th>\n",
       "      <th>ChronicCond_stroke</th>\n",
       "      <th>IPAnnualReimbursementAmt</th>\n",
       "      <th>IPAnnualDeductibleAmt</th>\n",
       "      <th>OPAnnualReimbursementAmt</th>\n",
       "      <th>OPAnnualDeductibleAmt</th>\n",
       "    </tr>\n",
       "  </thead>\n",
       "  <tbody>\n",
       "    <tr>\n",
       "      <th>0</th>\n",
       "      <td>0.000293</td>\n",
       "      <td>0.0</td>\n",
       "      <td>0.000293</td>\n",
       "      <td>1.0</td>\n",
       "      <td>0.0</td>\n",
       "      <td>0.0</td>\n",
       "      <td>1.0</td>\n",
       "      <td>1.0</td>\n",
       "      <td>1.0</td>\n",
       "      <td>1.0</td>\n",
       "      <td>1.0</td>\n",
       "      <td>0.0</td>\n",
       "      <td>0.144265</td>\n",
       "      <td>0.0</td>\n",
       "      <td>0.008596</td>\n",
       "      <td>0.045872</td>\n",
       "    </tr>\n",
       "    <tr>\n",
       "      <th>1</th>\n",
       "      <td>0.000390</td>\n",
       "      <td>0.0</td>\n",
       "      <td>0.000390</td>\n",
       "      <td>1.0</td>\n",
       "      <td>0.0</td>\n",
       "      <td>0.0</td>\n",
       "      <td>1.0</td>\n",
       "      <td>0.0</td>\n",
       "      <td>0.0</td>\n",
       "      <td>0.0</td>\n",
       "      <td>0.0</td>\n",
       "      <td>0.0</td>\n",
       "      <td>0.144265</td>\n",
       "      <td>0.0</td>\n",
       "      <td>0.518625</td>\n",
       "      <td>0.697248</td>\n",
       "    </tr>\n",
       "    <tr>\n",
       "      <th>2</th>\n",
       "      <td>0.001951</td>\n",
       "      <td>0.0</td>\n",
       "      <td>0.001951</td>\n",
       "      <td>1.0</td>\n",
       "      <td>0.0</td>\n",
       "      <td>0.0</td>\n",
       "      <td>1.0</td>\n",
       "      <td>0.0</td>\n",
       "      <td>0.0</td>\n",
       "      <td>0.0</td>\n",
       "      <td>0.0</td>\n",
       "      <td>0.0</td>\n",
       "      <td>0.144265</td>\n",
       "      <td>0.0</td>\n",
       "      <td>0.518625</td>\n",
       "      <td>0.697248</td>\n",
       "    </tr>\n",
       "    <tr>\n",
       "      <th>3</th>\n",
       "      <td>0.000195</td>\n",
       "      <td>0.0</td>\n",
       "      <td>0.000195</td>\n",
       "      <td>1.0</td>\n",
       "      <td>0.0</td>\n",
       "      <td>0.0</td>\n",
       "      <td>1.0</td>\n",
       "      <td>0.0</td>\n",
       "      <td>0.0</td>\n",
       "      <td>0.0</td>\n",
       "      <td>0.0</td>\n",
       "      <td>0.0</td>\n",
       "      <td>0.144265</td>\n",
       "      <td>0.0</td>\n",
       "      <td>0.518625</td>\n",
       "      <td>0.697248</td>\n",
       "    </tr>\n",
       "    <tr>\n",
       "      <th>4</th>\n",
       "      <td>0.000390</td>\n",
       "      <td>0.0</td>\n",
       "      <td>0.000390</td>\n",
       "      <td>1.0</td>\n",
       "      <td>0.0</td>\n",
       "      <td>0.0</td>\n",
       "      <td>1.0</td>\n",
       "      <td>0.0</td>\n",
       "      <td>0.0</td>\n",
       "      <td>0.0</td>\n",
       "      <td>0.0</td>\n",
       "      <td>0.0</td>\n",
       "      <td>0.144265</td>\n",
       "      <td>0.0</td>\n",
       "      <td>0.518625</td>\n",
       "      <td>0.697248</td>\n",
       "    </tr>\n",
       "  </tbody>\n",
       "</table>\n",
       "</div>"
      ],
      "text/plain": [
       "   InscClaimAmtReimbursed_x  DeductibleAmtPaid_x  InscClaimAmtReimbursed_y  \\\n",
       "0                  0.000293                  0.0                  0.000293   \n",
       "1                  0.000390                  0.0                  0.000390   \n",
       "2                  0.001951                  0.0                  0.001951   \n",
       "3                  0.000195                  0.0                  0.000195   \n",
       "4                  0.000390                  0.0                  0.000390   \n",
       "\n",
       "   ChronicCond_KidneyDisease  ChronicCond_Cancer  ChronicCond_ObstrPulmonary  \\\n",
       "0                        1.0                 0.0                         0.0   \n",
       "1                        1.0                 0.0                         0.0   \n",
       "2                        1.0                 0.0                         0.0   \n",
       "3                        1.0                 0.0                         0.0   \n",
       "4                        1.0                 0.0                         0.0   \n",
       "\n",
       "   ChronicCond_Depression  ChronicCond_Diabetes  ChronicCond_IschemicHeart  \\\n",
       "0                     1.0                   1.0                        1.0   \n",
       "1                     1.0                   0.0                        0.0   \n",
       "2                     1.0                   0.0                        0.0   \n",
       "3                     1.0                   0.0                        0.0   \n",
       "4                     1.0                   0.0                        0.0   \n",
       "\n",
       "   ChronicCond_Osteoporasis  ChronicCond_rheumatoidarthritis  \\\n",
       "0                       1.0                              1.0   \n",
       "1                       0.0                              0.0   \n",
       "2                       0.0                              0.0   \n",
       "3                       0.0                              0.0   \n",
       "4                       0.0                              0.0   \n",
       "\n",
       "   ChronicCond_stroke  IPAnnualReimbursementAmt  IPAnnualDeductibleAmt  \\\n",
       "0                 0.0                  0.144265                    0.0   \n",
       "1                 0.0                  0.144265                    0.0   \n",
       "2                 0.0                  0.144265                    0.0   \n",
       "3                 0.0                  0.144265                    0.0   \n",
       "4                 0.0                  0.144265                    0.0   \n",
       "\n",
       "   OPAnnualReimbursementAmt  OPAnnualDeductibleAmt  \n",
       "0                  0.008596               0.045872  \n",
       "1                  0.518625               0.697248  \n",
       "2                  0.518625               0.697248  \n",
       "3                  0.518625               0.697248  \n",
       "4                  0.518625               0.697248  "
      ]
     },
     "execution_count": 86,
     "metadata": {},
     "output_type": "execute_result"
    }
   ],
   "source": [
    "X.head()"
   ]
  },
  {
   "cell_type": "code",
   "execution_count": 87,
   "id": "4bd6680f-d95d-4954-921a-24721c9ead6c",
   "metadata": {},
   "outputs": [
    {
     "data": {
      "text/plain": [
       "0    1\n",
       "1    1\n",
       "2    1\n",
       "3    1\n",
       "4    1\n",
       "Name: PotentialFraud, dtype: int32"
      ]
     },
     "execution_count": 87,
     "metadata": {},
     "output_type": "execute_result"
    }
   ],
   "source": [
    "y.head()"
   ]
  },
  {
   "cell_type": "code",
   "execution_count": 88,
   "id": "6fcff52f-950d-44f3-a8e8-c67c8def6f08",
   "metadata": {},
   "outputs": [
    {
     "data": {
      "text/plain": [
       "BeneID                              object\n",
       "ClaimID                             object\n",
       "ClaimStartDt_x                      object\n",
       "ClaimEndDt_x                        object\n",
       "Provider_x                          object\n",
       "InscClaimAmtReimbursed_x             int64\n",
       "AttendingPhysician_x                object\n",
       "OtherPhysician_x                    object\n",
       "ClmDiagnosisCode_1_x                object\n",
       "ClmDiagnosisCode_2_x                object\n",
       "ClmDiagnosisCode_3_x                object\n",
       "ClmDiagnosisCode_4_x                object\n",
       "DeductibleAmtPaid_x                  int64\n",
       "ClmAdmitDiagnosisCode_x             object\n",
       "PotentialFraud                       int32\n",
       "BeneID_y                            object\n",
       "ClaimStartDt_y                      object\n",
       "ClaimEndDt_y                        object\n",
       "Provider_y                          object\n",
       "InscClaimAmtReimbursed_y             int64\n",
       "ChronicCond_KidneyDisease          float64\n",
       "ChronicCond_Cancer                 float64\n",
       "ChronicCond_ObstrPulmonary         float64\n",
       "ChronicCond_Depression             float64\n",
       "ChronicCond_Diabetes               float64\n",
       "ChronicCond_IschemicHeart          float64\n",
       "ChronicCond_Osteoporasis           float64\n",
       "ChronicCond_rheumatoidarthritis    float64\n",
       "ChronicCond_stroke                 float64\n",
       "IPAnnualReimbursementAmt           float64\n",
       "IPAnnualDeductibleAmt              float64\n",
       "OPAnnualReimbursementAmt           float64\n",
       "OPAnnualDeductibleAmt              float64\n",
       "dtype: object"
      ]
     },
     "execution_count": 88,
     "metadata": {},
     "output_type": "execute_result"
    }
   ],
   "source": [
    "df_final.dtypes"
   ]
  },
  {
   "cell_type": "markdown",
   "id": "f2223569-0f23-41eb-b650-ce628951c080",
   "metadata": {},
   "source": [
    "# Train Test Split"
   ]
  },
  {
   "cell_type": "markdown",
   "id": "27aa71c4-54e6-4af7-b6e1-ffdfc5b0d6d2",
   "metadata": {},
   "source": [
    "#### Scaling and adding the constant column for Logistic Reg"
   ]
  },
  {
   "cell_type": "code",
   "execution_count": 89,
   "id": "5c6483e6-18b2-45c1-bdf7-e9f6371b465c",
   "metadata": {},
   "outputs": [],
   "source": [
    "x_constant = X.copy()\n",
    "y = df_final_num.PotentialFraud"
   ]
  },
  {
   "cell_type": "code",
   "execution_count": 90,
   "id": "9a9f1d73-78a1-43fc-a712-7a89f2062c9e",
   "metadata": {},
   "outputs": [
    {
     "data": {
      "text/html": [
       "<div>\n",
       "<style scoped>\n",
       "    .dataframe tbody tr th:only-of-type {\n",
       "        vertical-align: middle;\n",
       "    }\n",
       "\n",
       "    .dataframe tbody tr th {\n",
       "        vertical-align: top;\n",
       "    }\n",
       "\n",
       "    .dataframe thead th {\n",
       "        text-align: right;\n",
       "    }\n",
       "</style>\n",
       "<table border=\"1\" class=\"dataframe\">\n",
       "  <thead>\n",
       "    <tr style=\"text-align: right;\">\n",
       "      <th></th>\n",
       "      <th>const</th>\n",
       "      <th>InscClaimAmtReimbursed_x</th>\n",
       "      <th>DeductibleAmtPaid_x</th>\n",
       "      <th>InscClaimAmtReimbursed_y</th>\n",
       "      <th>ChronicCond_KidneyDisease</th>\n",
       "      <th>ChronicCond_Cancer</th>\n",
       "      <th>ChronicCond_ObstrPulmonary</th>\n",
       "      <th>ChronicCond_Depression</th>\n",
       "      <th>ChronicCond_Diabetes</th>\n",
       "      <th>ChronicCond_IschemicHeart</th>\n",
       "      <th>ChronicCond_Osteoporasis</th>\n",
       "      <th>ChronicCond_rheumatoidarthritis</th>\n",
       "      <th>ChronicCond_stroke</th>\n",
       "      <th>IPAnnualReimbursementAmt</th>\n",
       "      <th>IPAnnualDeductibleAmt</th>\n",
       "      <th>OPAnnualReimbursementAmt</th>\n",
       "      <th>OPAnnualDeductibleAmt</th>\n",
       "    </tr>\n",
       "  </thead>\n",
       "  <tbody>\n",
       "    <tr>\n",
       "      <th>0</th>\n",
       "      <td>1.0</td>\n",
       "      <td>0.000293</td>\n",
       "      <td>0.0</td>\n",
       "      <td>0.000293</td>\n",
       "      <td>1.0</td>\n",
       "      <td>0.0</td>\n",
       "      <td>0.0</td>\n",
       "      <td>1.0</td>\n",
       "      <td>1.0</td>\n",
       "      <td>1.0</td>\n",
       "      <td>1.0</td>\n",
       "      <td>1.0</td>\n",
       "      <td>0.0</td>\n",
       "      <td>0.144265</td>\n",
       "      <td>0.0</td>\n",
       "      <td>0.008596</td>\n",
       "      <td>0.045872</td>\n",
       "    </tr>\n",
       "    <tr>\n",
       "      <th>1</th>\n",
       "      <td>1.0</td>\n",
       "      <td>0.000390</td>\n",
       "      <td>0.0</td>\n",
       "      <td>0.000390</td>\n",
       "      <td>1.0</td>\n",
       "      <td>0.0</td>\n",
       "      <td>0.0</td>\n",
       "      <td>1.0</td>\n",
       "      <td>0.0</td>\n",
       "      <td>0.0</td>\n",
       "      <td>0.0</td>\n",
       "      <td>0.0</td>\n",
       "      <td>0.0</td>\n",
       "      <td>0.144265</td>\n",
       "      <td>0.0</td>\n",
       "      <td>0.518625</td>\n",
       "      <td>0.697248</td>\n",
       "    </tr>\n",
       "    <tr>\n",
       "      <th>2</th>\n",
       "      <td>1.0</td>\n",
       "      <td>0.001951</td>\n",
       "      <td>0.0</td>\n",
       "      <td>0.001951</td>\n",
       "      <td>1.0</td>\n",
       "      <td>0.0</td>\n",
       "      <td>0.0</td>\n",
       "      <td>1.0</td>\n",
       "      <td>0.0</td>\n",
       "      <td>0.0</td>\n",
       "      <td>0.0</td>\n",
       "      <td>0.0</td>\n",
       "      <td>0.0</td>\n",
       "      <td>0.144265</td>\n",
       "      <td>0.0</td>\n",
       "      <td>0.518625</td>\n",
       "      <td>0.697248</td>\n",
       "    </tr>\n",
       "    <tr>\n",
       "      <th>3</th>\n",
       "      <td>1.0</td>\n",
       "      <td>0.000195</td>\n",
       "      <td>0.0</td>\n",
       "      <td>0.000195</td>\n",
       "      <td>1.0</td>\n",
       "      <td>0.0</td>\n",
       "      <td>0.0</td>\n",
       "      <td>1.0</td>\n",
       "      <td>0.0</td>\n",
       "      <td>0.0</td>\n",
       "      <td>0.0</td>\n",
       "      <td>0.0</td>\n",
       "      <td>0.0</td>\n",
       "      <td>0.144265</td>\n",
       "      <td>0.0</td>\n",
       "      <td>0.518625</td>\n",
       "      <td>0.697248</td>\n",
       "    </tr>\n",
       "    <tr>\n",
       "      <th>4</th>\n",
       "      <td>1.0</td>\n",
       "      <td>0.000390</td>\n",
       "      <td>0.0</td>\n",
       "      <td>0.000390</td>\n",
       "      <td>1.0</td>\n",
       "      <td>0.0</td>\n",
       "      <td>0.0</td>\n",
       "      <td>1.0</td>\n",
       "      <td>0.0</td>\n",
       "      <td>0.0</td>\n",
       "      <td>0.0</td>\n",
       "      <td>0.0</td>\n",
       "      <td>0.0</td>\n",
       "      <td>0.144265</td>\n",
       "      <td>0.0</td>\n",
       "      <td>0.518625</td>\n",
       "      <td>0.697248</td>\n",
       "    </tr>\n",
       "  </tbody>\n",
       "</table>\n",
       "</div>"
      ],
      "text/plain": [
       "   const  InscClaimAmtReimbursed_x  DeductibleAmtPaid_x  \\\n",
       "0    1.0                  0.000293                  0.0   \n",
       "1    1.0                  0.000390                  0.0   \n",
       "2    1.0                  0.001951                  0.0   \n",
       "3    1.0                  0.000195                  0.0   \n",
       "4    1.0                  0.000390                  0.0   \n",
       "\n",
       "   InscClaimAmtReimbursed_y  ChronicCond_KidneyDisease  ChronicCond_Cancer  \\\n",
       "0                  0.000293                        1.0                 0.0   \n",
       "1                  0.000390                        1.0                 0.0   \n",
       "2                  0.001951                        1.0                 0.0   \n",
       "3                  0.000195                        1.0                 0.0   \n",
       "4                  0.000390                        1.0                 0.0   \n",
       "\n",
       "   ChronicCond_ObstrPulmonary  ChronicCond_Depression  ChronicCond_Diabetes  \\\n",
       "0                         0.0                     1.0                   1.0   \n",
       "1                         0.0                     1.0                   0.0   \n",
       "2                         0.0                     1.0                   0.0   \n",
       "3                         0.0                     1.0                   0.0   \n",
       "4                         0.0                     1.0                   0.0   \n",
       "\n",
       "   ChronicCond_IschemicHeart  ChronicCond_Osteoporasis  \\\n",
       "0                        1.0                       1.0   \n",
       "1                        0.0                       0.0   \n",
       "2                        0.0                       0.0   \n",
       "3                        0.0                       0.0   \n",
       "4                        0.0                       0.0   \n",
       "\n",
       "   ChronicCond_rheumatoidarthritis  ChronicCond_stroke  \\\n",
       "0                              1.0                 0.0   \n",
       "1                              0.0                 0.0   \n",
       "2                              0.0                 0.0   \n",
       "3                              0.0                 0.0   \n",
       "4                              0.0                 0.0   \n",
       "\n",
       "   IPAnnualReimbursementAmt  IPAnnualDeductibleAmt  OPAnnualReimbursementAmt  \\\n",
       "0                  0.144265                    0.0                  0.008596   \n",
       "1                  0.144265                    0.0                  0.518625   \n",
       "2                  0.144265                    0.0                  0.518625   \n",
       "3                  0.144265                    0.0                  0.518625   \n",
       "4                  0.144265                    0.0                  0.518625   \n",
       "\n",
       "   OPAnnualDeductibleAmt  \n",
       "0               0.045872  \n",
       "1               0.697248  \n",
       "2               0.697248  \n",
       "3               0.697248  \n",
       "4               0.697248  "
      ]
     },
     "execution_count": 90,
     "metadata": {},
     "output_type": "execute_result"
    }
   ],
   "source": [
    "x_constant = sm.add_constant(x_constant,has_constant ='skip')\n",
    "x_constant.head()"
   ]
  },
  {
   "cell_type": "code",
   "execution_count": 91,
   "id": "b7c34360-cd8c-4409-a075-4cd150271da8",
   "metadata": {},
   "outputs": [
    {
     "name": "stdout",
     "output_type": "stream",
     "text": [
      "X_train_const (414189, 17)\n",
      "y_train_const (414189,)\n",
      "X_test_const (103548, 17)\n",
      "y_test_const (103548,)\n"
     ]
    }
   ],
   "source": [
    "# this split is for the Logistic Regression with the constant column\n",
    "\n",
    "X_train_const,X_test_const,y_train_const,y_test_const = train_test_split(x_constant,y,test_size = 0.2,random_state = 10)\n",
    "\n",
    "# print dimension of train set\n",
    "print('X_train_const', X_train_const.shape)\n",
    "print('y_train_const', y_train_const.shape)\n",
    "\n",
    "# print dimension of test set\n",
    "print('X_test_const', X_test_const.shape)\n",
    "print('y_test_const', y_test_const.shape)"
   ]
  },
  {
   "cell_type": "code",
   "execution_count": 92,
   "id": "ae2500c0-23d5-48aa-b382-11a7cc7a71c4",
   "metadata": {},
   "outputs": [
    {
     "data": {
      "text/html": [
       "<div>\n",
       "<style scoped>\n",
       "    .dataframe tbody tr th:only-of-type {\n",
       "        vertical-align: middle;\n",
       "    }\n",
       "\n",
       "    .dataframe tbody tr th {\n",
       "        vertical-align: top;\n",
       "    }\n",
       "\n",
       "    .dataframe thead th {\n",
       "        text-align: right;\n",
       "    }\n",
       "</style>\n",
       "<table border=\"1\" class=\"dataframe\">\n",
       "  <thead>\n",
       "    <tr style=\"text-align: right;\">\n",
       "      <th></th>\n",
       "      <th>const</th>\n",
       "      <th>InscClaimAmtReimbursed_x</th>\n",
       "      <th>DeductibleAmtPaid_x</th>\n",
       "      <th>InscClaimAmtReimbursed_y</th>\n",
       "      <th>ChronicCond_KidneyDisease</th>\n",
       "      <th>ChronicCond_Cancer</th>\n",
       "      <th>ChronicCond_ObstrPulmonary</th>\n",
       "      <th>ChronicCond_Depression</th>\n",
       "      <th>ChronicCond_Diabetes</th>\n",
       "      <th>ChronicCond_IschemicHeart</th>\n",
       "      <th>ChronicCond_Osteoporasis</th>\n",
       "      <th>ChronicCond_rheumatoidarthritis</th>\n",
       "      <th>ChronicCond_stroke</th>\n",
       "      <th>IPAnnualReimbursementAmt</th>\n",
       "      <th>IPAnnualDeductibleAmt</th>\n",
       "      <th>OPAnnualReimbursementAmt</th>\n",
       "      <th>OPAnnualDeductibleAmt</th>\n",
       "    </tr>\n",
       "  </thead>\n",
       "  <tbody>\n",
       "    <tr>\n",
       "      <th>377346</th>\n",
       "      <td>1.0</td>\n",
       "      <td>0.032195</td>\n",
       "      <td>0.0</td>\n",
       "      <td>0.032195</td>\n",
       "      <td>1.0</td>\n",
       "      <td>0.0</td>\n",
       "      <td>0.0</td>\n",
       "      <td>1.0</td>\n",
       "      <td>1.0</td>\n",
       "      <td>0.0</td>\n",
       "      <td>1.0</td>\n",
       "      <td>1.0</td>\n",
       "      <td>0.0</td>\n",
       "      <td>0.144265</td>\n",
       "      <td>0.0</td>\n",
       "      <td>0.211847</td>\n",
       "      <td>0.183486</td>\n",
       "    </tr>\n",
       "    <tr>\n",
       "      <th>300857</th>\n",
       "      <td>1.0</td>\n",
       "      <td>0.000293</td>\n",
       "      <td>0.0</td>\n",
       "      <td>0.000293</td>\n",
       "      <td>1.0</td>\n",
       "      <td>0.0</td>\n",
       "      <td>0.0</td>\n",
       "      <td>1.0</td>\n",
       "      <td>1.0</td>\n",
       "      <td>0.0</td>\n",
       "      <td>1.0</td>\n",
       "      <td>0.0</td>\n",
       "      <td>0.0</td>\n",
       "      <td>0.144265</td>\n",
       "      <td>0.0</td>\n",
       "      <td>0.395415</td>\n",
       "      <td>0.568807</td>\n",
       "    </tr>\n",
       "  </tbody>\n",
       "</table>\n",
       "</div>"
      ],
      "text/plain": [
       "        const  InscClaimAmtReimbursed_x  DeductibleAmtPaid_x  \\\n",
       "377346    1.0                  0.032195                  0.0   \n",
       "300857    1.0                  0.000293                  0.0   \n",
       "\n",
       "        InscClaimAmtReimbursed_y  ChronicCond_KidneyDisease  \\\n",
       "377346                  0.032195                        1.0   \n",
       "300857                  0.000293                        1.0   \n",
       "\n",
       "        ChronicCond_Cancer  ChronicCond_ObstrPulmonary  \\\n",
       "377346                 0.0                         0.0   \n",
       "300857                 0.0                         0.0   \n",
       "\n",
       "        ChronicCond_Depression  ChronicCond_Diabetes  \\\n",
       "377346                     1.0                   1.0   \n",
       "300857                     1.0                   1.0   \n",
       "\n",
       "        ChronicCond_IschemicHeart  ChronicCond_Osteoporasis  \\\n",
       "377346                        0.0                       1.0   \n",
       "300857                        0.0                       1.0   \n",
       "\n",
       "        ChronicCond_rheumatoidarthritis  ChronicCond_stroke  \\\n",
       "377346                              1.0                 0.0   \n",
       "300857                              0.0                 0.0   \n",
       "\n",
       "        IPAnnualReimbursementAmt  IPAnnualDeductibleAmt  \\\n",
       "377346                  0.144265                    0.0   \n",
       "300857                  0.144265                    0.0   \n",
       "\n",
       "        OPAnnualReimbursementAmt  OPAnnualDeductibleAmt  \n",
       "377346                  0.211847               0.183486  \n",
       "300857                  0.395415               0.568807  "
      ]
     },
     "execution_count": 92,
     "metadata": {},
     "output_type": "execute_result"
    }
   ],
   "source": [
    "X_train_const.head(2)"
   ]
  },
  {
   "cell_type": "code",
   "execution_count": 93,
   "id": "534f2ad2-3d19-47b3-b327-b2fc2017290e",
   "metadata": {},
   "outputs": [
    {
     "data": {
      "text/plain": [
       "377346    0\n",
       "300857    0\n",
       "Name: PotentialFraud, dtype: int32"
      ]
     },
     "execution_count": 93,
     "metadata": {},
     "output_type": "execute_result"
    }
   ],
   "source": [
    "y_train_const.head(2)"
   ]
  },
  {
   "cell_type": "code",
   "execution_count": 94,
   "id": "25747eea-8ff8-4a9c-a7e4-a4dd08842aae",
   "metadata": {},
   "outputs": [
    {
     "data": {
      "text/html": [
       "<div>\n",
       "<style scoped>\n",
       "    .dataframe tbody tr th:only-of-type {\n",
       "        vertical-align: middle;\n",
       "    }\n",
       "\n",
       "    .dataframe tbody tr th {\n",
       "        vertical-align: top;\n",
       "    }\n",
       "\n",
       "    .dataframe thead th {\n",
       "        text-align: right;\n",
       "    }\n",
       "</style>\n",
       "<table border=\"1\" class=\"dataframe\">\n",
       "  <thead>\n",
       "    <tr style=\"text-align: right;\">\n",
       "      <th></th>\n",
       "      <th>const</th>\n",
       "      <th>InscClaimAmtReimbursed_x</th>\n",
       "      <th>DeductibleAmtPaid_x</th>\n",
       "      <th>InscClaimAmtReimbursed_y</th>\n",
       "      <th>ChronicCond_KidneyDisease</th>\n",
       "      <th>ChronicCond_Cancer</th>\n",
       "      <th>ChronicCond_ObstrPulmonary</th>\n",
       "      <th>ChronicCond_Depression</th>\n",
       "      <th>ChronicCond_Diabetes</th>\n",
       "      <th>ChronicCond_IschemicHeart</th>\n",
       "      <th>ChronicCond_Osteoporasis</th>\n",
       "      <th>ChronicCond_rheumatoidarthritis</th>\n",
       "      <th>ChronicCond_stroke</th>\n",
       "      <th>IPAnnualReimbursementAmt</th>\n",
       "      <th>IPAnnualDeductibleAmt</th>\n",
       "      <th>OPAnnualReimbursementAmt</th>\n",
       "      <th>OPAnnualDeductibleAmt</th>\n",
       "    </tr>\n",
       "  </thead>\n",
       "  <tbody>\n",
       "    <tr>\n",
       "      <th>316309</th>\n",
       "      <td>1.0</td>\n",
       "      <td>0.000683</td>\n",
       "      <td>0.0</td>\n",
       "      <td>0.000683</td>\n",
       "      <td>1.0</td>\n",
       "      <td>0.0</td>\n",
       "      <td>0.0</td>\n",
       "      <td>1.0</td>\n",
       "      <td>1.0</td>\n",
       "      <td>1.0</td>\n",
       "      <td>0.0</td>\n",
       "      <td>1.0</td>\n",
       "      <td>0.0</td>\n",
       "      <td>0.144265</td>\n",
       "      <td>0.000000</td>\n",
       "      <td>0.272206</td>\n",
       "      <td>0.311927</td>\n",
       "    </tr>\n",
       "    <tr>\n",
       "      <th>468783</th>\n",
       "      <td>1.0</td>\n",
       "      <td>0.000878</td>\n",
       "      <td>0.0</td>\n",
       "      <td>0.000878</td>\n",
       "      <td>0.0</td>\n",
       "      <td>0.0</td>\n",
       "      <td>0.0</td>\n",
       "      <td>1.0</td>\n",
       "      <td>0.0</td>\n",
       "      <td>0.0</td>\n",
       "      <td>0.0</td>\n",
       "      <td>1.0</td>\n",
       "      <td>0.0</td>\n",
       "      <td>0.490331</td>\n",
       "      <td>0.405159</td>\n",
       "      <td>0.051576</td>\n",
       "      <td>0.642202</td>\n",
       "    </tr>\n",
       "  </tbody>\n",
       "</table>\n",
       "</div>"
      ],
      "text/plain": [
       "        const  InscClaimAmtReimbursed_x  DeductibleAmtPaid_x  \\\n",
       "316309    1.0                  0.000683                  0.0   \n",
       "468783    1.0                  0.000878                  0.0   \n",
       "\n",
       "        InscClaimAmtReimbursed_y  ChronicCond_KidneyDisease  \\\n",
       "316309                  0.000683                        1.0   \n",
       "468783                  0.000878                        0.0   \n",
       "\n",
       "        ChronicCond_Cancer  ChronicCond_ObstrPulmonary  \\\n",
       "316309                 0.0                         0.0   \n",
       "468783                 0.0                         0.0   \n",
       "\n",
       "        ChronicCond_Depression  ChronicCond_Diabetes  \\\n",
       "316309                     1.0                   1.0   \n",
       "468783                     1.0                   0.0   \n",
       "\n",
       "        ChronicCond_IschemicHeart  ChronicCond_Osteoporasis  \\\n",
       "316309                        1.0                       0.0   \n",
       "468783                        0.0                       0.0   \n",
       "\n",
       "        ChronicCond_rheumatoidarthritis  ChronicCond_stroke  \\\n",
       "316309                              1.0                 0.0   \n",
       "468783                              1.0                 0.0   \n",
       "\n",
       "        IPAnnualReimbursementAmt  IPAnnualDeductibleAmt  \\\n",
       "316309                  0.144265               0.000000   \n",
       "468783                  0.490331               0.405159   \n",
       "\n",
       "        OPAnnualReimbursementAmt  OPAnnualDeductibleAmt  \n",
       "316309                  0.272206               0.311927  \n",
       "468783                  0.051576               0.642202  "
      ]
     },
     "execution_count": 94,
     "metadata": {},
     "output_type": "execute_result"
    }
   ],
   "source": [
    "X_test_const.head(2)"
   ]
  },
  {
   "cell_type": "code",
   "execution_count": 95,
   "id": "a08dfcb6-6209-4677-947e-1d430e0310e4",
   "metadata": {},
   "outputs": [
    {
     "data": {
      "text/plain": [
       "316309    1\n",
       "468783    0\n",
       "Name: PotentialFraud, dtype: int32"
      ]
     },
     "execution_count": 95,
     "metadata": {},
     "output_type": "execute_result"
    }
   ],
   "source": [
    "y_test_const.head(2)"
   ]
  },
  {
   "cell_type": "code",
   "execution_count": 96,
   "id": "58cc4ff6-b856-42c2-af6e-1ae3046d08a2",
   "metadata": {},
   "outputs": [
    {
     "data": {
      "text/plain": [
       "const                              0\n",
       "InscClaimAmtReimbursed_x           0\n",
       "DeductibleAmtPaid_x                0\n",
       "InscClaimAmtReimbursed_y           0\n",
       "ChronicCond_KidneyDisease          0\n",
       "ChronicCond_Cancer                 0\n",
       "ChronicCond_ObstrPulmonary         0\n",
       "ChronicCond_Depression             0\n",
       "ChronicCond_Diabetes               0\n",
       "ChronicCond_IschemicHeart          0\n",
       "ChronicCond_Osteoporasis           0\n",
       "ChronicCond_rheumatoidarthritis    0\n",
       "ChronicCond_stroke                 0\n",
       "IPAnnualReimbursementAmt           0\n",
       "IPAnnualDeductibleAmt              0\n",
       "OPAnnualReimbursementAmt           0\n",
       "OPAnnualDeductibleAmt              0\n",
       "dtype: int64"
      ]
     },
     "execution_count": 96,
     "metadata": {},
     "output_type": "execute_result"
    }
   ],
   "source": [
    "X_test_const.isnull().sum()"
   ]
  },
  {
   "cell_type": "markdown",
   "id": "5b13ed4a-9a15-49c6-a917-c593060efb32",
   "metadata": {},
   "source": [
    "# Models"
   ]
  },
  {
   "cell_type": "code",
   "execution_count": 97,
   "id": "b3b24630-8b6f-426e-8c1c-be3476a718df",
   "metadata": {},
   "outputs": [],
   "source": [
    "score_card = pd.DataFrame(columns=['Model_Name','Probability Cutoff', 'AUC Score', 'Precision Score', 'Recall Score',\n",
    "                                       'Accuracy Score', 'Kappa Score', 'f1-score'])\n",
    "\n",
    "def update_score_card(algorithm_name,model, cutoff):\n",
    "    \n",
    "    # let 'y_pred_prob' be the predicted values of y\n",
    "    y_pred_prob = model.predict(X_test_const)\n",
    "\n",
    "    # convert probabilities to 0 and 1 using 'if_else'\n",
    "    y_pred = [ 0 if x < cutoff else 1 for x in y_pred_prob]\n",
    "    \n",
    "    # assign 'score_card' as global variable\n",
    "    global score_card\n",
    "\n",
    "    # append the results to the dataframe 'score_card'\n",
    "    # 'ignore_index = True' do not consider the index labels\n",
    "    score_card = score_card.append({'Model_Name': algorithm_name,\n",
    "                                    'Probability Cutoff': cutoff,\n",
    "                                    'AUC Score' : metrics.roc_auc_score(y_test_const, y_pred),\n",
    "                                    'Precision Score': metrics.precision_score(y_test_const, y_pred),\n",
    "                                    'Recall Score': metrics.recall_score(y_test_const, y_pred),\n",
    "                                    'Accuracy Score': metrics.accuracy_score(y_test_const, y_pred),\n",
    "                                    'Kappa Score':metrics.cohen_kappa_score(y_test_const, y_pred),\n",
    "                                    'f1-score': metrics.f1_score(y_test_const, y_pred)}, \n",
    "                                    ignore_index = True)"
   ]
  },
  {
   "cell_type": "markdown",
   "id": "dd1183c0-ae70-49e4-b054-5d700a4f2de1",
   "metadata": {},
   "source": [
    "### Logistic Regression Model"
   ]
  },
  {
   "cell_type": "code",
   "execution_count": 98,
   "id": "6e0a7159-3a55-4038-8870-54a7bf1628a5",
   "metadata": {},
   "outputs": [
    {
     "data": {
      "text/html": [
       "<style>#sk-container-id-1 {color: black;}#sk-container-id-1 pre{padding: 0;}#sk-container-id-1 div.sk-toggleable {background-color: white;}#sk-container-id-1 label.sk-toggleable__label {cursor: pointer;display: block;width: 100%;margin-bottom: 0;padding: 0.3em;box-sizing: border-box;text-align: center;}#sk-container-id-1 label.sk-toggleable__label-arrow:before {content: \"▸\";float: left;margin-right: 0.25em;color: #696969;}#sk-container-id-1 label.sk-toggleable__label-arrow:hover:before {color: black;}#sk-container-id-1 div.sk-estimator:hover label.sk-toggleable__label-arrow:before {color: black;}#sk-container-id-1 div.sk-toggleable__content {max-height: 0;max-width: 0;overflow: hidden;text-align: left;background-color: #f0f8ff;}#sk-container-id-1 div.sk-toggleable__content pre {margin: 0.2em;color: black;border-radius: 0.25em;background-color: #f0f8ff;}#sk-container-id-1 input.sk-toggleable__control:checked~div.sk-toggleable__content {max-height: 200px;max-width: 100%;overflow: auto;}#sk-container-id-1 input.sk-toggleable__control:checked~label.sk-toggleable__label-arrow:before {content: \"▾\";}#sk-container-id-1 div.sk-estimator input.sk-toggleable__control:checked~label.sk-toggleable__label {background-color: #d4ebff;}#sk-container-id-1 div.sk-label input.sk-toggleable__control:checked~label.sk-toggleable__label {background-color: #d4ebff;}#sk-container-id-1 input.sk-hidden--visually {border: 0;clip: rect(1px 1px 1px 1px);clip: rect(1px, 1px, 1px, 1px);height: 1px;margin: -1px;overflow: hidden;padding: 0;position: absolute;width: 1px;}#sk-container-id-1 div.sk-estimator {font-family: monospace;background-color: #f0f8ff;border: 1px dotted black;border-radius: 0.25em;box-sizing: border-box;margin-bottom: 0.5em;}#sk-container-id-1 div.sk-estimator:hover {background-color: #d4ebff;}#sk-container-id-1 div.sk-parallel-item::after {content: \"\";width: 100%;border-bottom: 1px solid gray;flex-grow: 1;}#sk-container-id-1 div.sk-label:hover label.sk-toggleable__label {background-color: #d4ebff;}#sk-container-id-1 div.sk-serial::before {content: \"\";position: absolute;border-left: 1px solid gray;box-sizing: border-box;top: 0;bottom: 0;left: 50%;z-index: 0;}#sk-container-id-1 div.sk-serial {display: flex;flex-direction: column;align-items: center;background-color: white;padding-right: 0.2em;padding-left: 0.2em;position: relative;}#sk-container-id-1 div.sk-item {position: relative;z-index: 1;}#sk-container-id-1 div.sk-parallel {display: flex;align-items: stretch;justify-content: center;background-color: white;position: relative;}#sk-container-id-1 div.sk-item::before, #sk-container-id-1 div.sk-parallel-item::before {content: \"\";position: absolute;border-left: 1px solid gray;box-sizing: border-box;top: 0;bottom: 0;left: 50%;z-index: -1;}#sk-container-id-1 div.sk-parallel-item {display: flex;flex-direction: column;z-index: 1;position: relative;background-color: white;}#sk-container-id-1 div.sk-parallel-item:first-child::after {align-self: flex-end;width: 50%;}#sk-container-id-1 div.sk-parallel-item:last-child::after {align-self: flex-start;width: 50%;}#sk-container-id-1 div.sk-parallel-item:only-child::after {width: 0;}#sk-container-id-1 div.sk-dashed-wrapped {border: 1px dashed gray;margin: 0 0.4em 0.5em 0.4em;box-sizing: border-box;padding-bottom: 0.4em;background-color: white;}#sk-container-id-1 div.sk-label label {font-family: monospace;font-weight: bold;display: inline-block;line-height: 1.2em;}#sk-container-id-1 div.sk-label-container {text-align: center;}#sk-container-id-1 div.sk-container {/* jupyter's `normalize.less` sets `[hidden] { display: none; }` but bootstrap.min.css set `[hidden] { display: none !important; }` so we also need the `!important` here to be able to override the default hidden behavior on the sphinx rendered scikit-learn.org. See: https://github.com/scikit-learn/scikit-learn/issues/21755 */display: inline-block !important;position: relative;}#sk-container-id-1 div.sk-text-repr-fallback {display: none;}</style><div id=\"sk-container-id-1\" class=\"sk-top-container\"><div class=\"sk-text-repr-fallback\"><pre>LogisticRegression()</pre><b>In a Jupyter environment, please rerun this cell to show the HTML representation or trust the notebook. <br />On GitHub, the HTML representation is unable to render, please try loading this page with nbviewer.org.</b></div><div class=\"sk-container\" hidden><div class=\"sk-item\"><div class=\"sk-estimator sk-toggleable\"><input class=\"sk-toggleable__control sk-hidden--visually\" id=\"sk-estimator-id-1\" type=\"checkbox\" checked><label for=\"sk-estimator-id-1\" class=\"sk-toggleable__label sk-toggleable__label-arrow\">LogisticRegression</label><div class=\"sk-toggleable__content\"><pre>LogisticRegression()</pre></div></div></div></div></div>"
      ],
      "text/plain": [
       "LogisticRegression()"
      ]
     },
     "execution_count": 98,
     "metadata": {},
     "output_type": "execute_result"
    }
   ],
   "source": [
    "logreg = LogisticRegression()\n",
    "logreg.fit(X_train_const,y_train_const)"
   ]
  },
  {
   "cell_type": "code",
   "execution_count": 99,
   "id": "55817e50-4864-4a5c-822d-2cbcde2db7bb",
   "metadata": {},
   "outputs": [],
   "source": [
    "# let 'y_pred' be the predicted values of y\n",
    "y_pred_prob = logreg.predict(X_test_const)"
   ]
  },
  {
   "cell_type": "code",
   "execution_count": 100,
   "id": "57abd924-1671-4228-a9c6-252278e2e638",
   "metadata": {},
   "outputs": [],
   "source": [
    "# convert probabilities to 0 and 1 using 'if_else'\n",
    "y_pred = [ 0 if x < 0.5 else 1 for x in y_pred_prob]"
   ]
  },
  {
   "cell_type": "code",
   "execution_count": 101,
   "id": "c31eadb7-69a2-41af-9bd7-dbf9c4f3be73",
   "metadata": {},
   "outputs": [
    {
     "name": "stdout",
     "output_type": "stream",
     "text": [
      "              precision    recall  f1-score   support\n",
      "\n",
      "           0       0.64      1.00      0.78     65775\n",
      "           1       0.00      0.00      0.00     37773\n",
      "\n",
      "    accuracy                           0.64    103548\n",
      "   macro avg       0.32      0.50      0.39    103548\n",
      "weighted avg       0.40      0.64      0.49    103548\n",
      "\n"
     ]
    }
   ],
   "source": [
    "acc_table = classification_report(y_test_const, y_pred)\n",
    "print(acc_table)"
   ]
  },
  {
   "cell_type": "markdown",
   "id": "0768df4c-22be-4ff7-a6ed-3553635a0b0e",
   "metadata": {},
   "source": [
    "### Logistic Regression - GridSearchCV"
   ]
  },
  {
   "cell_type": "code",
   "execution_count": 102,
   "id": "14aa3e07-8749-41a1-9332-f6a71d2d7f2d",
   "metadata": {},
   "outputs": [
    {
     "data": {
      "text/html": [
       "<style>#sk-container-id-2 {color: black;}#sk-container-id-2 pre{padding: 0;}#sk-container-id-2 div.sk-toggleable {background-color: white;}#sk-container-id-2 label.sk-toggleable__label {cursor: pointer;display: block;width: 100%;margin-bottom: 0;padding: 0.3em;box-sizing: border-box;text-align: center;}#sk-container-id-2 label.sk-toggleable__label-arrow:before {content: \"▸\";float: left;margin-right: 0.25em;color: #696969;}#sk-container-id-2 label.sk-toggleable__label-arrow:hover:before {color: black;}#sk-container-id-2 div.sk-estimator:hover label.sk-toggleable__label-arrow:before {color: black;}#sk-container-id-2 div.sk-toggleable__content {max-height: 0;max-width: 0;overflow: hidden;text-align: left;background-color: #f0f8ff;}#sk-container-id-2 div.sk-toggleable__content pre {margin: 0.2em;color: black;border-radius: 0.25em;background-color: #f0f8ff;}#sk-container-id-2 input.sk-toggleable__control:checked~div.sk-toggleable__content {max-height: 200px;max-width: 100%;overflow: auto;}#sk-container-id-2 input.sk-toggleable__control:checked~label.sk-toggleable__label-arrow:before {content: \"▾\";}#sk-container-id-2 div.sk-estimator input.sk-toggleable__control:checked~label.sk-toggleable__label {background-color: #d4ebff;}#sk-container-id-2 div.sk-label input.sk-toggleable__control:checked~label.sk-toggleable__label {background-color: #d4ebff;}#sk-container-id-2 input.sk-hidden--visually {border: 0;clip: rect(1px 1px 1px 1px);clip: rect(1px, 1px, 1px, 1px);height: 1px;margin: -1px;overflow: hidden;padding: 0;position: absolute;width: 1px;}#sk-container-id-2 div.sk-estimator {font-family: monospace;background-color: #f0f8ff;border: 1px dotted black;border-radius: 0.25em;box-sizing: border-box;margin-bottom: 0.5em;}#sk-container-id-2 div.sk-estimator:hover {background-color: #d4ebff;}#sk-container-id-2 div.sk-parallel-item::after {content: \"\";width: 100%;border-bottom: 1px solid gray;flex-grow: 1;}#sk-container-id-2 div.sk-label:hover label.sk-toggleable__label {background-color: #d4ebff;}#sk-container-id-2 div.sk-serial::before {content: \"\";position: absolute;border-left: 1px solid gray;box-sizing: border-box;top: 0;bottom: 0;left: 50%;z-index: 0;}#sk-container-id-2 div.sk-serial {display: flex;flex-direction: column;align-items: center;background-color: white;padding-right: 0.2em;padding-left: 0.2em;position: relative;}#sk-container-id-2 div.sk-item {position: relative;z-index: 1;}#sk-container-id-2 div.sk-parallel {display: flex;align-items: stretch;justify-content: center;background-color: white;position: relative;}#sk-container-id-2 div.sk-item::before, #sk-container-id-2 div.sk-parallel-item::before {content: \"\";position: absolute;border-left: 1px solid gray;box-sizing: border-box;top: 0;bottom: 0;left: 50%;z-index: -1;}#sk-container-id-2 div.sk-parallel-item {display: flex;flex-direction: column;z-index: 1;position: relative;background-color: white;}#sk-container-id-2 div.sk-parallel-item:first-child::after {align-self: flex-end;width: 50%;}#sk-container-id-2 div.sk-parallel-item:last-child::after {align-self: flex-start;width: 50%;}#sk-container-id-2 div.sk-parallel-item:only-child::after {width: 0;}#sk-container-id-2 div.sk-dashed-wrapped {border: 1px dashed gray;margin: 0 0.4em 0.5em 0.4em;box-sizing: border-box;padding-bottom: 0.4em;background-color: white;}#sk-container-id-2 div.sk-label label {font-family: monospace;font-weight: bold;display: inline-block;line-height: 1.2em;}#sk-container-id-2 div.sk-label-container {text-align: center;}#sk-container-id-2 div.sk-container {/* jupyter's `normalize.less` sets `[hidden] { display: none; }` but bootstrap.min.css set `[hidden] { display: none !important; }` so we also need the `!important` here to be able to override the default hidden behavior on the sphinx rendered scikit-learn.org. See: https://github.com/scikit-learn/scikit-learn/issues/21755 */display: inline-block !important;position: relative;}#sk-container-id-2 div.sk-text-repr-fallback {display: none;}</style><div id=\"sk-container-id-2\" class=\"sk-top-container\"><div class=\"sk-text-repr-fallback\"><pre>GridSearchCV(cv=5, estimator=LogisticRegression(), n_jobs=-1,\n",
       "             param_grid={&#x27;C&#x27;: array([1.e-03, 1.e-02, 1.e-01, 1.e+00, 1.e+01, 1.e+02, 1.e+03]),\n",
       "                         &#x27;penalty&#x27;: [&#x27;l1&#x27;, &#x27;l2&#x27;]},\n",
       "             return_train_score=True, scoring=&#x27;roc_auc&#x27;)</pre><b>In a Jupyter environment, please rerun this cell to show the HTML representation or trust the notebook. <br />On GitHub, the HTML representation is unable to render, please try loading this page with nbviewer.org.</b></div><div class=\"sk-container\" hidden><div class=\"sk-item sk-dashed-wrapped\"><div class=\"sk-label-container\"><div class=\"sk-label sk-toggleable\"><input class=\"sk-toggleable__control sk-hidden--visually\" id=\"sk-estimator-id-2\" type=\"checkbox\" ><label for=\"sk-estimator-id-2\" class=\"sk-toggleable__label sk-toggleable__label-arrow\">GridSearchCV</label><div class=\"sk-toggleable__content\"><pre>GridSearchCV(cv=5, estimator=LogisticRegression(), n_jobs=-1,\n",
       "             param_grid={&#x27;C&#x27;: array([1.e-03, 1.e-02, 1.e-01, 1.e+00, 1.e+01, 1.e+02, 1.e+03]),\n",
       "                         &#x27;penalty&#x27;: [&#x27;l1&#x27;, &#x27;l2&#x27;]},\n",
       "             return_train_score=True, scoring=&#x27;roc_auc&#x27;)</pre></div></div></div><div class=\"sk-parallel\"><div class=\"sk-parallel-item\"><div class=\"sk-item\"><div class=\"sk-label-container\"><div class=\"sk-label sk-toggleable\"><input class=\"sk-toggleable__control sk-hidden--visually\" id=\"sk-estimator-id-3\" type=\"checkbox\" ><label for=\"sk-estimator-id-3\" class=\"sk-toggleable__label sk-toggleable__label-arrow\">estimator: LogisticRegression</label><div class=\"sk-toggleable__content\"><pre>LogisticRegression()</pre></div></div></div><div class=\"sk-serial\"><div class=\"sk-item\"><div class=\"sk-estimator sk-toggleable\"><input class=\"sk-toggleable__control sk-hidden--visually\" id=\"sk-estimator-id-4\" type=\"checkbox\" ><label for=\"sk-estimator-id-4\" class=\"sk-toggleable__label sk-toggleable__label-arrow\">LogisticRegression</label><div class=\"sk-toggleable__content\"><pre>LogisticRegression()</pre></div></div></div></div></div></div></div></div></div></div>"
      ],
      "text/plain": [
       "GridSearchCV(cv=5, estimator=LogisticRegression(), n_jobs=-1,\n",
       "             param_grid={'C': array([1.e-03, 1.e-02, 1.e-01, 1.e+00, 1.e+01, 1.e+02, 1.e+03]),\n",
       "                         'penalty': ['l1', 'l2']},\n",
       "             return_train_score=True, scoring='roc_auc')"
      ]
     },
     "execution_count": 102,
     "metadata": {},
     "output_type": "execute_result"
    }
   ],
   "source": [
    "grid = {\"C\":np.logspace(-3,3,7), \"penalty\":[\"l1\",\"l2\"]}\n",
    "logreg = LogisticRegression()\n",
    "logreg_cv = GridSearchCV(logreg, grid, cv=5, scoring='roc_auc', n_jobs=-1, return_train_score=True)\n",
    "logreg_cv.fit(X_train_const, y_train_const)"
   ]
  },
  {
   "cell_type": "code",
   "execution_count": 103,
   "id": "86758b9a-d596-4a90-b72f-b9c9c59474f6",
   "metadata": {},
   "outputs": [
    {
     "name": "stdout",
     "output_type": "stream",
     "text": [
      "best parameters =  {'C': 0.01, 'penalty': 'l2'}\n",
      "roc_auc_score : 0.5031889564241083\n"
     ]
    }
   ],
   "source": [
    "print(\"best parameters = \",logreg_cv.best_params_)\n",
    "print(\"roc_auc_score :\",logreg_cv.best_score_)"
   ]
  },
  {
   "cell_type": "code",
   "execution_count": 104,
   "id": "b9f4451f-bfb6-4f99-8942-7276613b3ba3",
   "metadata": {},
   "outputs": [
    {
     "data": {
      "text/html": [
       "<style>#sk-container-id-3 {color: black;}#sk-container-id-3 pre{padding: 0;}#sk-container-id-3 div.sk-toggleable {background-color: white;}#sk-container-id-3 label.sk-toggleable__label {cursor: pointer;display: block;width: 100%;margin-bottom: 0;padding: 0.3em;box-sizing: border-box;text-align: center;}#sk-container-id-3 label.sk-toggleable__label-arrow:before {content: \"▸\";float: left;margin-right: 0.25em;color: #696969;}#sk-container-id-3 label.sk-toggleable__label-arrow:hover:before {color: black;}#sk-container-id-3 div.sk-estimator:hover label.sk-toggleable__label-arrow:before {color: black;}#sk-container-id-3 div.sk-toggleable__content {max-height: 0;max-width: 0;overflow: hidden;text-align: left;background-color: #f0f8ff;}#sk-container-id-3 div.sk-toggleable__content pre {margin: 0.2em;color: black;border-radius: 0.25em;background-color: #f0f8ff;}#sk-container-id-3 input.sk-toggleable__control:checked~div.sk-toggleable__content {max-height: 200px;max-width: 100%;overflow: auto;}#sk-container-id-3 input.sk-toggleable__control:checked~label.sk-toggleable__label-arrow:before {content: \"▾\";}#sk-container-id-3 div.sk-estimator input.sk-toggleable__control:checked~label.sk-toggleable__label {background-color: #d4ebff;}#sk-container-id-3 div.sk-label input.sk-toggleable__control:checked~label.sk-toggleable__label {background-color: #d4ebff;}#sk-container-id-3 input.sk-hidden--visually {border: 0;clip: rect(1px 1px 1px 1px);clip: rect(1px, 1px, 1px, 1px);height: 1px;margin: -1px;overflow: hidden;padding: 0;position: absolute;width: 1px;}#sk-container-id-3 div.sk-estimator {font-family: monospace;background-color: #f0f8ff;border: 1px dotted black;border-radius: 0.25em;box-sizing: border-box;margin-bottom: 0.5em;}#sk-container-id-3 div.sk-estimator:hover {background-color: #d4ebff;}#sk-container-id-3 div.sk-parallel-item::after {content: \"\";width: 100%;border-bottom: 1px solid gray;flex-grow: 1;}#sk-container-id-3 div.sk-label:hover label.sk-toggleable__label {background-color: #d4ebff;}#sk-container-id-3 div.sk-serial::before {content: \"\";position: absolute;border-left: 1px solid gray;box-sizing: border-box;top: 0;bottom: 0;left: 50%;z-index: 0;}#sk-container-id-3 div.sk-serial {display: flex;flex-direction: column;align-items: center;background-color: white;padding-right: 0.2em;padding-left: 0.2em;position: relative;}#sk-container-id-3 div.sk-item {position: relative;z-index: 1;}#sk-container-id-3 div.sk-parallel {display: flex;align-items: stretch;justify-content: center;background-color: white;position: relative;}#sk-container-id-3 div.sk-item::before, #sk-container-id-3 div.sk-parallel-item::before {content: \"\";position: absolute;border-left: 1px solid gray;box-sizing: border-box;top: 0;bottom: 0;left: 50%;z-index: -1;}#sk-container-id-3 div.sk-parallel-item {display: flex;flex-direction: column;z-index: 1;position: relative;background-color: white;}#sk-container-id-3 div.sk-parallel-item:first-child::after {align-self: flex-end;width: 50%;}#sk-container-id-3 div.sk-parallel-item:last-child::after {align-self: flex-start;width: 50%;}#sk-container-id-3 div.sk-parallel-item:only-child::after {width: 0;}#sk-container-id-3 div.sk-dashed-wrapped {border: 1px dashed gray;margin: 0 0.4em 0.5em 0.4em;box-sizing: border-box;padding-bottom: 0.4em;background-color: white;}#sk-container-id-3 div.sk-label label {font-family: monospace;font-weight: bold;display: inline-block;line-height: 1.2em;}#sk-container-id-3 div.sk-label-container {text-align: center;}#sk-container-id-3 div.sk-container {/* jupyter's `normalize.less` sets `[hidden] { display: none; }` but bootstrap.min.css set `[hidden] { display: none !important; }` so we also need the `!important` here to be able to override the default hidden behavior on the sphinx rendered scikit-learn.org. See: https://github.com/scikit-learn/scikit-learn/issues/21755 */display: inline-block !important;position: relative;}#sk-container-id-3 div.sk-text-repr-fallback {display: none;}</style><div id=\"sk-container-id-3\" class=\"sk-top-container\"><div class=\"sk-text-repr-fallback\"><pre>LogisticRegression()</pre><b>In a Jupyter environment, please rerun this cell to show the HTML representation or trust the notebook. <br />On GitHub, the HTML representation is unable to render, please try loading this page with nbviewer.org.</b></div><div class=\"sk-container\" hidden><div class=\"sk-item\"><div class=\"sk-estimator sk-toggleable\"><input class=\"sk-toggleable__control sk-hidden--visually\" id=\"sk-estimator-id-5\" type=\"checkbox\" checked><label for=\"sk-estimator-id-5\" class=\"sk-toggleable__label sk-toggleable__label-arrow\">LogisticRegression</label><div class=\"sk-toggleable__content\"><pre>LogisticRegression()</pre></div></div></div></div></div>"
      ],
      "text/plain": [
       "LogisticRegression()"
      ]
     },
     "execution_count": 104,
     "metadata": {},
     "output_type": "execute_result"
    }
   ],
   "source": [
    "log_reg = LogisticRegression(C = 1.0, penalty='l2')\n",
    "log_reg.fit(X_train_const, y_train_const)"
   ]
  },
  {
   "cell_type": "code",
   "execution_count": 105,
   "id": "da872e16-7f92-4c98-b7ee-81d72e0df059",
   "metadata": {},
   "outputs": [],
   "source": [
    "def pred_prob(clf, data): \n",
    "    # predicts the probabability of class label using the model\n",
    "    y_pred = clf.predict_proba(data)[:,1]\n",
    "    return y_pred\n",
    "\n",
    "def draw_roc(train_fpr, train_tpr, test_fpr, test_tpr):\n",
    "    # calculate auc for train and test\n",
    "    train_auc = auc(train_fpr, train_tpr)\n",
    "    test_auc = auc(test_fpr, test_tpr)\n",
    "    plt.plot(train_fpr, train_tpr, label=\"Train AUC =\"+\"{:.4f}\".format(train_auc))\n",
    "    plt.plot(test_fpr, test_tpr, label=\"Test AUC =\"+\"{:.4f}\".format(test_auc))\n",
    "    plt.legend()\n",
    "    plt.xlabel(\"False Positive Rate(FPR)\", size = 14)\n",
    "    plt.ylabel(\"True Positive Rate(TPR)\", size = 14)\n",
    "    plt.title(\"Area Under Curve\", size = 16)\n",
    "    plt.grid(True, which='major', color='g', linestyle='-')\n",
    "    plt.show()\n",
    "    \n",
    "def find_best_threshold(threshold, fpr, tpr):\n",
    "    t = threshold[np.argmax(tpr*(1-fpr))]\n",
    "#     print(\"max(tpr*(1-fpr)) = \", max(tpr*(1-fpr)), \"for threshold = \", np.round(t,3))\n",
    "    return t\n",
    "\n",
    "def predict_with_best_t(proba, threshold):\n",
    "    predictions = []\n",
    "    for i in proba:\n",
    "        if i>=threshold:\n",
    "            predictions.append(1)\n",
    "        else:\n",
    "            predictions.append(0)\n",
    "    return predictions"
   ]
  },
  {
   "cell_type": "code",
   "execution_count": 106,
   "id": "efa81f41-9027-4bf1-b62d-e84e3f944b44",
   "metadata": {},
   "outputs": [],
   "source": [
    "def draw_confusion_matrix(best_t, X_train_const, x_test_const, y_train_const, y_test_const, y_train_pred, y_test_pred):\n",
    "    # Confusion matrix for train and test dataset\n",
    "    fig, ax = plt.subplots(1,2, figsize=(20,6))\n",
    "\n",
    "    train_prediction = predict_with_best_t(y_train_pred, best_t)\n",
    "    cm = confusion_matrix(y_train_const, train_prediction)\n",
    "    sns.heatmap(cm, annot=True, fmt='d', ax=ax[0])\n",
    "    ax[0].set_title('Train Dataset Confusion Matrix', size = 16)\n",
    "    ax[0].set_xlabel(\"Predicted Label\", size = 14)\n",
    "    ax[0].set_ylabel(\"Actual Label\", size = 14)\n",
    "\n",
    "    test_prediction = predict_with_best_t(y_test_pred, best_t)\n",
    "    cm = confusion_matrix(y_test_const, test_prediction)\n",
    "    sns.heatmap(cm, annot=True, fmt='d', ax=ax[1])\n",
    "    ax[1].set_title('Test Dataset Confusion Matrix', size = 16)\n",
    "    ax[1].set_xlabel(\"Predicted Label\", size = 14)\n",
    "    ax[1].set_ylabel(\"Actual Label\", size = 14)\n",
    "    plt.grid()\n",
    "    plt.show()\n",
    "    \n",
    "    return train_prediction, test_prediction"
   ]
  },
  {
   "cell_type": "code",
   "execution_count": 107,
   "id": "cb0513e3-d687-45c0-a00c-7ef15475608d",
   "metadata": {},
   "outputs": [],
   "source": [
    "def validate_model(clf, x_train_const, x_test_const, y_train_const, y_test_const):\n",
    "    # predict the probability of train data\n",
    "    y_train_pred = pred_prob(clf, x_train_const)\n",
    "    # predict the probability of test data\n",
    "    y_test_pred = pred_prob(clf, x_test_const)\n",
    "    # calculate tpr, fpr for diffeent thresholds using roc_curve\n",
    "    train_fpr, train_tpr, tr_thresholds = roc_curve(y_train_const, y_train_pred)\n",
    "    test_fpr, test_tpr, te_thresholds = roc_curve(y_test_const, y_test_pred)\n",
    "    \n",
    "    # calculate auc for train and test\n",
    "    train_auc = auc(train_fpr, train_tpr)\n",
    "    print(\"Train AUC = \", train_auc)\n",
    "    test_auc = auc(test_fpr, test_tpr)\n",
    "    print(\"Test AUC = \", test_auc)\n",
    "    \n",
    "    draw_roc(train_fpr, train_tpr, test_fpr, test_tpr)\n",
    "    \n",
    "    best_t = find_best_threshold(tr_thresholds, train_fpr, train_tpr)\n",
    "    \n",
    "    train_prediction, test_prediction = draw_confusion_matrix(best_t, x_train_const, x_test_const, y_train_const, y_test_const, y_train_pred, y_test_pred)\n",
    "#     print(len(test_prediction))\n",
    "    \n",
    "    train_f1_score = f1_score(y_train_const, train_prediction)\n",
    "    test_f1_score = f1_score(y_test_const, test_prediction)\n",
    "    \n",
    "    return test_auc, test_f1_score, best_t"
   ]
  },
  {
   "cell_type": "code",
   "execution_count": 108,
   "id": "479c0da9-2ed6-4b5b-a9ea-fcbc5db2ee89",
   "metadata": {},
   "outputs": [
    {
     "name": "stdout",
     "output_type": "stream",
     "text": [
      "Train AUC =  0.504853576735155\n",
      "Test AUC =  0.5056318114603326\n"
     ]
    },
    {
     "data": {
      "image/png": "[encoded data removed]",
      "text/plain": [
       "<Figure size 640x480 with 1 Axes>"
      ]
     },
     "metadata": {},
     "output_type": "display_data"
    },
    {
     "data": {
      "image/png": "[encoded data removed]",
      "text/plain": [
       "<Figure size 2000x600 with 4 Axes>"
      ]
     },
     "metadata": {},
     "output_type": "display_data"
    },
    {
     "name": "stdout",
     "output_type": "stream",
     "text": [
      "Best Threshold = 0.3660\n",
      "Model AUC is : 0.5056\n",
      "Model F1 Score is : 0.4240\n"
     ]
    }
   ],
   "source": [
    "# Validate LogisticRegression model\n",
    "test_auc, test_f1_score, best_t = validate_model(log_reg, X_train_const, X_test_const, y_train_const, y_test_const)\n",
    "\n",
    "print(\"Best Threshold = {:.4f}\".format(best_t))\n",
    "print(\"Model AUC is : {:.4f}\".format(test_auc))\n",
    "print(\"Model F1 Score is : {:.4f}\".format(test_f1_score))"
   ]
  },
  {
   "cell_type": "code",
   "execution_count": 109,
   "id": "838ecdba-876d-4d1e-a004-a8355fde589b",
   "metadata": {},
   "outputs": [],
   "source": [
    "#Predict the response for test dataset\n",
    "y_pred = log_reg.predict(X_test_const)"
   ]
  },
  {
   "cell_type": "code",
   "execution_count": 110,
   "id": "4b7e23b9-c3cc-4226-b03e-4b59a9492cdb",
   "metadata": {},
   "outputs": [],
   "source": [
    "# convert probabilities to 0 and 1 using 'if_else'\n",
    "y_pred_Log_cv = [ 0 if x < 0.37 else 1 for x in y_pred]"
   ]
  },
  {
   "cell_type": "code",
   "execution_count": 111,
   "id": "7e07e881-e3ef-43d4-95eb-a0089e291278",
   "metadata": {},
   "outputs": [
    {
     "name": "stdout",
     "output_type": "stream",
     "text": [
      "              precision    recall  f1-score   support\n",
      "\n",
      "           0       0.64      1.00      0.78     65775\n",
      "           1       0.00      0.00      0.00     37773\n",
      "\n",
      "    accuracy                           0.64    103548\n",
      "   macro avg       0.32      0.50      0.39    103548\n",
      "weighted avg       0.40      0.64      0.49    103548\n",
      "\n"
     ]
    }
   ],
   "source": [
    "acc_table = classification_report(y_test_const, y_pred_Log_cv)\n",
    "print(acc_table)"
   ]
  },
  {
   "cell_type": "code",
   "execution_count": 112,
   "id": "5d7874b5-ac4c-488f-bb36-4c63419cd1b2",
   "metadata": {},
   "outputs": [
    {
     "name": "stdout",
     "output_type": "stream",
     "text": [
      "roc_auc_score: 0.5\n",
      "cohen_kappa_score: 0.0\n"
     ]
    }
   ],
   "source": [
    "print(\"roc_auc_score:\",metrics.roc_auc_score(y_test_const, y_pred))\n",
    "print(\"cohen_kappa_score:\",metrics.cohen_kappa_score(y_test_const, y_pred))"
   ]
  },
  {
   "cell_type": "markdown",
   "id": "69705f33-f268-490a-a24f-27d9fa970587",
   "metadata": {},
   "source": [
    "### Decision tree"
   ]
  },
  {
   "cell_type": "code",
   "execution_count": 113,
   "id": "8074b442-9044-48c6-9803-e4bf64860024",
   "metadata": {},
   "outputs": [],
   "source": [
    "y = df_final_num.PotentialFraud"
   ]
  },
  {
   "cell_type": "code",
   "execution_count": 114,
   "id": "0f4b2c6d-4dd4-4d01-bb75-b16fb2268e35",
   "metadata": {},
   "outputs": [
    {
     "data": {
      "text/html": [
       "<div>\n",
       "<style scoped>\n",
       "    .dataframe tbody tr th:only-of-type {\n",
       "        vertical-align: middle;\n",
       "    }\n",
       "\n",
       "    .dataframe tbody tr th {\n",
       "        vertical-align: top;\n",
       "    }\n",
       "\n",
       "    .dataframe thead th {\n",
       "        text-align: right;\n",
       "    }\n",
       "</style>\n",
       "<table border=\"1\" class=\"dataframe\">\n",
       "  <thead>\n",
       "    <tr style=\"text-align: right;\">\n",
       "      <th></th>\n",
       "      <th>InscClaimAmtReimbursed_x</th>\n",
       "      <th>DeductibleAmtPaid_x</th>\n",
       "      <th>InscClaimAmtReimbursed_y</th>\n",
       "      <th>ChronicCond_KidneyDisease</th>\n",
       "      <th>ChronicCond_Cancer</th>\n",
       "      <th>ChronicCond_ObstrPulmonary</th>\n",
       "      <th>ChronicCond_Depression</th>\n",
       "      <th>ChronicCond_Diabetes</th>\n",
       "      <th>ChronicCond_IschemicHeart</th>\n",
       "      <th>ChronicCond_Osteoporasis</th>\n",
       "      <th>ChronicCond_rheumatoidarthritis</th>\n",
       "      <th>ChronicCond_stroke</th>\n",
       "      <th>IPAnnualReimbursementAmt</th>\n",
       "      <th>IPAnnualDeductibleAmt</th>\n",
       "      <th>OPAnnualReimbursementAmt</th>\n",
       "      <th>OPAnnualDeductibleAmt</th>\n",
       "    </tr>\n",
       "  </thead>\n",
       "  <tbody>\n",
       "    <tr>\n",
       "      <th>0</th>\n",
       "      <td>0.000293</td>\n",
       "      <td>0.0</td>\n",
       "      <td>0.000293</td>\n",
       "      <td>1.0</td>\n",
       "      <td>0.0</td>\n",
       "      <td>0.0</td>\n",
       "      <td>1.0</td>\n",
       "      <td>1.0</td>\n",
       "      <td>1.0</td>\n",
       "      <td>1.0</td>\n",
       "      <td>1.0</td>\n",
       "      <td>0.0</td>\n",
       "      <td>0.144265</td>\n",
       "      <td>0.0</td>\n",
       "      <td>0.008596</td>\n",
       "      <td>0.045872</td>\n",
       "    </tr>\n",
       "    <tr>\n",
       "      <th>1</th>\n",
       "      <td>0.000390</td>\n",
       "      <td>0.0</td>\n",
       "      <td>0.000390</td>\n",
       "      <td>1.0</td>\n",
       "      <td>0.0</td>\n",
       "      <td>0.0</td>\n",
       "      <td>1.0</td>\n",
       "      <td>0.0</td>\n",
       "      <td>0.0</td>\n",
       "      <td>0.0</td>\n",
       "      <td>0.0</td>\n",
       "      <td>0.0</td>\n",
       "      <td>0.144265</td>\n",
       "      <td>0.0</td>\n",
       "      <td>0.518625</td>\n",
       "      <td>0.697248</td>\n",
       "    </tr>\n",
       "    <tr>\n",
       "      <th>2</th>\n",
       "      <td>0.001951</td>\n",
       "      <td>0.0</td>\n",
       "      <td>0.001951</td>\n",
       "      <td>1.0</td>\n",
       "      <td>0.0</td>\n",
       "      <td>0.0</td>\n",
       "      <td>1.0</td>\n",
       "      <td>0.0</td>\n",
       "      <td>0.0</td>\n",
       "      <td>0.0</td>\n",
       "      <td>0.0</td>\n",
       "      <td>0.0</td>\n",
       "      <td>0.144265</td>\n",
       "      <td>0.0</td>\n",
       "      <td>0.518625</td>\n",
       "      <td>0.697248</td>\n",
       "    </tr>\n",
       "    <tr>\n",
       "      <th>3</th>\n",
       "      <td>0.000195</td>\n",
       "      <td>0.0</td>\n",
       "      <td>0.000195</td>\n",
       "      <td>1.0</td>\n",
       "      <td>0.0</td>\n",
       "      <td>0.0</td>\n",
       "      <td>1.0</td>\n",
       "      <td>0.0</td>\n",
       "      <td>0.0</td>\n",
       "      <td>0.0</td>\n",
       "      <td>0.0</td>\n",
       "      <td>0.0</td>\n",
       "      <td>0.144265</td>\n",
       "      <td>0.0</td>\n",
       "      <td>0.518625</td>\n",
       "      <td>0.697248</td>\n",
       "    </tr>\n",
       "    <tr>\n",
       "      <th>4</th>\n",
       "      <td>0.000390</td>\n",
       "      <td>0.0</td>\n",
       "      <td>0.000390</td>\n",
       "      <td>1.0</td>\n",
       "      <td>0.0</td>\n",
       "      <td>0.0</td>\n",
       "      <td>1.0</td>\n",
       "      <td>0.0</td>\n",
       "      <td>0.0</td>\n",
       "      <td>0.0</td>\n",
       "      <td>0.0</td>\n",
       "      <td>0.0</td>\n",
       "      <td>0.144265</td>\n",
       "      <td>0.0</td>\n",
       "      <td>0.518625</td>\n",
       "      <td>0.697248</td>\n",
       "    </tr>\n",
       "  </tbody>\n",
       "</table>\n",
       "</div>"
      ],
      "text/plain": [
       "   InscClaimAmtReimbursed_x  DeductibleAmtPaid_x  InscClaimAmtReimbursed_y  \\\n",
       "0                  0.000293                  0.0                  0.000293   \n",
       "1                  0.000390                  0.0                  0.000390   \n",
       "2                  0.001951                  0.0                  0.001951   \n",
       "3                  0.000195                  0.0                  0.000195   \n",
       "4                  0.000390                  0.0                  0.000390   \n",
       "\n",
       "   ChronicCond_KidneyDisease  ChronicCond_Cancer  ChronicCond_ObstrPulmonary  \\\n",
       "0                        1.0                 0.0                         0.0   \n",
       "1                        1.0                 0.0                         0.0   \n",
       "2                        1.0                 0.0                         0.0   \n",
       "3                        1.0                 0.0                         0.0   \n",
       "4                        1.0                 0.0                         0.0   \n",
       "\n",
       "   ChronicCond_Depression  ChronicCond_Diabetes  ChronicCond_IschemicHeart  \\\n",
       "0                     1.0                   1.0                        1.0   \n",
       "1                     1.0                   0.0                        0.0   \n",
       "2                     1.0                   0.0                        0.0   \n",
       "3                     1.0                   0.0                        0.0   \n",
       "4                     1.0                   0.0                        0.0   \n",
       "\n",
       "   ChronicCond_Osteoporasis  ChronicCond_rheumatoidarthritis  \\\n",
       "0                       1.0                              1.0   \n",
       "1                       0.0                              0.0   \n",
       "2                       0.0                              0.0   \n",
       "3                       0.0                              0.0   \n",
       "4                       0.0                              0.0   \n",
       "\n",
       "   ChronicCond_stroke  IPAnnualReimbursementAmt  IPAnnualDeductibleAmt  \\\n",
       "0                 0.0                  0.144265                    0.0   \n",
       "1                 0.0                  0.144265                    0.0   \n",
       "2                 0.0                  0.144265                    0.0   \n",
       "3                 0.0                  0.144265                    0.0   \n",
       "4                 0.0                  0.144265                    0.0   \n",
       "\n",
       "   OPAnnualReimbursementAmt  OPAnnualDeductibleAmt  \n",
       "0                  0.008596               0.045872  \n",
       "1                  0.518625               0.697248  \n",
       "2                  0.518625               0.697248  \n",
       "3                  0.518625               0.697248  \n",
       "4                  0.518625               0.697248  "
      ]
     },
     "execution_count": 114,
     "metadata": {},
     "output_type": "execute_result"
    }
   ],
   "source": [
    "X.head()"
   ]
  },
  {
   "cell_type": "code",
   "execution_count": 115,
   "id": "da400c7d-9f33-4a0a-ac1c-ae037e09af55",
   "metadata": {},
   "outputs": [
    {
     "name": "stdout",
     "output_type": "stream",
     "text": [
      "X_train (414189, 16)\n",
      "y_train (414189,)\n",
      "X_test (103548, 16)\n",
      "y_test (103548,)\n"
     ]
    }
   ],
   "source": [
    "y = df_final_num.PotentialFraud\n",
    "\n",
    "X_train,X_test,y_train,y_test = train_test_split(X,y,test_size = 0.2,random_state = 10)\n",
    "\n",
    "print('X_train', X_train.shape)\n",
    "print('y_train', y_train.shape)\n",
    "\n",
    "# print dimension of test set\n",
    "print('X_test', X_test.shape)\n",
    "print('y_test', y_test.shape)"
   ]
  },
  {
   "cell_type": "code",
   "execution_count": 116,
   "id": "938cbec3-dbdc-47a2-9be6-a9632d3ef4ac",
   "metadata": {},
   "outputs": [],
   "source": [
    "score_card = pd.DataFrame(columns=['Model_Name', 'AUC Score', 'Precision Score', 'Recall Score',\n",
    "                                       'Accuracy Score', 'Kappa Score', 'f1-score'])\n",
    "\n",
    "def update_score_card(algorithm_name,model):\n",
    "    \n",
    "    # let 'y_pred_prob' be the predicted values of y\n",
    "    y_pred_prob = model.predict(X_test)\n",
    "\n",
    "    # convert probabilities to 0 and 1 using 'if_else'\n",
    "    y_pred = [ 0 if x < 0.5 else 1 for x in y_pred_prob]\n",
    "    \n",
    "    # assign 'score_card' as global variable\n",
    "    global score_card\n",
    "\n",
    "    # append the results to the dataframe 'score_card'\n",
    "    # 'ignore_index = True' do not consider the index labels\n",
    "    score_card = score_card.append({'Model_Name': algorithm_name,\n",
    "                                  \n",
    "                                    'AUC Score' : metrics.roc_auc_score(y_test, y_pred),\n",
    "                                    'Precision Score': metrics.precision_score(y_test, y_pred),\n",
    "                                    'Recall Score': metrics.recall_score(y_test, y_pred),\n",
    "                                    'Accuracy Score': metrics.accuracy_score(y_test, y_pred),\n",
    "                                    'Kappa Score':metrics.cohen_kappa_score(y_test, y_pred),\n",
    "                                    'f1-score': metrics.f1_score(y_test, y_pred)}, \n",
    "                                    ignore_index = True)"
   ]
  },
  {
   "cell_type": "code",
   "execution_count": 117,
   "id": "e2792c04-ac68-484f-9d1b-50cfaa8a1cd5",
   "metadata": {},
   "outputs": [],
   "source": [
    "# create a generalized function to calculate the metrics values for train set\n",
    "def get_train_report(model):\n",
    "    \n",
    "    # for training set:\n",
    "    # train_pred: prediction made by the model on the train dataset 'X_train'\n",
    "    # y_train: actual values of the target variable for the train dataset\n",
    "\n",
    "    # predict the output of the target variable from the train data \n",
    "    train_pred = model.predict(X_train)\n",
    "\n",
    "    # return the performace measures on train set\n",
    "    return(classification_report(y_train, train_pred))"
   ]
  },
  {
   "cell_type": "code",
   "execution_count": 118,
   "id": "4a263c03-dae0-49f6-9e1e-ff66deb9bd5c",
   "metadata": {},
   "outputs": [],
   "source": [
    "# create a generalized function to calculate the metrics values for test set\n",
    "def get_test_report(model):\n",
    "    \n",
    "    # for test set:\n",
    "    # test_pred: prediction made by the model on the test dataset 'X_test'\n",
    "    # y_test: actual values of the target variable for the test dataset\n",
    "\n",
    "    # predict the output of the target variable from the test data \n",
    "    test_pred = model.predict(X_test)\n",
    "\n",
    "    # return the performace measures on test set\n",
    "    return(classification_report(y_test, test_pred))"
   ]
  },
  {
   "cell_type": "markdown",
   "id": "a5c42d44-8e2d-431f-910a-15747a2f44eb",
   "metadata": {},
   "source": [
    "### Over-fitting in Decision Tree"
   ]
  },
  {
   "cell_type": "code",
   "execution_count": 119,
   "id": "5c166636-0162-49b2-ba9a-521c5bff0a1e",
   "metadata": {},
   "outputs": [],
   "source": [
    "# Build a full decision tree model on a train dataset using 'gini'.\n",
    "decision_tree_classification = DecisionTreeClassifier(criterion = 'gini', random_state = 10)\n",
    "decision_tree = decision_tree_classification.fit(X_train, y_train)"
   ]
  },
  {
   "cell_type": "code",
   "execution_count": 120,
   "id": "4649a280-b899-4f9f-9e6f-36cb4eb0909e",
   "metadata": {},
   "outputs": [],
   "source": [
    "y_pred = decision_tree.predict(X_test)\n",
    "y_pred_dtrcv = [ 0 if x < 0.5 else 1 for x in y_pred]"
   ]
  },
  {
   "cell_type": "code",
   "execution_count": 121,
   "id": "e8a1a0c0-27b3-4750-b86a-c35c556b798a",
   "metadata": {},
   "outputs": [
    {
     "name": "stdout",
     "output_type": "stream",
     "text": [
      "roc_auc_score: 0.6025166425820256\n",
      "cohen_kappa_score: 0.2096274093489946\n"
     ]
    }
   ],
   "source": [
    "print(\"roc_auc_score:\",metrics.roc_auc_score(y_test, y_pred_dtrcv))\n",
    "print(\"cohen_kappa_score:\",metrics.cohen_kappa_score(y_test, y_pred_dtrcv))"
   ]
  },
  {
   "cell_type": "code",
   "execution_count": 122,
   "id": "fe933f05-f040-4a4e-a570-9a75e3cee82c",
   "metadata": {},
   "outputs": [
    {
     "name": "stdout",
     "output_type": "stream",
     "text": [
      "Test data:\n",
      "               precision    recall  f1-score   support\n",
      "\n",
      "           0       0.64      0.99      0.78     65775\n",
      "           1       0.54      0.01      0.02     37773\n",
      "\n",
      "    accuracy                           0.64    103548\n",
      "   macro avg       0.59      0.50      0.40    103548\n",
      "weighted avg       0.60      0.64      0.50    103548\n",
      "\n"
     ]
    }
   ],
   "source": [
    "dt_model = DecisionTreeClassifier(criterion = 'gini',\n",
    "                                  max_depth = 70,\n",
    "                                  min_samples_split = 60,\n",
    "                                  max_leaf_nodes = 85,\n",
    "                                  random_state = 10)\n",
    "\n",
    "# fit the model using fit() on train data\n",
    "decision_tree1 = dt_model.fit(X_train, y_train)\n",
    "\n",
    "# compute the performance measures on train data\n",
    "# call the function 'get_train_report'\n",
    "# pass the decision tree to the function\n",
    "train_report = get_train_report(decision_tree1)\n",
    "\n",
    "\n",
    "# compute the performance measures on test data\n",
    "# call the function 'get_test_report'\n",
    "# pass the decision tree to the function\n",
    "test_report = get_test_report(decision_tree1)\n",
    "\n",
    "\n",
    "# print the performance measures\n",
    "print('Test data:\\n', test_report)"
   ]
  },
  {
   "cell_type": "code",
   "execution_count": 123,
   "id": "2aa99464-e7d0-440f-8480-c9c2c2ff1574",
   "metadata": {},
   "outputs": [
    {
     "name": "stdout",
     "output_type": "stream",
     "text": [
      "Train AUC =  0.5193329384639588\n",
      "Test AUC =  0.5150982050721424\n"
     ]
    },
    {
     "data": {
      "image/png": "[encoded data removed]",
      "text/plain": [
       "<Figure size 640x480 with 1 Axes>"
      ]
     },
     "metadata": {},
     "output_type": "display_data"
    },
    {
     "data": {
      "image/png": "[encoded data removed]",
      "text/plain": [
       "<Figure size 2000x600 with 4 Axes>"
      ]
     },
     "metadata": {},
     "output_type": "display_data"
    },
    {
     "name": "stdout",
     "output_type": "stream",
     "text": [
      "Best Threshold = 0.3673\n",
      "Model AUC is : 0.5151\n",
      "Model F1 Score is : 0.4525\n"
     ]
    }
   ],
   "source": [
    "test_auc, test_f1_score, best_t = validate_model(decision_tree1, X_train, X_test, y_train, y_test)\n",
    "\n",
    "print(\"Best Threshold = {:.4f}\".format(best_t))\n",
    "print(\"Model AUC is : {:.4f}\".format(test_auc))\n",
    "print(\"Model F1 Score is : {:.4f}\".format(test_f1_score))"
   ]
  },
  {
   "cell_type": "code",
   "execution_count": 124,
   "id": "cf595135-6bbb-4914-a817-9f5f797a1f52",
   "metadata": {},
   "outputs": [],
   "source": [
    "y_pred = decision_tree1.predict(X_test)\n",
    "y_pred_dt1 = [ 0 if x < 0.5 else 1 for x in y_pred]"
   ]
  },
  {
   "cell_type": "code",
   "execution_count": 125,
   "id": "df497584-9fa4-40e8-857f-5ed8a6440542",
   "metadata": {},
   "outputs": [
    {
     "name": "stdout",
     "output_type": "stream",
     "text": [
      "roc_auc_score: 0.5027231918112764\n",
      "cohen_kappa_score: 0.006882171810815185\n"
     ]
    }
   ],
   "source": [
    "print(\"roc_auc_score:\",metrics.roc_auc_score(y_test, y_pred_dt1))\n",
    "print(\"cohen_kappa_score:\",metrics.cohen_kappa_score(y_test, y_pred_dt1))"
   ]
  },
  {
   "cell_type": "markdown",
   "id": "012d133f-1635-4d42-bc19-fa28b81d7056",
   "metadata": {},
   "source": [
    "### Random Forest"
   ]
  },
  {
   "cell_type": "code",
   "execution_count": 126,
   "id": "72bd8f49-4351-44bb-8bcd-f9b0604c1793",
   "metadata": {},
   "outputs": [],
   "source": [
    "rf_classification = RandomForestClassifier(n_estimators = 10, random_state = 10)\n",
    "# use fit() to fit the model on the train set\n",
    "rf_model = rf_classification.fit(X_train, y_train)"
   ]
  },
  {
   "cell_type": "code",
   "execution_count": 127,
   "id": "279962ff-2b32-4dd8-881e-c17b2d506295",
   "metadata": {},
   "outputs": [],
   "source": [
    "# Calculate performance measures on the test, train set.\n",
    "test_report = get_test_report(rf_model) \n",
    "train_report = get_train_report(rf_model)"
   ]
  },
  {
   "cell_type": "code",
   "execution_count": 128,
   "id": "d7df1caf-8aec-4dad-b1d0-9bc998b4658d",
   "metadata": {},
   "outputs": [
    {
     "name": "stdout",
     "output_type": "stream",
     "text": [
      "Train data:\n",
      "               precision    recall  f1-score   support\n",
      "\n",
      "           0       0.63      1.00      0.78    262568\n",
      "           1       1.00      0.00      0.00    151621\n",
      "\n",
      "    accuracy                           0.63    414189\n",
      "   macro avg       0.82      0.50      0.39    414189\n",
      "weighted avg       0.77      0.63      0.49    414189\n",
      "\n",
      "Test data:\n",
      "               precision    recall  f1-score   support\n",
      "\n",
      "           0       0.64      1.00      0.78     65775\n",
      "           1       1.00      0.00      0.00     37773\n",
      "\n",
      "    accuracy                           0.64    103548\n",
      "   macro avg       0.82      0.50      0.39    103548\n",
      "weighted avg       0.77      0.64      0.49    103548\n",
      "\n"
     ]
    }
   ],
   "source": [
    "rf_model = RandomForestClassifier(criterion = 'gini',\n",
    "                                  max_depth = 50,\n",
    "                                  min_samples_split = 30,\n",
    "                                  max_leaf_nodes = 65,\n",
    "                                  random_state = 10)\n",
    "random_forest = rf_model.fit(X_train, y_train)\n",
    "\n",
    "train_report = get_train_report(random_forest)\n",
    "print('Train data:\\n', train_report)\n",
    "\n",
    "test_report = get_test_report(random_forest)\n",
    "print('Test data:\\n', test_report)"
   ]
  },
  {
   "cell_type": "code",
   "execution_count": 129,
   "id": "0eb13ab4-dabd-4296-a967-f9396352ed81",
   "metadata": {},
   "outputs": [
    {
     "name": "stdout",
     "output_type": "stream",
     "text": [
      "              precision    recall  f1-score   support\n",
      "\n",
      "           0       0.64      1.00      0.78     65775\n",
      "           1       1.00      0.00      0.00     37773\n",
      "\n",
      "    accuracy                           0.64    103548\n",
      "   macro avg       0.82      0.50      0.39    103548\n",
      "weighted avg       0.77      0.64      0.49    103548\n",
      "\n",
      "roc_auc_score: 0.5000132369682048\n",
      "cohen_kappa_score: 3.363291808444746e-05\n"
     ]
    }
   ],
   "source": [
    "y_pred = random_forest.predict(X_test)\n",
    "y_pred_prob = [ 0 if x < 0.5 else 1 for x in y_pred]\n",
    "\n",
    "\n",
    "acc_table = classification_report(y_test, y_pred_prob)\n",
    "print(acc_table)\n",
    "\n",
    "print(\"roc_auc_score:\",metrics.roc_auc_score(y_test, y_pred_prob))\n",
    "print(\"cohen_kappa_score:\",metrics.cohen_kappa_score(y_test, y_pred_prob))"
   ]
  },
  {
   "cell_type": "code",
   "execution_count": null,
   "id": "4cf4ae60-21ff-4194-bd5e-06a5fba3948f",
   "metadata": {},
   "outputs": [],
   "source": [
    "test_auc, test_f1_score, best_t = validate_model(random_forest, X_train, X_test, y_train, y_test)\n",
    "\n",
    "print(\"Best Threshold = {:.4f}\".format(best_t))\n",
    "print(\"Model AUC is : {:.4f}\".format(test_auc))\n",
    "print(\"Model F1 Score is : {:.4f}\".format(test_f1_score))"
   ]
  },
  {
   "cell_type": "code",
   "execution_count": 130,
   "id": "5c7a7214-d3c2-40a3-8e15-58792d700d56",
   "metadata": {},
   "outputs": [
    {
     "data": {
      "image/png": "[encoded data removed]",
      "text/plain": [
       "<Figure size 640x480 with 1 Axes>"
      ]
     },
     "metadata": {},
     "output_type": "display_data"
    }
   ],
   "source": [
    "# 'feature_importances_' returns the features based on the gini importance\n",
    "\n",
    "random_forest_tuned_model = RandomForestClassifier(criterion = 'entropy', max_depth = 15, \n",
    "                                                   min_samples_split = 2, n_estimators = 90,\n",
    "                                                   random_state = 10)\n",
    "\n",
    "random_forest_tuned_model = random_forest_tuned_model.fit(X_train, y_train)\n",
    "\n",
    "important_features = pd.DataFrame({'Features': X_train.columns, \n",
    "                                   'Importance': random_forest_tuned_model.feature_importances_})\n",
    "\n",
    "important_features = important_features.sort_values('Importance', ascending = False)\n",
    "\n",
    "sns.barplot(x = 'Importance', y = 'Features', data = important_features)\n",
    "\n",
    "plt.title('Feature Importance', fontsize = 15)\n",
    "plt.xlabel('Importance', fontsize = 15)\n",
    "plt.ylabel('Features', fontsize = 15)\n",
    "\n",
    "plt.show()"
   ]
  },
  {
   "cell_type": "markdown",
   "id": "f86ad4ce-e28d-4dd6-9ee1-f277b846bfab",
   "metadata": {},
   "source": [
    "### GaussianNB Classifier"
   ]
  },
  {
   "cell_type": "code",
   "execution_count": 131,
   "id": "f7a5f16f-acf7-4bf4-88d7-ac80e78614db",
   "metadata": {},
   "outputs": [
    {
     "data": {
      "text/html": [
       "<style>#sk-container-id-4 {color: black;}#sk-container-id-4 pre{padding: 0;}#sk-container-id-4 div.sk-toggleable {background-color: white;}#sk-container-id-4 label.sk-toggleable__label {cursor: pointer;display: block;width: 100%;margin-bottom: 0;padding: 0.3em;box-sizing: border-box;text-align: center;}#sk-container-id-4 label.sk-toggleable__label-arrow:before {content: \"▸\";float: left;margin-right: 0.25em;color: #696969;}#sk-container-id-4 label.sk-toggleable__label-arrow:hover:before {color: black;}#sk-container-id-4 div.sk-estimator:hover label.sk-toggleable__label-arrow:before {color: black;}#sk-container-id-4 div.sk-toggleable__content {max-height: 0;max-width: 0;overflow: hidden;text-align: left;background-color: #f0f8ff;}#sk-container-id-4 div.sk-toggleable__content pre {margin: 0.2em;color: black;border-radius: 0.25em;background-color: #f0f8ff;}#sk-container-id-4 input.sk-toggleable__control:checked~div.sk-toggleable__content {max-height: 200px;max-width: 100%;overflow: auto;}#sk-container-id-4 input.sk-toggleable__control:checked~label.sk-toggleable__label-arrow:before {content: \"▾\";}#sk-container-id-4 div.sk-estimator input.sk-toggleable__control:checked~label.sk-toggleable__label {background-color: #d4ebff;}#sk-container-id-4 div.sk-label input.sk-toggleable__control:checked~label.sk-toggleable__label {background-color: #d4ebff;}#sk-container-id-4 input.sk-hidden--visually {border: 0;clip: rect(1px 1px 1px 1px);clip: rect(1px, 1px, 1px, 1px);height: 1px;margin: -1px;overflow: hidden;padding: 0;position: absolute;width: 1px;}#sk-container-id-4 div.sk-estimator {font-family: monospace;background-color: #f0f8ff;border: 1px dotted black;border-radius: 0.25em;box-sizing: border-box;margin-bottom: 0.5em;}#sk-container-id-4 div.sk-estimator:hover {background-color: #d4ebff;}#sk-container-id-4 div.sk-parallel-item::after {content: \"\";width: 100%;border-bottom: 1px solid gray;flex-grow: 1;}#sk-container-id-4 div.sk-label:hover label.sk-toggleable__label {background-color: #d4ebff;}#sk-container-id-4 div.sk-serial::before {content: \"\";position: absolute;border-left: 1px solid gray;box-sizing: border-box;top: 0;bottom: 0;left: 50%;z-index: 0;}#sk-container-id-4 div.sk-serial {display: flex;flex-direction: column;align-items: center;background-color: white;padding-right: 0.2em;padding-left: 0.2em;position: relative;}#sk-container-id-4 div.sk-item {position: relative;z-index: 1;}#sk-container-id-4 div.sk-parallel {display: flex;align-items: stretch;justify-content: center;background-color: white;position: relative;}#sk-container-id-4 div.sk-item::before, #sk-container-id-4 div.sk-parallel-item::before {content: \"\";position: absolute;border-left: 1px solid gray;box-sizing: border-box;top: 0;bottom: 0;left: 50%;z-index: -1;}#sk-container-id-4 div.sk-parallel-item {display: flex;flex-direction: column;z-index: 1;position: relative;background-color: white;}#sk-container-id-4 div.sk-parallel-item:first-child::after {align-self: flex-end;width: 50%;}#sk-container-id-4 div.sk-parallel-item:last-child::after {align-self: flex-start;width: 50%;}#sk-container-id-4 div.sk-parallel-item:only-child::after {width: 0;}#sk-container-id-4 div.sk-dashed-wrapped {border: 1px dashed gray;margin: 0 0.4em 0.5em 0.4em;box-sizing: border-box;padding-bottom: 0.4em;background-color: white;}#sk-container-id-4 div.sk-label label {font-family: monospace;font-weight: bold;display: inline-block;line-height: 1.2em;}#sk-container-id-4 div.sk-label-container {text-align: center;}#sk-container-id-4 div.sk-container {/* jupyter's `normalize.less` sets `[hidden] { display: none; }` but bootstrap.min.css set `[hidden] { display: none !important; }` so we also need the `!important` here to be able to override the default hidden behavior on the sphinx rendered scikit-learn.org. See: https://github.com/scikit-learn/scikit-learn/issues/21755 */display: inline-block !important;position: relative;}#sk-container-id-4 div.sk-text-repr-fallback {display: none;}</style><div id=\"sk-container-id-4\" class=\"sk-top-container\"><div class=\"sk-text-repr-fallback\"><pre>GaussianNB()</pre><b>In a Jupyter environment, please rerun this cell to show the HTML representation or trust the notebook. <br />On GitHub, the HTML representation is unable to render, please try loading this page with nbviewer.org.</b></div><div class=\"sk-container\" hidden><div class=\"sk-item\"><div class=\"sk-estimator sk-toggleable\"><input class=\"sk-toggleable__control sk-hidden--visually\" id=\"sk-estimator-id-6\" type=\"checkbox\" checked><label for=\"sk-estimator-id-6\" class=\"sk-toggleable__label sk-toggleable__label-arrow\">GaussianNB</label><div class=\"sk-toggleable__content\"><pre>GaussianNB()</pre></div></div></div></div></div>"
      ],
      "text/plain": [
       "GaussianNB()"
      ]
     },
     "execution_count": 131,
     "metadata": {},
     "output_type": "execute_result"
    }
   ],
   "source": [
    "#Create a Gaussian Classifier\n",
    "gaussian_nb = GaussianNB()\n",
    "gaussian_nb.fit(X_train, y_train)"
   ]
  },
  {
   "cell_type": "code",
   "execution_count": 132,
   "id": "8da259e9-93e6-403f-927c-0b335b9698f7",
   "metadata": {},
   "outputs": [
    {
     "name": "stdout",
     "output_type": "stream",
     "text": [
      "Train AUC =  0.5024448745549672\n",
      "Test AUC =  0.5023292346829737\n"
     ]
    },
    {
     "data": {
      "image/png": "[encoded data removed]",
      "text/plain": [
       "<Figure size 640x480 with 1 Axes>"
      ]
     },
     "metadata": {},
     "output_type": "display_data"
    },
    {
     "data": {
      "image/png": "[encoded data removed]",
      "text/plain": [
       "<Figure size 2000x600 with 4 Axes>"
      ]
     },
     "metadata": {},
     "output_type": "display_data"
    },
    {
     "name": "stdout",
     "output_type": "stream",
     "text": [
      "Best Threshold = 0.2918\n",
      "Model AUC is : 0.5023\n",
      "Model F1 Score is : 0.4245\n"
     ]
    }
   ],
   "source": [
    "# Validate NB model\n",
    "test_auc, test_f1_score, best_t = validate_model(gaussian_nb, X_train, X_test, y_train, y_test)\n",
    "\n",
    "print(\"Best Threshold = {:.4f}\".format(best_t))\n",
    "print(\"Model AUC is : {:.4f}\".format(test_auc))\n",
    "print(\"Model F1 Score is : {:.4f}\".format(test_f1_score))"
   ]
  },
  {
   "cell_type": "code",
   "execution_count": 133,
   "id": "c39d243f-3159-4196-b7d3-c9f9d67f2feb",
   "metadata": {},
   "outputs": [
    {
     "name": "stdout",
     "output_type": "stream",
     "text": [
      "              precision    recall  f1-score   support\n",
      "\n",
      "           0       0.63      0.94      0.76     65775\n",
      "           1       0.36      0.05      0.09     37773\n",
      "\n",
      "    accuracy                           0.62    103548\n",
      "   macro avg       0.50      0.50      0.43    103548\n",
      "weighted avg       0.53      0.62      0.52    103548\n",
      "\n",
      "roc_auc_score: 0.4994189124911428\n",
      "cohen_kappa_score: -0.001418900075334406\n"
     ]
    }
   ],
   "source": [
    "#Predict the response for test dataset\n",
    "y_pred = gaussian_nb.predict(X_test)\n",
    "\n",
    "\n",
    "# convert probabilities to 0 and 1 using 'if_else'\n",
    "y_pred_prob = [ 0 if x < 0.5 else 1 for x in y_pred]\n",
    "\n",
    "\n",
    "acc_table = classification_report(y_test, y_pred_prob)\n",
    "\n",
    "# print the table\n",
    "print(acc_table)\n",
    "\n",
    "print(\"roc_auc_score:\",metrics.roc_auc_score(y_test, y_pred))\n",
    "print(\"cohen_kappa_score:\",metrics.cohen_kappa_score(y_test, y_pred))"
   ]
  },
  {
   "cell_type": "markdown",
   "id": "57ca2232-5d73-4262-8dde-505a2bce6574",
   "metadata": {},
   "source": [
    "### KNN model on a training dataset using euclidean distance (Standardized Data)"
   ]
  },
  {
   "cell_type": "code",
   "execution_count": 134,
   "id": "fd213623-7c0c-43d7-b8aa-927dec3189a0",
   "metadata": {},
   "outputs": [],
   "source": [
    "knn_classification = KNeighborsClassifier(n_neighbors = 3)\n",
    "\n",
    "# fit the model using fit() on train data\n",
    "knn_model = knn_classification.fit(X_train, y_train)"
   ]
  },
  {
   "cell_type": "code",
   "execution_count": 135,
   "id": "c69629eb-e839-40cf-ae6d-c3d89ac50ddd",
   "metadata": {},
   "outputs": [
    {
     "name": "stdout",
     "output_type": "stream",
     "text": [
      "              precision    recall  f1-score   support\n",
      "\n",
      "           0       0.73      0.77      0.75     65775\n",
      "           1       0.56      0.51      0.53     37773\n",
      "\n",
      "    accuracy                           0.67    103548\n",
      "   macro avg       0.64      0.64      0.64    103548\n",
      "weighted avg       0.67      0.67      0.67    103548\n",
      "\n",
      "roc_auc_score: 0.6377984727285702\n",
      "cohen_kappa_score: 0.28088532039711145\n"
     ]
    }
   ],
   "source": [
    "#Predict the response for test dataset\n",
    "y_pred = knn_model.predict(X_test)\n",
    "\n",
    "\n",
    "# convert probabilities to 0 and 1 using 'if_else'\n",
    "y_pred_prob = [ 0 if x < 0.5 else 1 for x in y_pred]\n",
    "\n",
    "\n",
    "acc_table = classification_report(y_test, y_pred_prob)\n",
    "\n",
    "# print the table\n",
    "print(acc_table)\n",
    "\n",
    "print(\"roc_auc_score:\",metrics.roc_auc_score(y_test, y_pred))\n",
    "print(\"cohen_kappa_score:\",metrics.cohen_kappa_score(y_test, y_pred))"
   ]
  },
  {
   "cell_type": "code",
   "execution_count": 136,
   "id": "cce81384-c63f-4507-95b6-c00676a18566",
   "metadata": {},
   "outputs": [
    {
     "name": "stdout",
     "output_type": "stream",
     "text": [
      "              precision    recall  f1-score   support\n",
      "\n",
      "           0       0.73      0.77      0.75     65775\n",
      "           1       0.56      0.51      0.53     37773\n",
      "\n",
      "    accuracy                           0.67    103548\n",
      "   macro avg       0.64      0.64      0.64    103548\n",
      "weighted avg       0.67      0.67      0.67    103548\n",
      "\n"
     ]
    }
   ],
   "source": [
    "test_report = get_test_report(knn_model)\n",
    "\n",
    "# print the performace measures\n",
    "print(test_report)"
   ]
  },
  {
   "cell_type": "markdown",
   "id": "7c7d3f4a-4e37-44e8-8340-d3a3fc2c8326",
   "metadata": {},
   "source": [
    "# Results and Conclusions"
   ]
  },
  {
   "cell_type": "code",
   "execution_count": 137,
   "id": "90ff30cd-04d4-404b-b064-1fa490da0d29",
   "metadata": {},
   "outputs": [
    {
     "name": "stdout",
     "output_type": "stream",
     "text": [
      "+-------------------+----------+-----------+--------+----------+-------+-------+\n",
      "|    Model Name     | Accuracy | Precision | Recall | F1 Score |  AUC  | Kappa |\n",
      "|                   |          |           |        |          |       |       |\n",
      "+-------------------+----------+-----------+--------+----------+-------+-------+\n",
      "| Logistic Regressi |   0.64   |   0.64    |  1.0   |   0.78   |  0.5  |   0   |\n",
      "|        on         |          |           |        |          |       |       |\n",
      "+-------------------+----------+-----------+--------+----------+-------+-------+\n",
      "| Base Decision Tre |   0.64   |   0.64    |  0.99  |   0.78   | 0.52  |  0.2  |\n",
      "|        e          |          |           |        |          |       |       |\n",
      "+-------------------+----------+-----------+--------+----------+-------+-------+\n",
      "|  Random Forest    |   0.64   |   0.64    |  1.0   |   0.78   |  0.5  | 3.36  |\n",
      "+-------------------+----------+-----------+--------+----------+-------+-------+\n",
      "|    GaussianNB     |   0.62   |   0.63    |  0.94  |   0.76   | 0.49  | 0.001 |\n",
      "+-------------------+----------+-----------+--------+----------+-------+-------+\n",
      "|        Knn        |   0.67   |   0.73    |  0.77  |   0.75   | 0.63  | 0.28  |\n",
      "+-------------------+----------+-----------+--------+----------+-------+-------+\n"
     ]
    }
   ],
   "source": [
    "from beautifultable import BeautifulTable\n",
    "table = BeautifulTable()\n",
    "table.column_headers= [\"Model Name\",'Accuracy','Precision ','Recall', \"F1 Score\",\" AUC \",'Kappa']\n",
    "table.append_row([\"Logistic Regression\", \"0.64\", \"0.64\",\"1.00\", \"0.78\",'0.50','0'])\n",
    "table.append_row([\"Base Decision Tree \", \"0.64\", \"0.64\",\"0.99\", \"0.78\",'0.52','0.2'])\n",
    "table.append_row([\"Random Forest \", \"0.64\", \"0.64\",\"1.00\", \"0.78\",'0.5','3.36'])\n",
    "table.append_row([\"GaussianNB\", \"0.62\", \"0.63\",\"0.94\", \"0.76\",'0.49','0.001'])\n",
    "table.append_row([\"Knn\", \"0.67\", \"0.73\",\"0.77\", \"0.75\",'0.63','0.28'])\n",
    "\n",
    "print(table)"
   ]
  },
  {
   "cell_type": "code",
   "execution_count": null,
   "id": "f3c1d094-8f0c-49fb-8eff-4afd4ce4868d",
   "metadata": {},
   "outputs": [],
   "source": []
  }
 ],
 "metadata": {
  "kernelspec": {
   "display_name": "Python 3 (ipykernel)",
   "language": "python",
   "name": "python3"
  },
  "language_info": {
   "codemirror_mode": {
    "name": "ipython",
    "version": 3
   },
   "file_extension": ".py",
   "mimetype": "text/x-python",
   "name": "python",
   "nbconvert_exporter": "python",
   "pygments_lexer": "ipython3",
   "version": "3.10.4"
  }
 },
 "nbformat": 4,
 "nbformat_minor": 5
}
